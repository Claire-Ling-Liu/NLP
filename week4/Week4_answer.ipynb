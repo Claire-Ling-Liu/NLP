{
 "cells": [
  {
   "cell_type": "markdown",
   "metadata": {},
   "source": [
    "# 1. Penn Treebank & NLTK"
   ]
  },
  {
   "cell_type": "markdown",
   "metadata": {},
   "source": [
    "The Penn Treebank Project\n",
    "https://web.archive.org/web/19970614160127/http://www.cis.upenn.edu:80/~treebank/"
   ]
  },
  {
   "cell_type": "markdown",
   "metadata": {},
   "source": [
    "Penn Treebank POS tags https://www.ling.upenn.edu/courses/Fall_2003/ling001/penn_treebank_pos.html"
   ]
  },
  {
   "cell_type": "raw",
   "metadata": {},
   "source": [
    "It has no bearing on our work force today ."
   ]
  },
  {
   "cell_type": "markdown",
   "metadata": {},
   "source": [
    "#Tree structure"
   ]
  },
  {
   "cell_type": "markdown",
   "metadata": {},
   "source": [
    "<img src=\"img/tree1.png\" alt=\"Drawing\" style=\"width: 400px;\"/>"
   ]
  },
  {
   "cell_type": "markdown",
   "metadata": {},
   "source": [
    "#Parsed sentence"
   ]
  },
  {
   "cell_type": "raw",
   "metadata": {},
   "source": [
    "( (S \n",
    "    (NP-SBJ (PRP It) )\n",
    "    (VP (VBZ has) \n",
    "      (NP \n",
    "        (NP (DT no) (NN bearing) )\n",
    "        (PP-DIR (IN on) \n",
    "          (NP \n",
    "            (NP (PRP$ our) (NN work) (NN force) )\n",
    "            (NP-TMP (NN today) )))))\n",
    "    (. .) ))"
   ]
  },
  {
   "cell_type": "markdown",
   "metadata": {},
   "source": [
    " "
   ]
  },
  {
   "cell_type": "raw",
   "metadata": {},
   "source": [
    "Although preliminary findings were repored more than a year ago , the latest results appear in today's New England Journal of Medicine , a forum likely to bring new attention to the problem ."
   ]
  },
  {
   "cell_type": "markdown",
   "metadata": {},
   "source": [
    "#Tree structure"
   ]
  },
  {
   "cell_type": "markdown",
   "metadata": {},
   "source": [
    "<img src=\"img/tree2.png\" alt=\"Drawing\" style=\"width: 1000px;\"/>"
   ]
  },
  {
   "cell_type": "markdown",
   "metadata": {},
   "source": [
    "#Parsed sentence"
   ]
  },
  {
   "cell_type": "raw",
   "metadata": {},
   "source": [
    "( (S \n",
    "    (SBAR-ADV (IN Although) \n",
    "      (S \n",
    "        (NP-SBJ-2 (JJ preliminary) (NNS findings) )\n",
    "        (VP (VBD were) \n",
    "          (VP (VBN reported) \n",
    "            (NP (-NONE- *-2) )\n",
    "            (ADVP-TMP \n",
    "              (NP \n",
    "                (QP (RBR more) (IN than) (DT a) )\n",
    "                (NN year) )\n",
    "              (IN ago) )))))\n",
    "    (, ,) \n",
    "    (NP-SBJ (DT the) (JJS latest) (NNS results) )\n",
    "    (VP (VBP appear) \n",
    "      (PP-LOC (IN in) \n",
    "        (NP \n",
    "          (NP \n",
    "            (NP \n",
    "              (NP (NN today) (POS 's) )\n",
    "              (NNP New) (NNP England) (NNP Journal) )\n",
    "            (PP (IN of) \n",
    "              (NP (NNP Medicine) )))\n",
    "          (, ,) \n",
    "          (NP \n",
    "            (NP (DT a) (NN forum) )\n",
    "            (ADJP (JJ likely) \n",
    "              (S \n",
    "                (NP-SBJ (-NONE- *) )\n",
    "                (VP (TO to) \n",
    "                  (VP (VB bring) \n",
    "                    (NP (JJ new) (NN attention) )\n",
    "                    (PP-DIR (TO to) \n",
    "                      (NP (DT the) (NN problem) ))))))))))\n",
    "    (. .) ))"
   ]
  },
  {
   "cell_type": "raw",
   "metadata": {},
   "source": []
  },
  {
   "cell_type": "markdown",
   "metadata": {},
   "source": [
    "#Exercise 1:\n",
    "\n",
    "We have a sentence:\n",
    "\n",
    "\"I love NLP .\"\n",
    "\n",
    "Could you draw its tree structure and its parsed sentence structure in the form introducted above?"
   ]
  },
  {
   "cell_type": "raw",
   "metadata": {},
   "source": []
  },
  {
   "cell_type": "raw",
   "metadata": {},
   "source": [
    "#Example Answer:\n",
    "\n",
    "-Parsed sentence:\n",
    "( (S\n",
    "    (NP-SBJ (PRP I) )\n",
    "    (VP (VBP love) \n",
    "        (NP (NNP NLP) )\n",
    "    (. .) ))"
   ]
  },
  {
   "cell_type": "markdown",
   "metadata": {},
   "source": [
    "### Penn Treebank in nltk"
   ]
  },
  {
   "cell_type": "markdown",
   "metadata": {},
   "source": [
    "The corpus module in nltk defines the treebank corpus reader, which contains a 10% sample of the Penn Treebank corpus.\n",
    "If you'd like to see more parsed sentence examples, you can install the nltk module and try the following example code. (More inforemation can be found at http://www.nltk.org/book/ch08.html) "
   ]
  },
  {
   "cell_type": "raw",
   "metadata": {},
   "source": [
    ">>> from nltk.corpus import treebank\n",
    ">>> t = treebank.parsed_sents('wsj_0001.mrg')[0]\n",
    ">>> print(t)\n",
    "(S\n",
    "  (NP-SBJ\n",
    "    (NP (NNP Pierre) (NNP Vinken))\n",
    "    (, ,)\n",
    "    (ADJP (NP (CD 61) (NNS years)) (JJ old))\n",
    "    (, ,))\n",
    "  (VP\n",
    "    (MD will)\n",
    "    (VP\n",
    "      (VB join)\n",
    "      (NP (DT the) (NN board))\n",
    "      (PP-CLR\n",
    "        (IN as)\n",
    "        (NP (DT a) (JJ nonexecutive) (NN director)))\n",
    "      (NP-TMP (NNP Nov.) (CD 29))))\n",
    "  (. .))"
   ]
  },
  {
   "cell_type": "markdown",
   "metadata": {},
   "source": [
    "# 2. Function"
   ]
  },
  {
   "cell_type": "markdown",
   "metadata": {},
   "source": [
    "Reading the Penn Treebank corpus sections 00-18 into a list of tuples"
   ]
  },
  {
   "cell_type": "code",
   "execution_count": 2,
   "metadata": {
    "collapsed": true
   },
   "outputs": [],
   "source": [
    "lines = [line.strip() for line in open('wsj00-18.tag') if \"\\t\" in line]"
   ]
  },
  {
   "cell_type": "code",
   "execution_count": 3,
   "metadata": {
    "collapsed": false
   },
   "outputs": [],
   "source": [
    "wordtags = [(l.split(\"\\t\")[0],l.split(\"\\t\")[1]) for l in lines]"
   ]
  },
  {
   "cell_type": "code",
   "execution_count": 4,
   "metadata": {
    "collapsed": false
   },
   "outputs": [
    {
     "data": {
      "text/plain": [
       "[('Pierre', 'NNP'),\n",
       " ('Vinken', 'NNP'),\n",
       " (',', ','),\n",
       " ('61', 'CD'),\n",
       " ('years', 'NNS'),\n",
       " ('old', 'JJ'),\n",
       " (',', ','),\n",
       " ('will', 'MD'),\n",
       " ('join', 'VB'),\n",
       " ('the', 'DT')]"
      ]
     },
     "execution_count": 4,
     "metadata": {},
     "output_type": "execute_result"
    }
   ],
   "source": [
    "wordtags[:10]"
   ]
  },
  {
   "cell_type": "markdown",
   "metadata": {},
   "source": [
    "What if we want to read more than one file into a list? Do we repeat the same lines several times by changing only the file names?\n",
    "Nope. Whenver we find ourselves reuse code by copying it and adapt it to its different contexts, it's time to define a function!"
   ]
  },
  {
   "cell_type": "code",
   "execution_count": 5,
   "metadata": {
    "collapsed": true
   },
   "outputs": [],
   "source": [
    "def Text2Tuplelist(filename):\n",
    "    lines = lines = [line.strip() for line in open(filename) if \"\\t\" in line]\n",
    "    wordtags = [(l.split(\"\\t\")[0],l.split(\"\\t\")[1]) for l in lines]\n",
    "    return wordtags"
   ]
  },
  {
   "cell_type": "code",
   "execution_count": 6,
   "metadata": {
    "collapsed": true
   },
   "outputs": [],
   "source": [
    "wordtags00_18 = Text2Tuplelist('wsj00-18.tag')"
   ]
  },
  {
   "cell_type": "code",
   "execution_count": 7,
   "metadata": {
    "collapsed": false
   },
   "outputs": [
    {
     "data": {
      "text/plain": [
       "True"
      ]
     },
     "execution_count": 7,
     "metadata": {},
     "output_type": "execute_result"
    }
   ],
   "source": [
    "wordtags00_18 == wordtags"
   ]
  },
  {
   "cell_type": "code",
   "execution_count": 8,
   "metadata": {
    "collapsed": true
   },
   "outputs": [],
   "source": [
    "wordtags19_21 = Text2Tuplelist('wsj19-21.tag')"
   ]
  },
  {
   "cell_type": "code",
   "execution_count": 9,
   "metadata": {
    "collapsed": false
   },
   "outputs": [],
   "source": [
    "wordtags22_24 = Text2Tuplelist('wsj22-24.tag')"
   ]
  },
  {
   "cell_type": "markdown",
   "metadata": {},
   "source": [
    "# 3. Iterables, especially lists, sets, and dictionaries"
   ]
  },
  {
   "cell_type": "code",
   "execution_count": 10,
   "metadata": {
    "collapsed": true
   },
   "outputs": [],
   "source": [
    "#Combining lists\n",
    "wordtags_all = wordtags00_18 + wordtags19_21 + wordtags22_24"
   ]
  },
  {
   "cell_type": "code",
   "execution_count": 11,
   "metadata": {
    "collapsed": false
   },
   "outputs": [
    {
     "name": "stdout",
     "output_type": "stream",
     "text": [
      "{'dog', 'cat'}\n",
      "['dog', 'cat']\n"
     ]
    }
   ],
   "source": [
    "#convert a list to a set or vice versa\n",
    "list2set = set(['cat', 'dog'])\n",
    "print (list2set)\n",
    "\n",
    "set2list = list({'cat', 'dog'})\n",
    "print (set2list)"
   ]
  },
  {
   "cell_type": "code",
   "execution_count": 12,
   "metadata": {
    "collapsed": false
   },
   "outputs": [
    {
     "name": "stdout",
     "output_type": "stream",
     "text": [
      "{'dog': 3, 'cat': 4}\n"
     ]
    }
   ],
   "source": [
    "#convert a list of tuples of two elements each to a dictionary\n",
    "list2dt = dict([('cat', 4), ('dog', 3)])\n",
    "print (list2dt)\n",
    "#This works only if you want keep one value for each key"
   ]
  },
  {
   "cell_type": "code",
   "execution_count": 13,
   "metadata": {
    "collapsed": false
   },
   "outputs": [
    {
     "name": "stdout",
     "output_type": "stream",
     "text": [
      "{'dog': 3, 'cat': 5}\n"
     ]
    }
   ],
   "source": [
    "list2dt = dict([('cat', 4), ('dog', 3), ('cat', 5)])\n",
    "print (list2dt)"
   ]
  },
  {
   "cell_type": "markdown",
   "metadata": {},
   "source": [
    "What if we want to keep all the values? For example, what if we want to know for each token type in the Penn treebank corpus, what are its tags?\n",
    "\n",
    "Dictionary = {word:taglist}"
   ]
  },
  {
   "cell_type": "code",
   "execution_count": 14,
   "metadata": {
    "collapsed": false
   },
   "outputs": [
    {
     "data": {
      "text/plain": [
       "['NNP', 'NNP', 'NNP', 'NNP', 'NNP', 'NNP']"
      ]
     },
     "execution_count": 14,
     "metadata": {},
     "output_type": "execute_result"
    }
   ],
   "source": [
    "#Code one\n",
    "wordtags_dict = {}\n",
    "for word, tag in wordtags_all:\n",
    "    if word not in wordtags_dict:\n",
    "        wordtags_dict[word] = [tag]\n",
    "    else:\n",
    "        wordtags_dict[word].append(tag)\n",
    "\n",
    "wordtags_dict['Boulder']"
   ]
  },
  {
   "cell_type": "code",
   "execution_count": 15,
   "metadata": {
    "collapsed": false
   },
   "outputs": [],
   "source": [
    "#Code two\n",
    "from collections import defaultdict\n",
    "\n",
    "d = defaultdict(list)\n",
    "for word, tag in wordtags_all:\n",
    "    d[word].append(tag)"
   ]
  },
  {
   "cell_type": "code",
   "execution_count": 16,
   "metadata": {
    "collapsed": false
   },
   "outputs": [
    {
     "data": {
      "text/plain": [
       "['NNP', 'NNP', 'NNP', 'NNP', 'NNP', 'NNP']"
      ]
     },
     "execution_count": 16,
     "metadata": {},
     "output_type": "execute_result"
    }
   ],
   "source": [
    "d['Boulder']"
   ]
  },
  {
   "cell_type": "code",
   "execution_count": 17,
   "metadata": {
    "collapsed": false
   },
   "outputs": [
    {
     "data": {
      "text/plain": [
       "True"
      ]
     },
     "execution_count": 17,
     "metadata": {},
     "output_type": "execute_result"
    }
   ],
   "source": [
    "d == wordtags_dict"
   ]
  },
  {
   "cell_type": "markdown",
   "metadata": {},
   "source": [
    "How to get the list of token types with exactly 1 tag / 2 tags / 3 tags"
   ]
  },
  {
   "cell_type": "code",
   "execution_count": 18,
   "metadata": {
    "collapsed": false
   },
   "outputs": [
    {
     "data": {
      "text/plain": [
       "42586"
      ]
     },
     "execution_count": 18,
     "metadata": {},
     "output_type": "execute_result"
    }
   ],
   "source": [
    "onetagwords = [(word, set(tags)) for word, tags in d.items() if len(set(tags)) == 1]\n",
    "len(onetagwords)"
   ]
  },
  {
   "cell_type": "markdown",
   "metadata": {},
   "source": [
    "How to get the count of each tag for each token type?\n",
    "For example, for 'have' in the Penn treebank corpus, what are its tags and how many times each tag is tagged to 'have'?"
   ]
  },
  {
   "cell_type": "code",
   "execution_count": 19,
   "metadata": {
    "collapsed": false
   },
   "outputs": [
    {
     "data": {
      "text/plain": [
       "['VBP',\n",
       " 'VBP',\n",
       " 'VBP',\n",
       " 'VB',\n",
       " 'VBP',\n",
       " 'VBP',\n",
       " 'VBP',\n",
       " 'VBP',\n",
       " 'VBP',\n",
       " 'VBP',\n",
       " 'VBP',\n",
       " 'VBP',\n",
       " 'VB',\n",
       " 'VB',\n",
       " 'VB',\n",
       " 'VBP',\n",
       " 'VBP',\n",
       " 'VBP',\n",
       " 'VBP',\n",
       " 'VBP',\n",
       " 'VBP',\n",
       " 'VBP',\n",
       " 'VBP',\n",
       " 'VBP',\n",
       " 'VBP',\n",
       " 'VBP',\n",
       " 'VBP',\n",
       " 'VBP',\n",
       " 'VBP',\n",
       " 'VB',\n",
       " 'VBP',\n",
       " 'VB',\n",
       " 'VBP',\n",
       " 'VBP',\n",
       " 'VB',\n",
       " 'VB',\n",
       " 'VB',\n",
       " 'VB',\n",
       " 'VBP',\n",
       " 'VB',\n",
       " 'VB',\n",
       " 'VBP',\n",
       " 'VBP',\n",
       " 'VBP',\n",
       " 'VBP',\n",
       " 'VB',\n",
       " 'VB',\n",
       " 'VB',\n",
       " 'VBP',\n",
       " 'VB',\n",
       " 'VBP',\n",
       " 'VBP',\n",
       " 'VBP',\n",
       " 'VB',\n",
       " 'VBP',\n",
       " 'VB',\n",
       " 'VBP',\n",
       " 'VB',\n",
       " 'VBP',\n",
       " 'VB',\n",
       " 'VBP',\n",
       " 'VBP',\n",
       " 'VBP',\n",
       " 'VBP',\n",
       " 'VBP',\n",
       " 'VBP',\n",
       " 'VBP',\n",
       " 'VBP',\n",
       " 'VBP',\n",
       " 'VBP',\n",
       " 'VBP',\n",
       " 'VBP',\n",
       " 'VB',\n",
       " 'VBP',\n",
       " 'VBP',\n",
       " 'VB',\n",
       " 'VB',\n",
       " 'VB',\n",
       " 'VBP',\n",
       " 'VB',\n",
       " 'VBP',\n",
       " 'VBP',\n",
       " 'VBP',\n",
       " 'VBP',\n",
       " 'VB',\n",
       " 'VB',\n",
       " 'VBP',\n",
       " 'VB',\n",
       " 'VBP',\n",
       " 'VB',\n",
       " 'VBP',\n",
       " 'VB',\n",
       " 'VB',\n",
       " 'VBP',\n",
       " 'VBP',\n",
       " 'VBP',\n",
       " 'VB',\n",
       " 'VB',\n",
       " 'VB',\n",
       " 'VBP',\n",
       " 'VB',\n",
       " 'VBP',\n",
       " 'VBP',\n",
       " 'VBP',\n",
       " 'VB',\n",
       " 'VB',\n",
       " 'VBP',\n",
       " 'VBP',\n",
       " 'VBP',\n",
       " 'VBP',\n",
       " 'VBP',\n",
       " 'VBP',\n",
       " 'VBP',\n",
       " 'VBP',\n",
       " 'VB',\n",
       " 'VB',\n",
       " 'VBP',\n",
       " 'VBP',\n",
       " 'VBP',\n",
       " 'VB',\n",
       " 'VBP',\n",
       " 'VBP',\n",
       " 'VBP',\n",
       " 'VBP',\n",
       " 'VB',\n",
       " 'VBP',\n",
       " 'VBP',\n",
       " 'VBP',\n",
       " 'VB',\n",
       " 'VBP',\n",
       " 'VBP',\n",
       " 'VBP',\n",
       " 'VB',\n",
       " 'VBP',\n",
       " 'VB',\n",
       " 'VBP',\n",
       " 'VBP',\n",
       " 'VB',\n",
       " 'VB',\n",
       " 'VBP',\n",
       " 'VBP',\n",
       " 'VBP',\n",
       " 'VBP',\n",
       " 'VBP',\n",
       " 'VBP',\n",
       " 'VBP',\n",
       " 'VBP',\n",
       " 'VBP',\n",
       " 'VBP',\n",
       " 'VBP',\n",
       " 'VBP',\n",
       " 'VBP',\n",
       " 'VBP',\n",
       " 'VBP',\n",
       " 'VB',\n",
       " 'VBP',\n",
       " 'VBP',\n",
       " 'VBP',\n",
       " 'VBP',\n",
       " 'VB',\n",
       " 'VB',\n",
       " 'VBP',\n",
       " 'VBP',\n",
       " 'VBP',\n",
       " 'VBP',\n",
       " 'VB',\n",
       " 'VBP',\n",
       " 'VBP',\n",
       " 'VBP',\n",
       " 'VBP',\n",
       " 'VBP',\n",
       " 'VBP',\n",
       " 'VBP',\n",
       " 'VBP',\n",
       " 'VBP',\n",
       " 'VBP',\n",
       " 'VBP',\n",
       " 'VBP',\n",
       " 'VB',\n",
       " 'VB',\n",
       " 'VBP',\n",
       " 'VBP',\n",
       " 'VBP',\n",
       " 'VBP',\n",
       " 'VB',\n",
       " 'VB',\n",
       " 'VBP',\n",
       " 'VBP',\n",
       " 'VBP',\n",
       " 'VBP',\n",
       " 'VBP',\n",
       " 'VBP',\n",
       " 'VBP',\n",
       " 'VBP',\n",
       " 'VBP',\n",
       " 'VB',\n",
       " 'VBP',\n",
       " 'VBP',\n",
       " 'VBP',\n",
       " 'VBP',\n",
       " 'VBP',\n",
       " 'VB',\n",
       " 'VBD',\n",
       " 'VB',\n",
       " 'VB',\n",
       " 'VBP',\n",
       " 'VBP',\n",
       " 'VBP',\n",
       " 'VBP',\n",
       " 'VB',\n",
       " 'VBP',\n",
       " 'VB',\n",
       " 'VB',\n",
       " 'VB',\n",
       " 'VB',\n",
       " 'VBP',\n",
       " 'VBP',\n",
       " 'VB',\n",
       " 'VB',\n",
       " 'VBP',\n",
       " 'VBP',\n",
       " 'VBP',\n",
       " 'VBP',\n",
       " 'VBP',\n",
       " 'VB',\n",
       " 'VB',\n",
       " 'VB',\n",
       " 'VBP',\n",
       " 'VB',\n",
       " 'VBP',\n",
       " 'VBP',\n",
       " 'VB',\n",
       " 'VBP',\n",
       " 'VBP',\n",
       " 'VB',\n",
       " 'VBP',\n",
       " 'VBP',\n",
       " 'VBP',\n",
       " 'VBP',\n",
       " 'VBP',\n",
       " 'VBP',\n",
       " 'VBP',\n",
       " 'VBP',\n",
       " 'VBP',\n",
       " 'VB',\n",
       " 'VBP',\n",
       " 'VB',\n",
       " 'VBP',\n",
       " 'VB',\n",
       " 'VB',\n",
       " 'VB',\n",
       " 'VBP',\n",
       " 'VB',\n",
       " 'VB',\n",
       " 'VBP',\n",
       " 'VBP',\n",
       " 'VBP',\n",
       " 'VBP',\n",
       " 'VBP',\n",
       " 'VBP',\n",
       " 'VB',\n",
       " 'VB',\n",
       " 'VB',\n",
       " 'VB',\n",
       " 'VBP',\n",
       " 'VB',\n",
       " 'VBP',\n",
       " 'VB',\n",
       " 'VBP',\n",
       " 'VBP',\n",
       " 'VB',\n",
       " 'VBP',\n",
       " 'VBP',\n",
       " 'VBP',\n",
       " 'VBP',\n",
       " 'VBP',\n",
       " 'VBP',\n",
       " 'VB',\n",
       " 'VBP',\n",
       " 'VBP',\n",
       " 'VB',\n",
       " 'VBP',\n",
       " 'VBP',\n",
       " 'VBP',\n",
       " 'VBP',\n",
       " 'VB',\n",
       " 'VB',\n",
       " 'VBP',\n",
       " 'VBP',\n",
       " 'VB',\n",
       " 'VBP',\n",
       " 'VB',\n",
       " 'VBP',\n",
       " 'VBP',\n",
       " 'VB',\n",
       " 'VB',\n",
       " 'VB',\n",
       " 'VBP',\n",
       " 'VBP',\n",
       " 'VB',\n",
       " 'VBP',\n",
       " 'VBP',\n",
       " 'VBP',\n",
       " 'VBP',\n",
       " 'VB',\n",
       " 'VB',\n",
       " 'VB',\n",
       " 'VBP',\n",
       " 'VBP',\n",
       " 'VB',\n",
       " 'VBP',\n",
       " 'VBP',\n",
       " 'VBP',\n",
       " 'VBP',\n",
       " 'VBP',\n",
       " 'VBP',\n",
       " 'VBP',\n",
       " 'VBP',\n",
       " 'VBP',\n",
       " 'VB',\n",
       " 'VB',\n",
       " 'VBP',\n",
       " 'VBP',\n",
       " 'VB',\n",
       " 'VBP',\n",
       " 'VB',\n",
       " 'VB',\n",
       " 'VB',\n",
       " 'VBP',\n",
       " 'VB',\n",
       " 'VB',\n",
       " 'VBP',\n",
       " 'VB',\n",
       " 'VBP',\n",
       " 'VBP',\n",
       " 'VB',\n",
       " 'VBP',\n",
       " 'VBP',\n",
       " 'VBP',\n",
       " 'VBP',\n",
       " 'VB',\n",
       " 'VBP',\n",
       " 'VBP',\n",
       " 'VB',\n",
       " 'VBP',\n",
       " 'VBP',\n",
       " 'VBP',\n",
       " 'VB',\n",
       " 'VBP',\n",
       " 'VBP',\n",
       " 'VB',\n",
       " 'VBP',\n",
       " 'VBP',\n",
       " 'VBP',\n",
       " 'VB',\n",
       " 'VB',\n",
       " 'VBP',\n",
       " 'VBP',\n",
       " 'VBP',\n",
       " 'VBP',\n",
       " 'VBP',\n",
       " 'VB',\n",
       " 'VB',\n",
       " 'VBP',\n",
       " 'VB',\n",
       " 'VB',\n",
       " 'VBP',\n",
       " 'VBP',\n",
       " 'VB',\n",
       " 'VBP',\n",
       " 'VBP',\n",
       " 'VB',\n",
       " 'VBP',\n",
       " 'VBP',\n",
       " 'VBP',\n",
       " 'VBP',\n",
       " 'VB',\n",
       " 'VBP',\n",
       " 'VBP',\n",
       " 'VBP',\n",
       " 'VB',\n",
       " 'VB',\n",
       " 'VBP',\n",
       " 'VBP',\n",
       " 'VBP',\n",
       " 'VBP',\n",
       " 'VBP',\n",
       " 'VB',\n",
       " 'VB',\n",
       " 'VB',\n",
       " 'VBP',\n",
       " 'VB',\n",
       " 'VB',\n",
       " 'VB',\n",
       " 'VBP',\n",
       " 'VBP',\n",
       " 'VBP',\n",
       " 'VBP',\n",
       " 'VB',\n",
       " 'VBP',\n",
       " 'VBP',\n",
       " 'VBP',\n",
       " 'VB',\n",
       " 'VB',\n",
       " 'VBP',\n",
       " 'VB',\n",
       " 'VB',\n",
       " 'VB',\n",
       " 'VBP',\n",
       " 'VB',\n",
       " 'VBP',\n",
       " 'VBP',\n",
       " 'VBP',\n",
       " 'VB',\n",
       " 'VB',\n",
       " 'VB',\n",
       " 'VBP',\n",
       " 'VBP',\n",
       " 'VBP',\n",
       " 'VB',\n",
       " 'VB',\n",
       " 'VBP',\n",
       " 'VBP',\n",
       " 'VBP',\n",
       " 'VBP',\n",
       " 'VB',\n",
       " 'VBP',\n",
       " 'VBP',\n",
       " 'VB',\n",
       " 'VBP',\n",
       " 'VBP',\n",
       " 'VBP',\n",
       " 'VBP',\n",
       " 'VBP',\n",
       " 'VB',\n",
       " 'VBP',\n",
       " 'VB',\n",
       " 'VBP',\n",
       " 'VBP',\n",
       " 'VB',\n",
       " 'VB',\n",
       " 'VBP',\n",
       " 'VBP',\n",
       " 'VBP',\n",
       " 'VBP',\n",
       " 'VBP',\n",
       " 'VBP',\n",
       " 'VBP',\n",
       " 'VBP',\n",
       " 'VBP',\n",
       " 'VBP',\n",
       " 'VBP',\n",
       " 'VBP',\n",
       " 'VBP',\n",
       " 'VB',\n",
       " 'VBP',\n",
       " 'VBP',\n",
       " 'VBP',\n",
       " 'VBP',\n",
       " 'VBP',\n",
       " 'VBP',\n",
       " 'VBP',\n",
       " 'VBP',\n",
       " 'VB',\n",
       " 'VB',\n",
       " 'VBP',\n",
       " 'VBP',\n",
       " 'VBP',\n",
       " 'VBP',\n",
       " 'VBP',\n",
       " 'VB',\n",
       " 'VB',\n",
       " 'VB',\n",
       " 'VBP',\n",
       " 'VBP',\n",
       " 'VBP',\n",
       " 'VBP',\n",
       " 'VBP',\n",
       " 'VBP',\n",
       " 'VBP',\n",
       " 'VB',\n",
       " 'VBP',\n",
       " 'VB',\n",
       " 'VBP',\n",
       " 'VBP',\n",
       " 'VB',\n",
       " 'VBP',\n",
       " 'VB',\n",
       " 'VB',\n",
       " 'VBP',\n",
       " 'VBP',\n",
       " 'VBP',\n",
       " 'VBP',\n",
       " 'VBP',\n",
       " 'VBP',\n",
       " 'VBP',\n",
       " 'VBP',\n",
       " 'VB',\n",
       " 'VBP',\n",
       " 'VB',\n",
       " 'VB',\n",
       " 'VBP',\n",
       " 'VB',\n",
       " 'VB',\n",
       " 'VB',\n",
       " 'VB',\n",
       " 'VBP',\n",
       " 'VB',\n",
       " 'VBP',\n",
       " 'VBP',\n",
       " 'VB',\n",
       " 'VB',\n",
       " 'VB',\n",
       " 'VB',\n",
       " 'VB',\n",
       " 'VB',\n",
       " 'VBP',\n",
       " 'VBP',\n",
       " 'VB',\n",
       " 'VB',\n",
       " 'VBP',\n",
       " 'VB',\n",
       " 'VBP',\n",
       " 'VB',\n",
       " 'VBP',\n",
       " 'VB',\n",
       " 'VB',\n",
       " 'VBP',\n",
       " 'VBP',\n",
       " 'VBP',\n",
       " 'VBP',\n",
       " 'VBP',\n",
       " 'VBP',\n",
       " 'VB',\n",
       " 'VB',\n",
       " 'VB',\n",
       " 'VB',\n",
       " 'VB',\n",
       " 'VB',\n",
       " 'VB',\n",
       " 'VBP',\n",
       " 'VBP',\n",
       " 'VBP',\n",
       " 'VBP',\n",
       " 'VBP',\n",
       " 'VBP',\n",
       " 'VBP',\n",
       " 'VBP',\n",
       " 'VBP',\n",
       " 'VBP',\n",
       " 'VBP',\n",
       " 'VB',\n",
       " 'VBP',\n",
       " 'VB',\n",
       " 'VBP',\n",
       " 'VBP',\n",
       " 'VBP',\n",
       " 'VBP',\n",
       " 'VB',\n",
       " 'VB',\n",
       " 'VBP',\n",
       " 'VBP',\n",
       " 'VBP',\n",
       " 'VBP',\n",
       " 'VBP',\n",
       " 'VBP',\n",
       " 'VBP',\n",
       " 'VB',\n",
       " 'VB',\n",
       " 'VB',\n",
       " 'VBP',\n",
       " 'VBP',\n",
       " 'VBP',\n",
       " 'VBP',\n",
       " 'VBP',\n",
       " 'VBP',\n",
       " 'VB',\n",
       " 'VB',\n",
       " 'VB',\n",
       " 'VB',\n",
       " 'VBP',\n",
       " 'VBP',\n",
       " 'VBP',\n",
       " 'VBP',\n",
       " 'VBP',\n",
       " 'VBP',\n",
       " 'VBP',\n",
       " 'VBP',\n",
       " 'VBP',\n",
       " 'VBP',\n",
       " 'VBP',\n",
       " 'VBP',\n",
       " 'VBP',\n",
       " 'VBP',\n",
       " 'VBP',\n",
       " 'VBP',\n",
       " 'VBP',\n",
       " 'VBP',\n",
       " 'VBP',\n",
       " 'VB',\n",
       " 'VBP',\n",
       " 'VBP',\n",
       " 'VBP',\n",
       " 'VBP',\n",
       " 'VBP',\n",
       " 'VBP',\n",
       " 'VBP',\n",
       " 'VBP',\n",
       " 'VBP',\n",
       " 'VB',\n",
       " 'VB',\n",
       " 'VB',\n",
       " 'VBP',\n",
       " 'VBP',\n",
       " 'VBP',\n",
       " 'VBP',\n",
       " 'VB',\n",
       " 'VBP',\n",
       " 'VB',\n",
       " 'VBP',\n",
       " 'VBP',\n",
       " 'VBP',\n",
       " 'VB',\n",
       " 'VBP',\n",
       " 'VBP',\n",
       " 'VB',\n",
       " 'VBP',\n",
       " 'VB',\n",
       " 'VB',\n",
       " 'VB',\n",
       " 'VB',\n",
       " 'VB',\n",
       " 'VB',\n",
       " 'VBP',\n",
       " 'VB',\n",
       " 'VBP',\n",
       " 'VBP',\n",
       " 'VBP',\n",
       " 'VB',\n",
       " 'VBP',\n",
       " 'VBP',\n",
       " 'VB',\n",
       " 'VB',\n",
       " 'VB',\n",
       " 'VBP',\n",
       " 'VB',\n",
       " 'VBP',\n",
       " 'VBP',\n",
       " 'VB',\n",
       " 'VB',\n",
       " 'VBP',\n",
       " 'VBP',\n",
       " 'VBP',\n",
       " 'VBP',\n",
       " 'VBP',\n",
       " 'VBP',\n",
       " 'VBP',\n",
       " 'VB',\n",
       " 'VB',\n",
       " 'VBP',\n",
       " 'VBP',\n",
       " 'VBP',\n",
       " 'VB',\n",
       " 'VBP',\n",
       " 'VBP',\n",
       " 'VB',\n",
       " 'VBP',\n",
       " 'VB',\n",
       " 'VB',\n",
       " 'VB',\n",
       " 'VB',\n",
       " 'VBP',\n",
       " 'VBP',\n",
       " 'VBP',\n",
       " 'VBP',\n",
       " 'VBP',\n",
       " 'VBP',\n",
       " 'VBP',\n",
       " 'VBP',\n",
       " 'VBP',\n",
       " 'VBP',\n",
       " 'VBP',\n",
       " 'VBP',\n",
       " 'VBP',\n",
       " 'VBP',\n",
       " 'VBP',\n",
       " 'VBP',\n",
       " 'VB',\n",
       " 'VBP',\n",
       " 'VBP',\n",
       " 'VBP',\n",
       " 'VBP',\n",
       " 'VBP',\n",
       " 'VBP',\n",
       " 'VBP',\n",
       " 'VB',\n",
       " 'VB',\n",
       " 'VB',\n",
       " 'VBP',\n",
       " 'VB',\n",
       " 'VBP',\n",
       " 'VBP',\n",
       " 'VB',\n",
       " 'VBP',\n",
       " 'VB',\n",
       " 'VBP',\n",
       " 'VBP',\n",
       " 'VBP',\n",
       " 'VBP',\n",
       " 'VBP',\n",
       " 'VBP',\n",
       " 'VBP',\n",
       " 'VBP',\n",
       " 'VBP',\n",
       " 'VBP',\n",
       " 'VB',\n",
       " 'VBP',\n",
       " 'VB',\n",
       " 'VB',\n",
       " 'VBP',\n",
       " 'VB',\n",
       " 'VBP',\n",
       " 'VBP',\n",
       " 'VB',\n",
       " 'VB',\n",
       " 'VBP',\n",
       " 'VBP',\n",
       " 'VBP',\n",
       " 'VBP',\n",
       " 'VBP',\n",
       " 'VBP',\n",
       " 'VBP',\n",
       " 'VBP',\n",
       " 'VBP',\n",
       " 'VBP',\n",
       " 'VBP',\n",
       " 'VB',\n",
       " 'VBP',\n",
       " 'VBP',\n",
       " 'VBP',\n",
       " 'VBP',\n",
       " 'VBP',\n",
       " 'VBP',\n",
       " 'VBP',\n",
       " 'VBP',\n",
       " 'VB',\n",
       " 'VB',\n",
       " 'VB',\n",
       " 'VBP',\n",
       " 'VBP',\n",
       " 'VB',\n",
       " 'VBP',\n",
       " 'VBP',\n",
       " 'VBP',\n",
       " 'VB',\n",
       " 'VB',\n",
       " 'VB',\n",
       " 'VBP',\n",
       " 'VBP',\n",
       " 'VBP',\n",
       " 'VBP',\n",
       " 'VBP',\n",
       " 'VBP',\n",
       " 'VBP',\n",
       " 'VBP',\n",
       " 'VBP',\n",
       " 'VBP',\n",
       " 'VB',\n",
       " 'VB',\n",
       " 'VB',\n",
       " 'VB',\n",
       " 'VBP',\n",
       " 'VBP',\n",
       " 'VB',\n",
       " 'VB',\n",
       " 'VB',\n",
       " 'VBP',\n",
       " 'VBP',\n",
       " 'VBP',\n",
       " 'VBP',\n",
       " 'VBP',\n",
       " 'VB',\n",
       " 'VBP',\n",
       " 'VBP',\n",
       " 'VBP',\n",
       " 'VBP',\n",
       " 'VBP',\n",
       " 'VBP',\n",
       " 'VBP',\n",
       " 'VBP',\n",
       " 'VBP',\n",
       " 'VBP',\n",
       " 'VBP',\n",
       " 'VBP',\n",
       " 'VBP',\n",
       " 'VBP',\n",
       " 'VBP',\n",
       " 'VB',\n",
       " 'VB',\n",
       " 'VB',\n",
       " 'VBP',\n",
       " 'VBP',\n",
       " 'VBP',\n",
       " 'VBP',\n",
       " 'VBP',\n",
       " 'VB',\n",
       " 'VBP',\n",
       " 'VBP',\n",
       " 'VB',\n",
       " 'VBP',\n",
       " 'VB',\n",
       " 'VBP',\n",
       " 'VBP',\n",
       " 'VB',\n",
       " 'VB',\n",
       " 'VB',\n",
       " 'VB',\n",
       " 'VB',\n",
       " 'VBP',\n",
       " 'VBP',\n",
       " 'VBP',\n",
       " 'VBP',\n",
       " 'VB',\n",
       " 'VB',\n",
       " 'VBP',\n",
       " 'VBP',\n",
       " 'VBP',\n",
       " 'VBP',\n",
       " 'VB',\n",
       " 'VBP',\n",
       " 'VBP',\n",
       " 'VBP',\n",
       " 'VBP',\n",
       " 'VBP',\n",
       " 'VBP',\n",
       " 'VB',\n",
       " 'VB',\n",
       " 'VB',\n",
       " 'VBP',\n",
       " 'VB',\n",
       " 'VB',\n",
       " 'VB',\n",
       " 'VB',\n",
       " 'VBP',\n",
       " 'VB',\n",
       " 'VBP',\n",
       " 'VBP',\n",
       " 'VBP',\n",
       " 'VBP',\n",
       " 'VBP',\n",
       " 'VBP',\n",
       " 'VBP',\n",
       " 'VB',\n",
       " 'VB',\n",
       " 'VB',\n",
       " 'VB',\n",
       " 'VB',\n",
       " 'VBP',\n",
       " 'VBP',\n",
       " 'VBP',\n",
       " 'VBP',\n",
       " 'VB',\n",
       " 'VBP',\n",
       " 'VBP',\n",
       " 'VBP',\n",
       " 'VBP',\n",
       " 'VBP',\n",
       " 'VBP',\n",
       " 'VBP',\n",
       " 'VB',\n",
       " 'VBP',\n",
       " 'VBP',\n",
       " 'VB',\n",
       " 'VB',\n",
       " 'VBP',\n",
       " 'VB',\n",
       " 'VBP',\n",
       " 'VB',\n",
       " 'VBP',\n",
       " 'VBP',\n",
       " 'VBP',\n",
       " 'VBP',\n",
       " 'VB',\n",
       " 'VBP',\n",
       " 'VBP',\n",
       " 'VBP',\n",
       " 'VBP',\n",
       " 'VBP',\n",
       " 'VBP',\n",
       " 'VBP',\n",
       " 'VB',\n",
       " 'VB',\n",
       " 'VB',\n",
       " 'VBP',\n",
       " 'VB',\n",
       " 'VB',\n",
       " 'VBP',\n",
       " 'VBP',\n",
       " 'VBP',\n",
       " 'VB',\n",
       " 'VBP',\n",
       " 'VBP',\n",
       " 'VBP',\n",
       " 'VB',\n",
       " 'VB',\n",
       " 'VB',\n",
       " 'VB',\n",
       " 'VB',\n",
       " 'VB',\n",
       " 'VB',\n",
       " 'VBP',\n",
       " 'VB',\n",
       " 'VBP',\n",
       " 'VBP',\n",
       " 'VBP',\n",
       " 'VB',\n",
       " 'VBP',\n",
       " 'VBP',\n",
       " 'VBP',\n",
       " 'VB',\n",
       " 'VBP',\n",
       " 'VBP',\n",
       " 'VBP',\n",
       " 'VB',\n",
       " 'VB',\n",
       " 'VBP',\n",
       " 'VB',\n",
       " 'VBP',\n",
       " 'VB',\n",
       " 'VB',\n",
       " 'VBP',\n",
       " 'VBP',\n",
       " 'VBP',\n",
       " 'VB',\n",
       " 'VBP',\n",
       " 'VBP',\n",
       " 'VBP',\n",
       " 'VB',\n",
       " 'VBP',\n",
       " 'VBP',\n",
       " 'VB',\n",
       " 'VB',\n",
       " 'VB',\n",
       " 'VB',\n",
       " 'VBP',\n",
       " 'VBP',\n",
       " 'VBP',\n",
       " 'VBP',\n",
       " 'VBP',\n",
       " 'VBP',\n",
       " 'VBP',\n",
       " 'VB',\n",
       " 'VBP',\n",
       " 'VBP',\n",
       " 'VB',\n",
       " 'VBP',\n",
       " 'VBP',\n",
       " 'VBP',\n",
       " 'VBP',\n",
       " 'VBP',\n",
       " 'VBP',\n",
       " 'VB',\n",
       " 'VB',\n",
       " 'VBP',\n",
       " 'VB',\n",
       " 'VBP',\n",
       " 'VB',\n",
       " 'VB',\n",
       " 'VB',\n",
       " 'VB',\n",
       " 'VBP',\n",
       " 'VB',\n",
       " 'VBP',\n",
       " 'VBP',\n",
       " 'VB',\n",
       " 'VBP',\n",
       " 'VB',\n",
       " 'VBP',\n",
       " 'VB',\n",
       " 'VBP',\n",
       " 'VBP',\n",
       " 'VBP',\n",
       " 'VB',\n",
       " 'VBP',\n",
       " 'VBP',\n",
       " 'VBP',\n",
       " 'VBP',\n",
       " 'VB',\n",
       " 'VBP',\n",
       " 'VB',\n",
       " 'VB',\n",
       " 'VB',\n",
       " 'VBP',\n",
       " 'VBP',\n",
       " 'VBP',\n",
       " 'VBP',\n",
       " 'VB',\n",
       " 'VBP',\n",
       " 'VBP',\n",
       " 'VBP',\n",
       " ...]"
      ]
     },
     "execution_count": 19,
     "metadata": {},
     "output_type": "execute_result"
    }
   ],
   "source": [
    "d['have']"
   ]
  },
  {
   "cell_type": "code",
   "execution_count": 21,
   "metadata": {
    "collapsed": false
   },
   "outputs": [
    {
     "data": {
      "text/plain": [
       "{'JJ', 'VB', 'VBD', 'VBN', 'VBP'}"
      ]
     },
     "execution_count": 21,
     "metadata": {},
     "output_type": "execute_result"
    }
   ],
   "source": [
    "set(d['have'])"
   ]
  },
  {
   "cell_type": "code",
   "execution_count": 22,
   "metadata": {
    "collapsed": false
   },
   "outputs": [
    {
     "data": {
      "text/plain": [
       "[('have', 'VBN', 1),\n",
       " ('have', 'VBD', 1),\n",
       " ('have', 'JJ', 1),\n",
       " ('have', 'VBP', 2408),\n",
       " ('have', 'VB', 1366)]"
      ]
     },
     "execution_count": 22,
     "metadata": {},
     "output_type": "execute_result"
    }
   ],
   "source": [
    "#have_tags = d['have']\n",
    "have_tag_freq = [('have', tag, d['have'].count(tag)) for tag in set(d['have'])]\n",
    "have_tag_freq"
   ]
  },
  {
   "cell_type": "markdown",
   "metadata": {},
   "source": [
    "How to sort a list of tuples by a certain element in the tuple?"
   ]
  },
  {
   "cell_type": "code",
   "execution_count": 24,
   "metadata": {
    "collapsed": false
   },
   "outputs": [
    {
     "data": {
      "text/plain": [
       "[('have', 'VBN', 1),\n",
       " ('have', 'VBD', 1),\n",
       " ('have', 'JJ', 1),\n",
       " ('have', 'VB', 1366),\n",
       " ('have', 'VBP', 2408)]"
      ]
     },
     "execution_count": 24,
     "metadata": {},
     "output_type": "execute_result"
    }
   ],
   "source": [
    "have_tag_freq = sorted(have_tag_freq, key = lambda x:x[2]) #from the least common to the most common\n",
    "have_tag_freq"
   ]
  },
  {
   "cell_type": "code",
   "execution_count": 25,
   "metadata": {
    "collapsed": false
   },
   "outputs": [
    {
     "data": {
      "text/plain": [
       "[('have', 'VBP', 2408),\n",
       " ('have', 'VB', 1366),\n",
       " ('have', 'VBN', 1),\n",
       " ('have', 'VBD', 1),\n",
       " ('have', 'JJ', 1)]"
      ]
     },
     "execution_count": 25,
     "metadata": {},
     "output_type": "execute_result"
    }
   ],
   "source": [
    "have_tag_freq = sorted(have_tag_freq, key = lambda x:x[2], reverse=True) #from the most common to the least common\n",
    "have_tag_freq"
   ]
  },
  {
   "cell_type": "markdown",
   "metadata": {},
   "source": [
    "### lambda function\n",
    "\n",
    "The lambda operator or lambda function is a way to create small anonymous functions, i.e. functions without a name. These functions are throw-away functions, i.e. they are just needed where they have been created.\n",
    "\n",
    "The general syntax of a lambda function is quite simple: \n",
    "\n",
    "lambda argument_list: expression \n",
    "\n"
   ]
  },
  {
   "cell_type": "raw",
   "metadata": {},
   "source": []
  },
  {
   "cell_type": "markdown",
   "metadata": {},
   "source": [
    "Exercise 2&3:\n",
    "\n",
    "Pleas define a function which takes a dictionary of token_type:taglist and token_type, and returns the list of tuples (token_type, tag, time of tag occurance) sorted from the most frequent to the least frequent. The template of the function is as follows:\n",
    "\n",
    "def WordTagFreq(wordtag_dict, word):\n",
    "    \n",
    "    ...\n",
    "    return word_tag_freq \n",
    "    \n",
    "For example, if we call the function with \"have\" and d by,\n",
    "\n",
    "word_tag_freq = WordTagFreq(d, \"have\")\n",
    "\n",
    "what's returned should be:\n",
    "[('have', 'VBP', 2408),\n",
    " ('have', 'VB', 1366),\n",
    " ('have', 'JJ', 1),\n",
    " ('have', 'VBN', 1),\n",
    " ('have', 'VBD', 1)]\n"
   ]
  },
  {
   "cell_type": "raw",
   "metadata": {},
   "source": []
  },
  {
   "cell_type": "code",
   "execution_count": 56,
   "metadata": {
    "collapsed": false
   },
   "outputs": [
    {
     "name": "stdout",
     "output_type": "stream",
     "text": [
      "[('have', 'VBP', 2408), ('have', 'VB', 1366), ('have', 'JJ', 1), ('have', 'VBN', 1), ('have', 'VBD', 1)]\n"
     ]
    }
   ],
   "source": [
    "#Example Answer:\n",
    "def WordTagFreq(wordtag_dict, word):\n",
    "    word_tag_freq = [(word, tag, wordtag_dict[word].count(tag)) for tag in set(wordtag_dict[word])]\n",
    "    word_tag_freq = sorted(word_tag_freq, key = lambda x:x[2], reverse=True)\n",
    "    return word_tag_freq\n",
    "\n",
    "word_tag_freq = WordTagFreq(wordtags_dict, \"have\")\n",
    "print (word_tag_freq)"
   ]
  },
  {
   "cell_type": "code",
   "execution_count": null,
   "metadata": {
    "collapsed": true
   },
   "outputs": [],
   "source": []
  }
 ],
 "metadata": {
  "kernelspec": {
   "display_name": "Python 3",
   "language": "python",
   "name": "python3"
  },
  "language_info": {
   "codemirror_mode": {
    "name": "ipython",
    "version": 3
   },
   "file_extension": ".py",
   "mimetype": "text/x-python",
   "name": "python",
   "nbconvert_exporter": "python",
   "pygments_lexer": "ipython3",
   "version": "3.5.1"
  }
 },
 "nbformat": 4,
 "nbformat_minor": 1
}
