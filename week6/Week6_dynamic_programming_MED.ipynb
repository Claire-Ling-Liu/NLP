{
 "cells": [
  {
   "cell_type": "markdown",
   "metadata": {},
   "source": [
    "**The information used in this notebook is adopted from *Speech and Language Processing*. Jurafsky, D. & Martin, J. H. Draft of August 7, 2017. Chapter 2.**"
   ]
  },
  {
   "cell_type": "markdown",
   "metadata": {},
   "source": [
    "# Dynamic Programming"
   ]
  },
  {
   "cell_type": "markdown",
   "metadata": {},
   "source": [
    "Dynamic programming is the name for a class of algorithms, first introduced by Bellman (1957), that apply a table-driven method to solve problems by combining solutions to sub-problems. Example: MED, Viterbie, CKY etc. \n",
    "\n",
    "The intuition of a dynamic programming problem is that a large problem can be solved by properly combining the solutions to various sub-problems.\n",
    "\n",
    "(Jurafsky and Martin 2017:Chapter 2 p19)"
   ]
  },
  {
   "cell_type": "markdown",
   "metadata": {},
   "source": [
    "# Minimum Edit Distance"
   ]
  },
  {
   "cell_type": "markdown",
   "metadata": {},
   "source": [
    "### MED introduction"
   ]
  },
  {
   "cell_type": "markdown",
   "metadata": {},
   "source": [
    "The minimum edit distance between two strings is defined as the minimum number of editing operations (operations like insertion, deletion, substitution) needed to transform one string into another.\n",
    "\n",
    "We can assign a particular cost or weight to each of these operations."
   ]
  },
  {
   "cell_type": "markdown",
   "metadata": {},
   "source": [
    "<img src=\"img/img1.png\" alt=\"Drawing\" style=\"width: 500px;\"/>"
   ]
  },
  {
   "cell_type": "markdown",
   "metadata": {},
   "source": [
    "### MED formal definition"
   ]
  },
  {
   "cell_type": "markdown",
   "metadata": {},
   "source": [
    "Given two strings, the source string *X* of length *n*, and target string *Y* of length *m*, we'll define *D(i,j)* as the edit distance between *X[1...i]* and *Y[1...j]*, i.e., the first *i* characters of *X* and the first *j* characters of *Y*. The edit distance between *X* and *Y* is thus *D(n,m)*.\n",
    "\n",
    "Dynamic programming will be used to computer *D(n,m)* bottom up, combining solutions to subproblems.\n",
    "\n",
    "**In the base case**, with a source substring of length *i* but an empty target string, going from *i* character to 0 requires *i* deletion. With a target substring of length *j* but an empty source going from 0 characters to *j* characters requires *j* insertion. **Having computed *D(i,j)* for small *i*, *j* ** we then compute larger *D(i,j)* based on previously computed smaller values. **The value of *D(i,j)* **is computed by taking the minimum of the three possible paths through the matrix which arrive there:\n"
   ]
  },
  {
   "cell_type": "markdown",
   "metadata": {},
   "source": [
    "<img src=\"img/img2.png\" alt=\"Drawing\" style=\"width: 300px;\"/>"
   ]
  },
  {
   "cell_type": "markdown",
   "metadata": {},
   "source": [
    "If we assume insertion and deletion each has a cost of 1 and substitution has a cost of 2 (i.e. the setting for Levenshtein distance), the computation of *D(i,j)* becomes:"
   ]
  },
  {
   "cell_type": "markdown",
   "metadata": {},
   "source": [
    "<img src=\"img/img3.png\" alt=\"Drawing\" style=\"width: 300px;\"/>"
   ]
  },
  {
   "cell_type": "markdown",
   "metadata": {},
   "source": [
    "Applying the algorithm with operation cost above to calculate the distance between *intention* and *execution*, we get the following matrix:"
   ]
  },
  {
   "cell_type": "markdown",
   "metadata": {},
   "source": [
    "<img src=\"img/img4.png\" alt=\"Drawing\" style=\"width: 500px;\"/>"
   ]
  },
  {
   "cell_type": "markdown",
   "metadata": {},
   "source": [
    "Pseudo-code for the algorithm:"
   ]
  },
  {
   "cell_type": "markdown",
   "metadata": {},
   "source": [
    "<img src=\"img/img5.png\" alt=\"Drawing\" style=\"width: 400px;\"/>"
   ]
  },
  {
   "cell_type": "markdown",
   "metadata": {},
   "source": [
    "### MED for Alignment"
   ]
  },
  {
   "cell_type": "markdown",
   "metadata": {},
   "source": [
    "The minimum edit distance algorithm can be extended for alignment by storing backpointers in each cell."
   ]
  },
  {
   "cell_type": "markdown",
   "metadata": {},
   "source": [
    "**The computaton proceeds in two steps:**\n",
    "\n",
    "In the first step, we augment the MED algorithm to store backpointers in each cell. The backpointer from a cell points to the previous cell/cells that we came from in entering the current cell. Some cells have multiple backpointers because the minimum extension could have come from multiple previous cells.\n",
    "\n",
    "In the second step, we perform a **backtrace**. In a backtrace, we start from the last cell (at the final row and column), and follow the pointer back through the dynamic programming matrix. \n",
    "\n",
    "Each complete path between the final cell and the inital cell is a minimum distance alignment."
   ]
  },
  {
   "cell_type": "markdown",
   "metadata": {},
   "source": [
    "<img src=\"img/img6.png\" alt=\"Drawing\" style=\"width: 500px;\"/>"
   ]
  },
  {
   "cell_type": "markdown",
   "metadata": {
    "collapsed": true
   },
   "source": [
    "# Exercise:"
   ]
  },
  {
   "cell_type": "markdown",
   "metadata": {},
   "source": [
    "### Part 1: Basic Implementation of MED with fixed costs"
   ]
  },
  {
   "cell_type": "markdown",
   "metadata": {},
   "source": [
    "Define a function called *MED* to implement a menimum edit distance algorithm with the operation cost for insertion and deletion as 1 and for substituion as 2. The function takes as input a source string and a target string, and returns the MED between the two strings.\n",
    "\n",
    "For example, when you call *MED* with *intention* and *execution* with *MED('intension', 'execution')*, it will return 8."
   ]
  },
  {
   "cell_type": "markdown",
   "metadata": {},
   "source": [
    "### Part 2: Implementation of MED with flexible costs"
   ]
  },
  {
   "cell_type": "markdown",
   "metadata": {},
   "source": [
    "Improve your function *MED* in Part 1 to allow for assigning different costs for different operation. After improvement, the *MED* function should take as input the source string, the target string, insertion cost, deletion cost, and substitution cost, and return the MED between the two strings.\n",
    "\n",
    "For example, calling the function by\n",
    "\n",
    "*MED('intention', 'execution', 1, 1, 2)*\n",
    "\n",
    "should return \n",
    "\n",
    "*8*"
   ]
  },
  {
   "cell_type": "markdown",
   "metadata": {},
   "source": [
    "### Part 3: MED for Alignment"
   ]
  },
  {
   "cell_type": "markdown",
   "metadata": {},
   "source": [
    "Augment the *MED* function part 2 to output an alignment. After the augmentation, your *MED* function still takes as input the source string, the target string, insertion cost, deletion cost, and substitution cost, but it should return not only the MED between the two stirngs but also the alignment of the two strings.\n",
    "\n",
    "For example, calling the function by\n",
    "\n",
    "*MED('intention', 'execusion', 1, 1, 2)*\n",
    "\n",
    "should return \n",
    "\n",
    "*8 inte_ntion _execution*"
   ]
  },
  {
   "cell_type": "markdown",
   "metadata": {},
   "source": [
    "### Example Codes to the Exercise:"
   ]
  },
  {
   "cell_type": "markdown",
   "metadata": {},
   "source": [
    "NumPy\n",
    "\n",
    "Numpy is the core library for scientific computing in Python. It provides a high-performance multidimensional array object, and tools for working with these arrays. \n",
    "\n",
    "http://cs231n.github.io/python-numpy-tutorial/#numpy\n"
   ]
  },
  {
   "cell_type": "markdown",
   "metadata": {},
   "source": [
    "#### Part 1"
   ]
  },
  {
   "cell_type": "code",
   "execution_count": 30,
   "metadata": {
    "collapsed": true
   },
   "outputs": [],
   "source": [
    "import numpy as np\n",
    "\n",
    "def MED(source, target):\n",
    "    m = len(target) + 1\n",
    "    n = len(source) + 1\n",
    "    mtx = np.zeros([n, m]) #define a n*m matrix\n",
    "    #print (mtx)\n",
    "    for i in range(1, n):\n",
    "        mtx[i,0] = mtx[i-1, 0] + 1 #deletion\n",
    "    for j in range(1, m):\n",
    "        mtx[0,j] = mtx[0, j-1] + 1 #insertion\n",
    "    for i in range(1, n):\n",
    "        for j in range(1, m):\n",
    "            if target[j-1] == source[i-1]:\n",
    "                sb = 0 #identical--self-substitution\n",
    "            else:\n",
    "                sb = 2 #substitution\n",
    "            mtx[i, j] = min(mtx[i-1, j] + 1,\n",
    "                            mtx[i, j-1] + 1,\n",
    "                            mtx[i-1, j-1] + sb)\n",
    "            #deletion\n",
    "            #insertion\n",
    "            #substitution\n",
    "    #print (mtx)\n",
    "    med = mtx[len(source), len(target)]\n",
    "    return med"
   ]
  },
  {
   "cell_type": "code",
   "execution_count": 31,
   "metadata": {
    "collapsed": false
   },
   "outputs": [
    {
     "name": "stdout",
     "output_type": "stream",
     "text": [
      "8.0\n"
     ]
    }
   ],
   "source": [
    "print (MED('intention', 'execution'))"
   ]
  },
  {
   "cell_type": "markdown",
   "metadata": {},
   "source": [
    "#### Part 2"
   ]
  },
  {
   "cell_type": "code",
   "execution_count": 28,
   "metadata": {
    "collapsed": true
   },
   "outputs": [],
   "source": [
    "import numpy as np\n",
    "\n",
    "def MED(source, target, insert = 1, delete = 1, substitute = 2):\n",
    "    m = len(target) + 1\n",
    "    n = len(source) + 1\n",
    "    mtx = np.zeros([n, m]) #define a n*m matrix\n",
    "    #print (mtx)\n",
    "    for i in range(1, n):\n",
    "        mtx[i,0] = mtx[i-1, 0] + delete #deletion\n",
    "    for j in range(1, m):\n",
    "        mtx[0,j] = mtx[0, j-1] + insert #insertion\n",
    "    for i in range(1, n):\n",
    "        for j in range(1, m):\n",
    "            if target[j-1] == source[i-1]:\n",
    "                sb = 0 #identical--self-substitution\n",
    "            else:\n",
    "                sb = substitute #substitution\n",
    "            mtx[i, j] = min(mtx[i-1, j] + delete,\n",
    "                            mtx[i, j-1] + insert,\n",
    "                            mtx[i-1, j-1] + sb)\n",
    "            #deletion\n",
    "            #insertion\n",
    "            #substitution\n",
    "    #print (mtx)\n",
    "    med = mtx[len(source), len(target)]\n",
    "    return med"
   ]
  },
  {
   "cell_type": "code",
   "execution_count": 29,
   "metadata": {
    "collapsed": false
   },
   "outputs": [
    {
     "name": "stdout",
     "output_type": "stream",
     "text": [
      "5.0\n"
     ]
    }
   ],
   "source": [
    "print (MED('intention', 'execution', 1, 1, 1))"
   ]
  },
  {
   "cell_type": "markdown",
   "metadata": {},
   "source": [
    "#### Part 3"
   ]
  },
  {
   "cell_type": "code",
   "execution_count": 35,
   "metadata": {
    "collapsed": true
   },
   "outputs": [],
   "source": [
    "import numpy as np\n",
    "\n",
    "\n",
    "def MED(source, target, insert = 1, delete = 1, substitute = 2):\n",
    "    \"\"\"MED with Backpointer\"\"\"\n",
    "    \n",
    "    m = len(target) + 1\n",
    "    n = len(source) + 1\n",
    "    mtx = np.zeros([n, m]) #define a n*m matrix\n",
    "    #print (mtx)\n",
    "    bpointer = np.zeros(mtx.shape, dtype = 'int, int') \n",
    "    #define a matrix of the same dimensions as mtx, \n",
    "    #but its elements are two-element tuples of integers\n",
    "    #print (bpointer)\n",
    "    for i in range(1, n):\n",
    "        mtx[i,0] = mtx[i-1, 0] + delete #deletion\n",
    "    for j in range(1, m):\n",
    "        mtx[0,j] = mtx[0, j-1] + insert #insertion\n",
    "    for i in range(1, n):\n",
    "        for j in range(1, m):\n",
    "            if target[j-1] == source[i-1]:\n",
    "                sb = 0 #identical--self-substitution\n",
    "            else:\n",
    "                sb = substitute #substitution\n",
    "            mtx[i, j], bpointer[i, j] = min((mtx[i-1, j] + delete, (i-1, j)), \n",
    "                                            (mtx[i, j-1] + insert, (i, j-1)),\n",
    "                                            (mtx[i-1, j-1] + sb, (i-1, j-1)))\n",
    "            #deletion\n",
    "            #insertion\n",
    "            #substitution\n",
    "    #print (mtx)\n",
    "    print (bpointer)\n",
    "    med = mtx[len(source), len(target)]\n",
    "    return med"
   ]
  },
  {
   "cell_type": "code",
   "execution_count": 36,
   "metadata": {
    "collapsed": false
   },
   "outputs": [
    {
     "name": "stdout",
     "output_type": "stream",
     "text": [
      "[[(0, 0) (0, 0) (0, 0) (0, 0) (0, 0) (0, 0) (0, 0) (0, 0) (0, 0) (0, 0)]\n",
      " [(0, 0) (0, 0) (0, 1) (0, 2) (0, 3) (0, 4) (0, 5) (0, 6) (1, 7) (1, 8)]\n",
      " [(0, 0) (1, 0) (1, 1) (1, 2) (1, 3) (1, 4) (1, 5) (1, 7) (1, 7) (1, 8)]\n",
      " [(0, 0) (2, 0) (2, 1) (2, 2) (2, 3) (2, 4) (2, 5) (2, 7) (2, 7) (2, 9)]\n",
      " [(0, 0) (3, 0) (4, 1) (3, 2) (4, 3) (4, 4) (3, 6) (3, 6) (3, 7) (3, 9)]\n",
      " [(0, 0) (4, 1) (4, 1) (4, 2) (4, 3) (4, 4) (4, 5) (4, 6) (4, 7) (4, 8)]\n",
      " [(0, 0) (5, 1) (5, 1) (5, 2) (5, 3) (5, 4) (5, 5) (6, 6) (6, 7) (5, 9)]\n",
      " [(0, 0) (6, 1) (6, 1) (6, 2) (6, 3) (6, 4) (6, 6) (6, 6) (7, 7) (7, 8)]\n",
      " [(0, 0) (7, 1) (7, 1) (7, 2) (7, 3) (7, 4) (7, 6) (7, 7) (7, 7) (8, 8)]\n",
      " [(0, 0) (8, 1) (8, 1) (8, 2) (8, 3) (8, 4) (8, 6) (8, 7) (8, 8) (8, 8)]]\n",
      "8.0\n"
     ]
    }
   ],
   "source": [
    "print (MED('intention', 'execution'))"
   ]
  },
  {
   "cell_type": "code",
   "execution_count": null,
   "metadata": {
    "collapsed": true
   },
   "outputs": [],
   "source": [
    "def alignment(src, tgt, source, target, i, j, m, n, bp):\n",
    "    \n",
    "    \"\"\"Align the two strings with the path provided by the back pointer\"\"\"\n",
    "    \n",
    "    if m == 0 and n == 0: \n",
    "        #the x and y-axis are all (0, 0) along\n",
    "        #reach this means reach the beginning\n",
    "        return src[::-1], tgt[::-1]\n",
    "    if i+1 == m and j+1 == n: \n",
    "        #substitute\n",
    "        src += source[m-1]\n",
    "        tgt += target[n-1]\n",
    "    elif i == m and j+1 == n:\n",
    "        #insert to tgt, \n",
    "        #relative src position is empty at the first place\n",
    "        src += '_'\n",
    "        tgt += target[n-1]\n",
    "    elif i+1 == m and j == n:\n",
    "        #from above, delete from src,\n",
    "        #relative tgt position is empty at first place\n",
    "        src += source[m-1]\n",
    "        tgt += '_'\n",
    "    print (src[::-1])\n",
    "    print (tgt[::-1])\n",
    "    print ()\n",
    "    #m = i\n",
    "    #n = j\n",
    "    #newi = bp[i, j][0]\n",
    "    #newj = bp[i, j][1]\n",
    "    #i = newi\n",
    "    #j = newj\n",
    "    return alignment(src, tgt, source, target, *bp[i, j], i, j, bp)"
   ]
  }
 ],
 "metadata": {
  "kernelspec": {
   "display_name": "Python 3",
   "language": "python",
   "name": "python3"
  },
  "language_info": {
   "codemirror_mode": {
    "name": "ipython",
    "version": 3
   },
   "file_extension": ".py",
   "mimetype": "text/x-python",
   "name": "python",
   "nbconvert_exporter": "python",
   "pygments_lexer": "ipython3",
   "version": "3.5.1"
  }
 },
 "nbformat": 4,
 "nbformat_minor": 1
}
