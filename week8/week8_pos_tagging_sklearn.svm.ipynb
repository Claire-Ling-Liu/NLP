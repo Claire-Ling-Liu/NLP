{
 "cells": [
  {
   "cell_type": "markdown",
   "metadata": {
    "collapsed": false
   },
   "source": [
    "# SVM for POS Tagging"
   ]
  },
  {
   "cell_type": "markdown",
   "metadata": {},
   "source": [
    "In this exercise, we will implement a POS tagging system by using the **SVM classifier**, sweeping left-to-right, and classifying each word into classes of different parts-of-speech. We will use the scikit-learn library.\n",
    "\n",
    "**Training data**: wsj00-18.tag\n",
    "\n",
    "**Testing data**: wsj22-24.tag\n",
    "\n",
    "Please **output** a file pos.guessa that is identical to wsj22-24.tag, except it adds a new field last which is the result of your classifier.\n",
    "\n",
    "**Hint**:\n",
    "\n",
    "The focus of the task is on feature engineering. The following features are good to start with:\n",
    "\n",
    "- word form\n",
    "- suffix\n",
    "- whether it is a digit or not\n",
    "- initial letter capitalized or not\n",
    "- word on left\n",
    "- word on right\n",
    "- previous tag\n",
    "- ..."
   ]
  },
  {
   "cell_type": "code",
   "execution_count": null,
   "metadata": {
    "collapsed": true
   },
   "outputs": [],
   "source": []
  }
 ],
 "metadata": {
  "kernelspec": {
   "display_name": "Python 3",
   "language": "python",
   "name": "python3"
  },
  "language_info": {
   "codemirror_mode": {
    "name": "ipython",
    "version": 3
   },
   "file_extension": ".py",
   "mimetype": "text/x-python",
   "name": "python",
   "nbconvert_exporter": "python",
   "pygments_lexer": "ipython3",
   "version": "3.5.1"
  }
 },
 "nbformat": 4,
 "nbformat_minor": 1
}
