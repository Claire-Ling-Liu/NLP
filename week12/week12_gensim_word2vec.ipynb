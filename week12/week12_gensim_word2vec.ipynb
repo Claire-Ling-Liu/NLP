{
 "cells": [
  {
   "cell_type": "markdown",
   "metadata": {},
   "source": [
    "# How to Use Word2Vec in Gensim\n",
    "What will be introduced below is mainly based on the blog tutorial by Radim Řehůřek https://rare-technologies.com/word2vec-tutorial/ and the gensim tutorial on word2vec https://radimrehurek.com/gensim/models/word2vec.html"
   ]
  },
  {
   "cell_type": "markdown",
   "metadata": {},
   "source": [
    "## intall gensim\n",
    "\n",
    "https://radimrehurek.com/gensim/install.html"
   ]
  },
  {
   "cell_type": "markdown",
   "metadata": {},
   "source": [
    "## Using pre-trained vectors"
   ]
  },
  {
   "cell_type": "markdown",
   "metadata": {},
   "source": [
    "### Download the GoogleNew-vectors:\n",
    "\n",
    "https://code.google.com/archive/p/word2vec/"
   ]
  },
  {
   "cell_type": "code",
   "execution_count": 1,
   "metadata": {
    "collapsed": true
   },
   "outputs": [],
   "source": [
    "import gensim"
   ]
  },
  {
   "cell_type": "markdown",
   "metadata": {},
   "source": [
    "### load pretrained models"
   ]
  },
  {
   "cell_type": "code",
   "execution_count": 2,
   "metadata": {
    "collapsed": true
   },
   "outputs": [],
   "source": [
    "# using gizziped/bz2 input works, no need to unzip\n",
    "\n",
    "model_pretrained = gensim.models.KeyedVectors.load_word2vec_format('GoogleNews-vectors-negative300.bin.gz', binary=True) #Load pre-trained models in C binary format\n",
    "#model_pretrained = gensim.models.Word2Vec.load_word2vec_format('GoogleNews-vectors-negative300.bin.gz', binary=True) #use this if you are using python 2"
   ]
  },
  {
   "cell_type": "markdown",
   "metadata": {},
   "source": [
    "### Use the trained/loaded model"
   ]
  },
  {
   "cell_type": "code",
   "execution_count": 4,
   "metadata": {
    "collapsed": false
   },
   "outputs": [
    {
     "data": {
      "text/plain": [
       "{'neutered': <gensim.models.keyedvectors.Vocab at 0x1e1b647f0>,\n",
       " 'Dominic_Nutt': <gensim.models.keyedvectors.Vocab at 0x1f343c390>,\n",
       " 'Maarif': <gensim.models.keyedvectors.Vocab at 0x1f67d6ac8>,\n",
       " 'biceps_muscle': <gensim.models.keyedvectors.Vocab at 0x1eb1231d0>,\n",
       " 'nattered': <gensim.models.keyedvectors.Vocab at 0x203c1db00>,\n",
       " 'alkalines': <gensim.models.keyedvectors.Vocab at 0x1fafa2cc0>,\n",
       " 'Ted_Poe': <gensim.models.keyedvectors.Vocab at 0x1e5d82128>,\n",
       " 'Dieter_Depping': <gensim.models.keyedvectors.Vocab at 0x20286ac18>,\n",
       " 'Jamestown_colonists': <gensim.models.keyedvectors.Vocab at 0x21550bb38>,\n",
       " 'midweek_Coppa_Italia': <gensim.models.keyedvectors.Vocab at 0x23c12d0f0>,\n",
       " 'GIST_tumors': <gensim.models.keyedvectors.Vocab at 0x22b2e9be0>,\n",
       " 'Fiscal_Imbalance': <gensim.models.keyedvectors.Vocab at 0x233884208>,\n",
       " 'Reactive': <gensim.models.keyedvectors.Vocab at 0x1e7af22e8>,\n",
       " 'succinylcholine': <gensim.models.keyedvectors.Vocab at 0x1f057cb38>,\n",
       " 'Mersey_Waste': <gensim.models.keyedvectors.Vocab at 0x22e5fd978>,\n",
       " 'JESSE_METCALFE': <gensim.models.keyedvectors.Vocab at 0x2208712b0>,\n",
       " 'Doncaster_Rovers_Huddersfield': <gensim.models.keyedvectors.Vocab at 0x24b05eeb8>,\n",
       " 'Coat_Factory': <gensim.models.keyedvectors.Vocab at 0x22ba3cf60>,\n",
       " 'Systems_TSX_LMZ': <gensim.models.keyedvectors.Vocab at 0x23a4b2358>,\n",
       " 'Storms_lash': <gensim.models.keyedvectors.Vocab at 0x21c21f0b8>,\n",
       " 'Consecutive_layups': <gensim.models.keyedvectors.Vocab at 0x207c21748>,\n",
       " 'epaulettes': <gensim.models.keyedvectors.Vocab at 0x1eab2fcc0>,\n",
       " 'platforming_puzzle': <gensim.models.keyedvectors.Vocab at 0x22d50f9e8>,\n",
       " 'HP_PA_RISC': <gensim.models.keyedvectors.Vocab at 0x1ffd13358>,\n",
       " 'Transfield_Holdings': <gensim.models.keyedvectors.Vocab at 0x223625748>,\n",
       " 'LA###_LA###': <gensim.models.keyedvectors.Vocab at 0x233f4d2e8>,\n",
       " 'wingnut_Christofascist_base': <gensim.models.keyedvectors.Vocab at 0x23af88e10>,\n",
       " 'Wonderwood': <gensim.models.keyedvectors.Vocab at 0x2176a02b0>,\n",
       " 'www.mid': <gensim.models.keyedvectors.Vocab at 0x1e6de8048>,\n",
       " 'Kiul': <gensim.models.keyedvectors.Vocab at 0x209e89ef0>,\n",
       " 'Aventail_ST': <gensim.models.keyedvectors.Vocab at 0x24e68e160>,\n",
       " 'evacuated_Juwad': <gensim.models.keyedvectors.Vocab at 0x249e33860>,\n",
       " 'Gerak': <gensim.models.keyedvectors.Vocab at 0x1fa760cc0>,\n",
       " 'PicaJet': <gensim.models.keyedvectors.Vocab at 0x2163c4c50>,\n",
       " '1T_Flash': <gensim.models.keyedvectors.Vocab at 0x22240d0f0>,\n",
       " 'immigrating': <gensim.models.keyedvectors.Vocab at 0x1e3c40dd8>,\n",
       " 'Marktech_LED_Lighting': <gensim.models.keyedvectors.Vocab at 0x24bf50668>,\n",
       " 'No_Monthly.One_Time': <gensim.models.keyedvectors.Vocab at 0x1f260ca90>,\n",
       " 'Milwaukee_Bucks_Ersan_Ilyasova': <gensim.models.keyedvectors.Vocab at 0x216f322e8>,\n",
       " 'Brestyan': <gensim.models.keyedvectors.Vocab at 0x20c6872e8>,\n",
       " 'Shoe_Fits': <gensim.models.keyedvectors.Vocab at 0x1fb31feb8>,\n",
       " 'Norman_LeBoon': <gensim.models.keyedvectors.Vocab at 0x22d503ba8>,\n",
       " \"'S_DINER\": <gensim.models.keyedvectors.Vocab at 0x2200a5fd0>,\n",
       " 'Te_Arawa': <gensim.models.keyedvectors.Vocab at 0x1e8e42a90>,\n",
       " '#.#mmHg': <gensim.models.keyedvectors.Vocab at 0x214962e10>,\n",
       " 'Sourav_Ganguly_Images': <gensim.models.keyedvectors.Vocab at 0x2052d1fd0>,\n",
       " 'Derric_Bath': <gensim.models.keyedvectors.Vocab at 0x24e6985f8>,\n",
       " 'Tevlin_Challenger': <gensim.models.keyedvectors.Vocab at 0x225b05fd0>,\n",
       " 'Yarmouth': <gensim.models.keyedvectors.Vocab at 0x1e16364e0>,\n",
       " 'Drought_Relief_Headquarters_SFDH': <gensim.models.keyedvectors.Vocab at 0x2294d67f0>,\n",
       " 'Turbyfill': <gensim.models.keyedvectors.Vocab at 0x1eefa7390>,\n",
       " 'By_Carina_MacKenzie': <gensim.models.keyedvectors.Vocab at 0x229d0ec50>,\n",
       " 'Posso': <gensim.models.keyedvectors.Vocab at 0x206079240>,\n",
       " 'sleek_ergonomic': <gensim.models.keyedvectors.Vocab at 0x2094fe908>,\n",
       " 'By_ROSEMARY_HORVATH': <gensim.models.keyedvectors.Vocab at 0x214a91cc0>,\n",
       " '6_#/#-furlong_sprint': <gensim.models.keyedvectors.Vocab at 0x225fa5978>,\n",
       " 'Polish_goalkeeper_Wojciech': <gensim.models.keyedvectors.Vocab at 0x22c8db358>,\n",
       " 'Woolco_stores': <gensim.models.keyedvectors.Vocab at 0x22aded0f0>,\n",
       " 'Netcraft': <gensim.models.keyedvectors.Vocab at 0x1e50083c8>,\n",
       " 'Joseph_Scheidler': <gensim.models.keyedvectors.Vocab at 0x1fcfc5f60>,\n",
       " 'Mirfield_Parish': <gensim.models.keyedvectors.Vocab at 0x21ce6ea20>,\n",
       " 'Livability': <gensim.models.keyedvectors.Vocab at 0x1e1f13e80>,\n",
       " 'Momanyi': <gensim.models.keyedvectors.Vocab at 0x1f5920860>,\n",
       " 'Boom_billows': <gensim.models.keyedvectors.Vocab at 0x22217ad68>,\n",
       " 'Mathson': <gensim.models.keyedvectors.Vocab at 0x1f1ce8cc0>,\n",
       " 'Peroulis': <gensim.models.keyedvectors.Vocab at 0x20dd86780>,\n",
       " 'Auction.com': <gensim.models.keyedvectors.Vocab at 0x1fb1942b0>,\n",
       " 'Gabriel_Montalvo': <gensim.models.keyedvectors.Vocab at 0x2044b9240>,\n",
       " 'Grammarian': <gensim.models.keyedvectors.Vocab at 0x20618a3c8>,\n",
       " 'solution_SalesView_continuously': <gensim.models.keyedvectors.Vocab at 0x2364834a8>,\n",
       " 'Lonato_Italy': <gensim.models.keyedvectors.Vocab at 0x217277908>,\n",
       " 'Movilla': <gensim.models.keyedvectors.Vocab at 0x2023bb1d0>,\n",
       " 'NYSE_TLB': <gensim.models.keyedvectors.Vocab at 0x2266b75c0>,\n",
       " 'Berg_Moberg': <gensim.models.keyedvectors.Vocab at 0x22c21eac8>,\n",
       " 'Transperth': <gensim.models.keyedvectors.Vocab at 0x1ffa2c630>,\n",
       " 'Mozambique_Maputo': <gensim.models.keyedvectors.Vocab at 0x21dcd2860>,\n",
       " 'diamine': <gensim.models.keyedvectors.Vocab at 0x20c2c3c18>,\n",
       " 'Fikir': <gensim.models.keyedvectors.Vocab at 0x22cf9e240>,\n",
       " 'BAY_STREET': <gensim.models.keyedvectors.Vocab at 0x208efebe0>,\n",
       " 'Beige_Book_surveys': <gensim.models.keyedvectors.Vocab at 0x1f6727ba8>,\n",
       " 'cq': <gensim.models.keyedvectors.Vocab at 0x1e4c10748>,\n",
       " 'chief_Mario_Andresol': <gensim.models.keyedvectors.Vocab at 0x208499cf8>,\n",
       " 'Madhur_Bhandarkar_Fashion': <gensim.models.keyedvectors.Vocab at 0x1f4831908>,\n",
       " 'Pashmol': <gensim.models.keyedvectors.Vocab at 0x21e745e48>,\n",
       " 'Tomos_Watkin': <gensim.models.keyedvectors.Vocab at 0x2384eec18>,\n",
       " 'Gehad_Auda_political': <gensim.models.keyedvectors.Vocab at 0x238c1a390>,\n",
       " 'colonic_cleansing': <gensim.models.keyedvectors.Vocab at 0x220e6c518>,\n",
       " 'boilers': <gensim.models.keyedvectors.Vocab at 0x1e1855cf8>,\n",
       " 'Dankyi': <gensim.models.keyedvectors.Vocab at 0x229466668>,\n",
       " 'gray_jogging_bottoms': <gensim.models.keyedvectors.Vocab at 0x2028726d8>,\n",
       " 'reporter_Toni_Locy': <gensim.models.keyedvectors.Vocab at 0x1fd7568d0>,\n",
       " 'Errico_Malatesta': <gensim.models.keyedvectors.Vocab at 0x22e510ef0>,\n",
       " 'anejo_tequila': <gensim.models.keyedvectors.Vocab at 0x22d493f60>,\n",
       " 'tray_tables': <gensim.models.keyedvectors.Vocab at 0x1e976bcc0>,\n",
       " 'bookmarks_folder': <gensim.models.keyedvectors.Vocab at 0x23bd56048>,\n",
       " 'EMILY_COOK': <gensim.models.keyedvectors.Vocab at 0x24f076b00>,\n",
       " 'raucous_revelry': <gensim.models.keyedvectors.Vocab at 0x231a2dbe0>,\n",
       " 'BROWNSTOWN_TWP': <gensim.models.keyedvectors.Vocab at 0x207dba470>,\n",
       " 'LIABILITIES_AND_SHAREHOLDERS_EQUITY': <gensim.models.keyedvectors.Vocab at 0x1e50cb320>,\n",
       " 'flexi_wings': <gensim.models.keyedvectors.Vocab at 0x229a58128>,\n",
       " \"Institut_d'_Etudes_Politiques\": <gensim.models.keyedvectors.Vocab at 0x1f363cf28>,\n",
       " 'MP#/MP#': <gensim.models.keyedvectors.Vocab at 0x1f10a8748>,\n",
       " 'Mallard_Pointe': <gensim.models.keyedvectors.Vocab at 0x221f9c2b0>,\n",
       " 'Nedney_kicked': <gensim.models.keyedvectors.Vocab at 0x1ffdfdc88>,\n",
       " 'tarry': <gensim.models.keyedvectors.Vocab at 0x1e74578d0>,\n",
       " 'Trafficking_Victims': <gensim.models.keyedvectors.Vocab at 0x22f1303c8>,\n",
       " 'Minister_Kailash_Vijaywargiya': <gensim.models.keyedvectors.Vocab at 0x230abe828>,\n",
       " 'TR_Prasad': <gensim.models.keyedvectors.Vocab at 0x1ffa262b0>,\n",
       " 'Thomton': <gensim.models.keyedvectors.Vocab at 0x2316a7860>,\n",
       " 'Antipop_Consortium': <gensim.models.keyedvectors.Vocab at 0x22cca3748>,\n",
       " 'darker_impulses': <gensim.models.keyedvectors.Vocab at 0x204834ac8>,\n",
       " 'SOLD_TO': <gensim.models.keyedvectors.Vocab at 0x216bf34e0>,\n",
       " 'Respectability': <gensim.models.keyedvectors.Vocab at 0x1fbf3aef0>,\n",
       " 'KATY_TANG': <gensim.models.keyedvectors.Vocab at 0x233d7be80>,\n",
       " 'ruptured_wellhead_mile': <gensim.models.keyedvectors.Vocab at 0x2096cbc18>,\n",
       " 'Nanded': <gensim.models.keyedvectors.Vocab at 0x1e569e2e8>,\n",
       " 'Van_Hemert': <gensim.models.keyedvectors.Vocab at 0x1f5f0ae10>,\n",
       " 'UDON_Entertainment': <gensim.models.keyedvectors.Vocab at 0x23b6c4ba8>,\n",
       " 'cameos_galore': <gensim.models.keyedvectors.Vocab at 0x249ae7a58>,\n",
       " 'fusion_XRF': <gensim.models.keyedvectors.Vocab at 0x236de9860>,\n",
       " 'Stahlstown': <gensim.models.keyedvectors.Vocab at 0x2006c07f0>,\n",
       " 'TOMMY_BOY': <gensim.models.keyedvectors.Vocab at 0x24eb0c198>,\n",
       " 'Motor_Oils': <gensim.models.keyedvectors.Vocab at 0x20b21dac8>,\n",
       " 'iCam': <gensim.models.keyedvectors.Vocab at 0x20afde978>,\n",
       " 'Kamatics': <gensim.models.keyedvectors.Vocab at 0x224294c88>,\n",
       " 'daytrader': <gensim.models.keyedvectors.Vocab at 0x206149b00>,\n",
       " 'veterinary_medicine_Bernadette': <gensim.models.keyedvectors.Vocab at 0x24a6ac400>,\n",
       " 'Jan_Willem_Berghuis': <gensim.models.keyedvectors.Vocab at 0x23383aa58>,\n",
       " 'popular_Scrabble_knockoff': <gensim.models.keyedvectors.Vocab at 0x23cfa1828>,\n",
       " 'FINEWS': <gensim.models.keyedvectors.Vocab at 0x22507d048>,\n",
       " 'Derreck_Kayongo': <gensim.models.keyedvectors.Vocab at 0x23b6cdba8>,\n",
       " 'Andy_Kubert': <gensim.models.keyedvectors.Vocab at 0x1ff5d2e10>,\n",
       " 'insulation': <gensim.models.keyedvectors.Vocab at 0x1e0cb8f28>,\n",
       " 'mother_Marsha_Schuyler': <gensim.models.keyedvectors.Vocab at 0x22788ab38>,\n",
       " 'constituency_Amethi': <gensim.models.keyedvectors.Vocab at 0x208ee0ef0>,\n",
       " 'Beddell': <gensim.models.keyedvectors.Vocab at 0x20b7bdef0>,\n",
       " 'r_das_laufende': <gensim.models.keyedvectors.Vocab at 0x2197d04a8>,\n",
       " 'DiLullo': <gensim.models.keyedvectors.Vocab at 0x1ef26be10>,\n",
       " 'Tylenol_Sudafed': <gensim.models.keyedvectors.Vocab at 0x22a17e668>,\n",
       " 'Shere': <gensim.models.keyedvectors.Vocab at 0x1ea3e7ac8>,\n",
       " 'Sheikh_Abu_Qatada': <gensim.models.keyedvectors.Vocab at 0x224ee1588>,\n",
       " 'BRANSON_Mo.': <gensim.models.keyedvectors.Vocab at 0x1eeffc898>,\n",
       " 'Allido': <gensim.models.keyedvectors.Vocab at 0x21e78a828>,\n",
       " 'Charlene_Barshefsky': <gensim.models.keyedvectors.Vocab at 0x2003fec88>,\n",
       " 'Nederman': <gensim.models.keyedvectors.Vocab at 0x1fc2c1400>,\n",
       " 'chief_Niyaz_Mohammad': <gensim.models.keyedvectors.Vocab at 0x21fecdb00>,\n",
       " 'Too_Late': <gensim.models.keyedvectors.Vocab at 0x1e3c25e80>,\n",
       " 'owner_Craig_Leipold': <gensim.models.keyedvectors.Vocab at 0x1e836a278>,\n",
       " 'Canobeam': <gensim.models.keyedvectors.Vocab at 0x208e08a58>,\n",
       " 'lager_drinkers': <gensim.models.keyedvectors.Vocab at 0x217db58d0>,\n",
       " 'Kimberly_Caparo': <gensim.models.keyedvectors.Vocab at 0x235412710>,\n",
       " 'Randy_Parton': <gensim.models.keyedvectors.Vocab at 0x1eb5d6f98>,\n",
       " 'Phase_III_clinical_trials': <gensim.models.keyedvectors.Vocab at 0x10303b710>,\n",
       " 'HIT_RUN': <gensim.models.keyedvectors.Vocab at 0x20086fba8>,\n",
       " 'Pistolas': <gensim.models.keyedvectors.Vocab at 0x209c8a438>,\n",
       " 'Chosin': <gensim.models.keyedvectors.Vocab at 0x1f0d9ab00>,\n",
       " 'Secoy': <gensim.models.keyedvectors.Vocab at 0x1ff836c88>,\n",
       " 'federally_subsidized_renters': <gensim.models.keyedvectors.Vocab at 0x24a95acc0>,\n",
       " 'Lawsuit_Dismissed': <gensim.models.keyedvectors.Vocab at 0x1f530eb00>,\n",
       " 'Tiantian_Sun': <gensim.models.keyedvectors.Vocab at 0x1f56bb198>,\n",
       " 'IIDCYA': <gensim.models.keyedvectors.Vocab at 0x1e6b167b8>,\n",
       " 'FAFLIC': <gensim.models.keyedvectors.Vocab at 0x1fe241048>,\n",
       " 'Naclerio': <gensim.models.keyedvectors.Vocab at 0x1e1f4df60>,\n",
       " 'notes_UST2YR_declined': <gensim.models.keyedvectors.Vocab at 0x231e0de80>,\n",
       " '6g_4a': <gensim.models.keyedvectors.Vocab at 0x214fe6860>,\n",
       " 'corneal_transplant_rejection': <gensim.models.keyedvectors.Vocab at 0x217da64e0>,\n",
       " 'TWINS': <gensim.models.keyedvectors.Vocab at 0x1e4b2a8d0>,\n",
       " 'Quadrilateral': <gensim.models.keyedvectors.Vocab at 0x203f5c470>,\n",
       " 'Karankawa': <gensim.models.keyedvectors.Vocab at 0x224e65320>,\n",
       " 'Tutto_Mercato_Web': <gensim.models.keyedvectors.Vocab at 0x24ac4ce10>,\n",
       " 'Michael_Ressemann': <gensim.models.keyedvectors.Vocab at 0x2255cea58>,\n",
       " 'BullMarket.com': <gensim.models.keyedvectors.Vocab at 0x1e620a518>,\n",
       " 'PPG_Paints': <gensim.models.keyedvectors.Vocab at 0x229a9ba20>,\n",
       " 'Luisa_Kuhn': <gensim.models.keyedvectors.Vocab at 0x22d1649e8>,\n",
       " 'Schäuble': <gensim.models.keyedvectors.Vocab at 0x1e976fb38>,\n",
       " 'consummate_perfectionist': <gensim.models.keyedvectors.Vocab at 0x2150b8a58>,\n",
       " 'Singanallur': <gensim.models.keyedvectors.Vocab at 0x2155bbfd0>,\n",
       " 'Truess': <gensim.models.keyedvectors.Vocab at 0x21d63da58>,\n",
       " 'F#.#_F#.#': <gensim.models.keyedvectors.Vocab at 0x224224400>,\n",
       " 'TM_DURIN_TM': <gensim.models.keyedvectors.Vocab at 0x24da72ba8>,\n",
       " 'Bocephus': <gensim.models.keyedvectors.Vocab at 0x1f2c04940>,\n",
       " 'UltiMAb_®': <gensim.models.keyedvectors.Vocab at 0x21614fa20>,\n",
       " 'OEDC': <gensim.models.keyedvectors.Vocab at 0x1fcefb780>,\n",
       " 'Irinotecan': <gensim.models.keyedvectors.Vocab at 0x1f264f5f8>,\n",
       " 'copious_quantities': <gensim.models.keyedvectors.Vocab at 0x1ed965668>,\n",
       " 'Siderar': <gensim.models.keyedvectors.Vocab at 0x1f07ecb70>,\n",
       " 'Dipartimento_di': <gensim.models.keyedvectors.Vocab at 0x21a2e2198>,\n",
       " 'Morgan_Kaolian': <gensim.models.keyedvectors.Vocab at 0x20a76cc18>,\n",
       " 'Animatronics': <gensim.models.keyedvectors.Vocab at 0x205e1b470>,\n",
       " 'Nicole_Fischelis_Macy': <gensim.models.keyedvectors.Vocab at 0x249606198>,\n",
       " 'Inc._www.GAOTek.com': <gensim.models.keyedvectors.Vocab at 0x205752160>,\n",
       " 'Telematica': <gensim.models.keyedvectors.Vocab at 0x227b2c358>,\n",
       " 'player_Abe_Keita': <gensim.models.keyedvectors.Vocab at 0x24f06c3c8>,\n",
       " 'brutally_stamped': <gensim.models.keyedvectors.Vocab at 0x23caf4a58>,\n",
       " 'pulmonary_embolism_blockage': <gensim.models.keyedvectors.Vocab at 0x22b3d7f98>,\n",
       " 'JVC_Jazz': <gensim.models.keyedvectors.Vocab at 0x1ea5ef7f0>,\n",
       " 'heartthrob_Jang_Dong': <gensim.models.keyedvectors.Vocab at 0x24ba41978>,\n",
       " 'Fiorentini': <gensim.models.keyedvectors.Vocab at 0x1e7131400>,\n",
       " 'ThinkBig': <gensim.models.keyedvectors.Vocab at 0x22248ecf8>,\n",
       " 'Management_Studies_JBIMS': <gensim.models.keyedvectors.Vocab at 0x21d126fd0>,\n",
       " '##:##_CET': <gensim.models.keyedvectors.Vocab at 0x1e2c4fcf8>,\n",
       " 'father': <gensim.models.keyedvectors.Vocab at 0x1e0732438>,\n",
       " 'MobileIron_Virtual_Smartphone': <gensim.models.keyedvectors.Vocab at 0x214d1a908>,\n",
       " 'suburban_Pinole': <gensim.models.keyedvectors.Vocab at 0x207878c50>,\n",
       " 'Argenta': <gensim.models.keyedvectors.Vocab at 0x1e6ecb208>,\n",
       " 'Filat': <gensim.models.keyedvectors.Vocab at 0x1f0f73be0>,\n",
       " 'Maesch': <gensim.models.keyedvectors.Vocab at 0x1fe42fdd8>,\n",
       " 'supermodel_Viveka_Babajee': <gensim.models.keyedvectors.Vocab at 0x228106c50>,\n",
       " 'moose_carcass': <gensim.models.keyedvectors.Vocab at 0x200dbb908>,\n",
       " 'Mesopotamian_civilization': <gensim.models.keyedvectors.Vocab at 0x219d697f0>,\n",
       " 'FROM_BLUE': <gensim.models.keyedvectors.Vocab at 0x21bdb9d68>,\n",
       " 'Plainfield_IL_#####-####': <gensim.models.keyedvectors.Vocab at 0x24a1d02b0>,\n",
       " 'Geita_Kalemela': <gensim.models.keyedvectors.Vocab at 0x24a903048>,\n",
       " 'Dana_Tims': <gensim.models.keyedvectors.Vocab at 0x205403278>,\n",
       " 'Machiavellian': <gensim.models.keyedvectors.Vocab at 0x1e303a278>,\n",
       " 'NetVision': <gensim.models.keyedvectors.Vocab at 0x1edd774a8>,\n",
       " '&_eventID_=': <gensim.models.keyedvectors.Vocab at 0x1e1cd8128>,\n",
       " 'Shoreditch_scruffy_area': <gensim.models.keyedvectors.Vocab at 0x2399adeb8>,\n",
       " 'Akhmed_Bilalov': <gensim.models.keyedvectors.Vocab at 0x236fac390>,\n",
       " 'Kinyarwanda': <gensim.models.keyedvectors.Vocab at 0x1eaf06dd8>,\n",
       " 'Ecuador_Yasuni': <gensim.models.keyedvectors.Vocab at 0x24ccf8358>,\n",
       " 'STOCKDALE': <gensim.models.keyedvectors.Vocab at 0x201bb0470>,\n",
       " 'undiscounted': <gensim.models.keyedvectors.Vocab at 0x1e81c1358>,\n",
       " 'Vehicle_Accident': <gensim.models.keyedvectors.Vocab at 0x1efe11358>,\n",
       " 'story_Erik_Schatzker': <gensim.models.keyedvectors.Vocab at 0x1efe9e2b0>,\n",
       " 'librettos': <gensim.models.keyedvectors.Vocab at 0x1f0f9cc18>,\n",
       " 'är_och': <gensim.models.keyedvectors.Vocab at 0x24c1de9e8>,\n",
       " 'Carloz_Ruiz_led': <gensim.models.keyedvectors.Vocab at 0x216a72240>,\n",
       " '#x##mm': <gensim.models.keyedvectors.Vocab at 0x208395f60>,\n",
       " 'Rudder_Tower': <gensim.models.keyedvectors.Vocab at 0x203461c88>,\n",
       " 'syndrome_skin_discoloration': <gensim.models.keyedvectors.Vocab at 0x21b967b00>,\n",
       " 'Smithsonian_Folkways_Recordings': <gensim.models.keyedvectors.Vocab at 0x20340fd68>,\n",
       " 'historic_Hinkle_Fieldhouse': <gensim.models.keyedvectors.Vocab at 0x1fbba00f0>,\n",
       " 'Binay_Chandgothia_chief': <gensim.models.keyedvectors.Vocab at 0x22c746160>,\n",
       " 'Hanawalt': <gensim.models.keyedvectors.Vocab at 0x1f329ce10>,\n",
       " 'yuan_denominated_bonds': <gensim.models.keyedvectors.Vocab at 0x1eb86ce10>,\n",
       " 'Miller_v._Wolpoff': <gensim.models.keyedvectors.Vocab at 0x24e290b70>,\n",
       " 'RIMG': <gensim.models.keyedvectors.Vocab at 0x2036d1d30>,\n",
       " 'Samra': <gensim.models.keyedvectors.Vocab at 0x1e5de2dd8>,\n",
       " 'wh0re': <gensim.models.keyedvectors.Vocab at 0x20a204390>,\n",
       " 'Firefighter_Injured_Battling': <gensim.models.keyedvectors.Vocab at 0x22c8de6a0>,\n",
       " 'Tara_Morice': <gensim.models.keyedvectors.Vocab at 0x238023198>,\n",
       " 'Jim_Kleinpeter': <gensim.models.keyedvectors.Vocab at 0x1eec97f60>,\n",
       " 'Javier_Cifuentes': <gensim.models.keyedvectors.Vocab at 0x24cab3d30>,\n",
       " 'Hj_Sirat': <gensim.models.keyedvectors.Vocab at 0x236a315c0>,\n",
       " 'Restrictive_Covenants': <gensim.models.keyedvectors.Vocab at 0x21f178f98>,\n",
       " 'Fetter_Logic': <gensim.models.keyedvectors.Vocab at 0x21dc7d828>,\n",
       " 'Glass_Molders': <gensim.models.keyedvectors.Vocab at 0x232aa34a8>,\n",
       " 'spokesman_Maj._Muthana': <gensim.models.keyedvectors.Vocab at 0x1fbf6a550>,\n",
       " 'Miguel_Villagran': <gensim.models.keyedvectors.Vocab at 0x202982d68>,\n",
       " 'CMLC': <gensim.models.keyedvectors.Vocab at 0x1fc239898>,\n",
       " 'By_BRIAN_LINDER': <gensim.models.keyedvectors.Vocab at 0x236fe75f8>,\n",
       " 'Netgear_ReadyNAS': <gensim.models.keyedvectors.Vocab at 0x219da3400>,\n",
       " 'Tha_Alkaholiks': <gensim.models.keyedvectors.Vocab at 0x20987d2b0>,\n",
       " 'www.cednc.org': <gensim.models.keyedvectors.Vocab at 0x200ddb278>,\n",
       " 'Dr._Vilayanur_Ramachandran': <gensim.models.keyedvectors.Vocab at 0x24e063a58>,\n",
       " 'Nathalie_Lorrain': <gensim.models.keyedvectors.Vocab at 0x221a4f860>,\n",
       " 'OF_INCOME_UNAUDITED': <gensim.models.keyedvectors.Vocab at 0x208ee38d0>,\n",
       " 'Omnifone': <gensim.models.keyedvectors.Vocab at 0x1e8318dd8>,\n",
       " 'Stephen_Coan': <gensim.models.keyedvectors.Vocab at 0x1eb8579e8>,\n",
       " 'U###DX': <gensim.models.keyedvectors.Vocab at 0x24ba56160>,\n",
       " 'intercontinental_ballistic_missile_launchers': <gensim.models.keyedvectors.Vocab at 0x216153a20>,\n",
       " 'Cedatos': <gensim.models.keyedvectors.Vocab at 0x229764908>,\n",
       " 'WILL_HAPPEN': <gensim.models.keyedvectors.Vocab at 0x20d680358>,\n",
       " 'Mark_Cohoon': <gensim.models.keyedvectors.Vocab at 0x2384bdb00>,\n",
       " 'Triangle_Waist_Company': <gensim.models.keyedvectors.Vocab at 0x2266bfbe0>,\n",
       " 'Leader_Jeanette_Fitzsimons': <gensim.models.keyedvectors.Vocab at 0x1fdbf7dd8>,\n",
       " 'another_ambitious_striver': <gensim.models.keyedvectors.Vocab at 0x23b3464a8>,\n",
       " 'Mahilpur': <gensim.models.keyedvectors.Vocab at 0x1fd52dcf8>,\n",
       " 'Bennardo': <gensim.models.keyedvectors.Vocab at 0x208c7b048>,\n",
       " 'Belle_Clair': <gensim.models.keyedvectors.Vocab at 0x1f2521080>,\n",
       " 'Munaile': <gensim.models.keyedvectors.Vocab at 0x21f704a58>,\n",
       " 'Entrust_ENTU': <gensim.models.keyedvectors.Vocab at 0x24dda39e8>,\n",
       " 'Aigburth': <gensim.models.keyedvectors.Vocab at 0x1e99b39b0>,\n",
       " 'unplayable': <gensim.models.keyedvectors.Vocab at 0x1e22ae9b0>,\n",
       " 'Purfeerst': <gensim.models.keyedvectors.Vocab at 0x22e17a630>,\n",
       " 'slowburn': <gensim.models.keyedvectors.Vocab at 0x21df354e0>,\n",
       " 'Merck_MRK.N': <gensim.models.keyedvectors.Vocab at 0x20cc01898>,\n",
       " 'Shyra': <gensim.models.keyedvectors.Vocab at 0x1f69a8588>,\n",
       " 'Malaysian_Azahari_Husin': <gensim.models.keyedvectors.Vocab at 0x225de5f28>,\n",
       " 'Lonker': <gensim.models.keyedvectors.Vocab at 0x21e5aa898>,\n",
       " 'Othusitse_Mahube': <gensim.models.keyedvectors.Vocab at 0x232a8ef28>,\n",
       " 'HAIR_STYLIST': <gensim.models.keyedvectors.Vocab at 0x24bcf20b8>,\n",
       " 'Vengeance_belongs': <gensim.models.keyedvectors.Vocab at 0x234ec4128>,\n",
       " 'Madugalle': <gensim.models.keyedvectors.Vocab at 0x1e7148e10>,\n",
       " 'Tornadoes_Hit': <gensim.models.keyedvectors.Vocab at 0x1ff977cf8>,\n",
       " 'sandblast_jet_windshield': <gensim.models.keyedvectors.Vocab at 0x1fe9cb710>,\n",
       " 'Susan_LeFevre': <gensim.models.keyedvectors.Vocab at 0x1ef5956d8>,\n",
       " 'Kaypro': <gensim.models.keyedvectors.Vocab at 0x20bbb9748>,\n",
       " 'fireproofing_insulation': <gensim.models.keyedvectors.Vocab at 0x224b008d0>,\n",
       " 'smallgoods': <gensim.models.keyedvectors.Vocab at 0x1f256c0b8>,\n",
       " 'RealtyTrac_Rick_Sharga': <gensim.models.keyedvectors.Vocab at 0x22f7018d0>,\n",
       " 'Bob_Seger_Kid_Rock': <gensim.models.keyedvectors.Vocab at 0x226dcc4a8>,\n",
       " 'lawyer_Sergei_Magnitsky': <gensim.models.keyedvectors.Vocab at 0x1f4ea6ef0>,\n",
       " 'Shojo_Manga': <gensim.models.keyedvectors.Vocab at 0x234a95438>,\n",
       " 'Wilhelmina_Vanessa': <gensim.models.keyedvectors.Vocab at 0x2259b8588>,\n",
       " 'Sanger_Sequencing': <gensim.models.keyedvectors.Vocab at 0x22e000320>,\n",
       " 'Cherry_Vanilla': <gensim.models.keyedvectors.Vocab at 0x1fae8d390>,\n",
       " 'culinarian': <gensim.models.keyedvectors.Vocab at 0x202568a20>,\n",
       " 'judge_Ted_Mullighan': <gensim.models.keyedvectors.Vocab at 0x22f50c828>,\n",
       " 'Swansea_Ospreys': <gensim.models.keyedvectors.Vocab at 0x229d52dd8>,\n",
       " 'Carrier_Variant': <gensim.models.keyedvectors.Vocab at 0x233045470>,\n",
       " 'NAHB_Remodelers': <gensim.models.keyedvectors.Vocab at 0x2224133c8>,\n",
       " 'Cole_Dallaserra': <gensim.models.keyedvectors.Vocab at 0x224209f60>,\n",
       " 'AXLX': <gensim.models.keyedvectors.Vocab at 0x22780d0b8>,\n",
       " 'M_Pewtner': <gensim.models.keyedvectors.Vocab at 0x234e8fa58>,\n",
       " 'Tracy_Seipel_San': <gensim.models.keyedvectors.Vocab at 0x2247edb38>,\n",
       " 'Jon_Bois': <gensim.models.keyedvectors.Vocab at 0x22bee8e10>,\n",
       " 'Gathe': <gensim.models.keyedvectors.Vocab at 0x20dab8cc0>,\n",
       " 'Butchertown': <gensim.models.keyedvectors.Vocab at 0x1eff7e198>,\n",
       " 'Khaiseb': <gensim.models.keyedvectors.Vocab at 0x22bfaf7f0>,\n",
       " 'Betus.com': <gensim.models.keyedvectors.Vocab at 0x205055630>,\n",
       " 'System_SBIRS_geosynchronous': <gensim.models.keyedvectors.Vocab at 0x22e7e3fd0>,\n",
       " 'Chelten_Plaza': <gensim.models.keyedvectors.Vocab at 0x24d7dbc50>,\n",
       " 'TWEEN_CULTURE_Tweens': <gensim.models.keyedvectors.Vocab at 0x229556f28>,\n",
       " 'Raforth': <gensim.models.keyedvectors.Vocab at 0x22aa83f60>,\n",
       " 'Pharmacia_Corp.': <gensim.models.keyedvectors.Vocab at 0x1e96e2da0>,\n",
       " 'Justin_Carinci': <gensim.models.keyedvectors.Vocab at 0x22c82c518>,\n",
       " 'RN_Astra': <gensim.models.keyedvectors.Vocab at 0x227ac4710>,\n",
       " 'Franco_Sbaraglini': <gensim.models.keyedvectors.Vocab at 0x21ad234a8>,\n",
       " 'Libigrow': <gensim.models.keyedvectors.Vocab at 0x2096f15f8>,\n",
       " 'Dr._Lewis_Yocum': <gensim.models.keyedvectors.Vocab at 0x1e507c5f8>,\n",
       " 'Bonang_Mohale': <gensim.models.keyedvectors.Vocab at 0x236130eb8>,\n",
       " 'Bracco_Imaging_SpA': <gensim.models.keyedvectors.Vocab at 0x2257deeb8>,\n",
       " 'msaccone@gjds.com': <gensim.models.keyedvectors.Vocab at 0x20aa28748>,\n",
       " 'Ssas': <gensim.models.keyedvectors.Vocab at 0x209a65128>,\n",
       " 'Kweku': <gensim.models.keyedvectors.Vocab at 0x1e9c4ecf8>,\n",
       " 'Argentine_Sergio_Roitman': <gensim.models.keyedvectors.Vocab at 0x1ffea5710>,\n",
       " 'normally_mild_mannered': <gensim.models.keyedvectors.Vocab at 0x1e9fcb668>,\n",
       " 'NODS': <gensim.models.keyedvectors.Vocab at 0x1fdb83908>,\n",
       " 'McAfee_Virtual_Criminology': <gensim.models.keyedvectors.Vocab at 0x23387beb8>,\n",
       " 'WaPo_op_ed': <gensim.models.keyedvectors.Vocab at 0x238a0ecf8>,\n",
       " 'Lake_Wanaka': <gensim.models.keyedvectors.Vocab at 0x1ea5b8128>,\n",
       " 'GAMBLING': <gensim.models.keyedvectors.Vocab at 0x1ea208c18>,\n",
       " 'NCEA_Level': <gensim.models.keyedvectors.Vocab at 0x204b1f2e8>,\n",
       " 'Mark_Pykett': <gensim.models.keyedvectors.Vocab at 0x2235bca20>,\n",
       " 'novelist_Doris_Lessing': <gensim.models.keyedvectors.Vocab at 0x21c8df358>,\n",
       " 'strum_bar': <gensim.models.keyedvectors.Vocab at 0x1f1775fd0>,\n",
       " 'suites_www.jqhhotels.com': <gensim.models.keyedvectors.Vocab at 0x2242c8f60>,\n",
       " 'Middleweight_champ': <gensim.models.keyedvectors.Vocab at 0x20aa64a58>,\n",
       " 'Redline_Networks': <gensim.models.keyedvectors.Vocab at 0x1f70acdd8>,\n",
       " 'lobster_tails': <gensim.models.keyedvectors.Vocab at 0x1e84f7358>,\n",
       " 'Vienna_Burgtheater': <gensim.models.keyedvectors.Vocab at 0x22f4a05c0>,\n",
       " 'Gitto_Global': <gensim.models.keyedvectors.Vocab at 0x1fe4faa20>,\n",
       " 'Zimbabweâ_€_™': <gensim.models.keyedvectors.Vocab at 0x1fca40588>,\n",
       " 'Refresh_Anthem': <gensim.models.keyedvectors.Vocab at 0x239ff3390>,\n",
       " 'Taglioni': <gensim.models.keyedvectors.Vocab at 0x20acac8d0>,\n",
       " 'Defenseman_Brooks_Orpik': <gensim.models.keyedvectors.Vocab at 0x2075e19b0>,\n",
       " 'Tinder': <gensim.models.keyedvectors.Vocab at 0x1e84a1518>,\n",
       " 'Festspielhaus': <gensim.models.keyedvectors.Vocab at 0x1f5cf3a58>,\n",
       " 'Berseba': <gensim.models.keyedvectors.Vocab at 0x20e2ec438>,\n",
       " 'Nicholas_Jillson': <gensim.models.keyedvectors.Vocab at 0x20d11a748>,\n",
       " 'Mirimar': <gensim.models.keyedvectors.Vocab at 0x2161ace10>,\n",
       " 'Stoned': <gensim.models.keyedvectors.Vocab at 0x1e7729898>,\n",
       " 'NYSE_KOP': <gensim.models.keyedvectors.Vocab at 0x1fd5cdef0>,\n",
       " 'Compo_Beach': <gensim.models.keyedvectors.Vocab at 0x1f30f7400>,\n",
       " 'PETER_MAJOR_Well': <gensim.models.keyedvectors.Vocab at 0x231b33c18>,\n",
       " 'Lead###_tracks': <gensim.models.keyedvectors.Vocab at 0x2369c9f60>,\n",
       " 'AN_APPLICABLE_EXEMPTION_FROM': <gensim.models.keyedvectors.Vocab at 0x20dda4358>,\n",
       " 'Alex_Eckelberry': <gensim.models.keyedvectors.Vocab at 0x1f406d1d0>,\n",
       " 'Jonny_Malbon': <gensim.models.keyedvectors.Vocab at 0x1fafaebe0>,\n",
       " 'mariachi_trumpet': <gensim.models.keyedvectors.Vocab at 0x2289a7978>,\n",
       " 'Chen_Yaozu_general': <gensim.models.keyedvectors.Vocab at 0x24babd908>,\n",
       " 'Sandefjord': <gensim.models.keyedvectors.Vocab at 0x1f13c7da0>,\n",
       " 'Pakeezah': <gensim.models.keyedvectors.Vocab at 0x1f3d5f710>,\n",
       " 'Mkandla': <gensim.models.keyedvectors.Vocab at 0x2012dcef0>,\n",
       " 'CL_Raheja': <gensim.models.keyedvectors.Vocab at 0x231488860>,\n",
       " 'PIC##H': <gensim.models.keyedvectors.Vocab at 0x227a63c50>,\n",
       " 'Aki_Takase': <gensim.models.keyedvectors.Vocab at 0x24b64d550>,\n",
       " 'OUT_OF_FAVOUR': <gensim.models.keyedvectors.Vocab at 0x238d38a58>,\n",
       " 'Abu_Ghoush': <gensim.models.keyedvectors.Vocab at 0x224e3d780>,\n",
       " 'emotive': <gensim.models.keyedvectors.Vocab at 0x1e1fbbe10>,\n",
       " 'gastrointestinal_disorder': <gensim.models.keyedvectors.Vocab at 0x1ef7874e0>,\n",
       " 'As_Pb_Ni': <gensim.models.keyedvectors.Vocab at 0x234549f60>,\n",
       " 'Mitsuo_Miwa': <gensim.models.keyedvectors.Vocab at 0x2495071d0>,\n",
       " 'Lazov': <gensim.models.keyedvectors.Vocab at 0x200139f98>,\n",
       " 'GARY_KLEIN_Los_Angeles': <gensim.models.keyedvectors.Vocab at 0x24da3f5f8>,\n",
       " 'Minyanville': <gensim.models.keyedvectors.Vocab at 0x1e5a1bb00>,\n",
       " 'Latour': <gensim.models.keyedvectors.Vocab at 0x1e4c85240>,\n",
       " 'Demilitarized_Zone_bisecting': <gensim.models.keyedvectors.Vocab at 0x24eb2b710>,\n",
       " 'Julien_Sacha_Baron': <gensim.models.keyedvectors.Vocab at 0x2359fa438>,\n",
       " 'Raj_Kahlon': <gensim.models.keyedvectors.Vocab at 0x22c38d898>,\n",
       " 'FIRST_STATE': <gensim.models.keyedvectors.Vocab at 0x20ca2b748>,\n",
       " 'irritability_anxiety': <gensim.models.keyedvectors.Vocab at 0x1fae19240>,\n",
       " 'SogoTrade': <gensim.models.keyedvectors.Vocab at 0x1f7563c18>,\n",
       " 'Inhibiton': <gensim.models.keyedvectors.Vocab at 0x224250908>,\n",
       " 'MDCE': <gensim.models.keyedvectors.Vocab at 0x1f282bb70>,\n",
       " 'Germany_Deutsche_Bourse': <gensim.models.keyedvectors.Vocab at 0x2046012b0>,\n",
       " 'ship_Gotheborg': <gensim.models.keyedvectors.Vocab at 0x23a6f6e48>,\n",
       " 'DAWSON_CREEK_BC': <gensim.models.keyedvectors.Vocab at 0x201fdc908>,\n",
       " 'glaring_flaw': <gensim.models.keyedvectors.Vocab at 0x1ee0a1898>,\n",
       " 'Firearm': <gensim.models.keyedvectors.Vocab at 0x1e45e0908>,\n",
       " 'Katey_Sagal_Sons': <gensim.models.keyedvectors.Vocab at 0x2238b7668>,\n",
       " 'Tim_Evnin': <gensim.models.keyedvectors.Vocab at 0x22fc64f98>,\n",
       " 'lifts_Hawksnest': <gensim.models.keyedvectors.Vocab at 0x24e0980b8>,\n",
       " \"IPO'd\": <gensim.models.keyedvectors.Vocab at 0x1f3d57438>,\n",
       " 'femtocell_picocell': <gensim.models.keyedvectors.Vocab at 0x2318bae10>,\n",
       " 'wife_Marjorie_Roxby': <gensim.models.keyedvectors.Vocab at 0x2230986d8>,\n",
       " 'CARRIE_UNDERWOOD': <gensim.models.keyedvectors.Vocab at 0x1f45b0240>,\n",
       " 'MP_James_Plaskitt': <gensim.models.keyedvectors.Vocab at 0x20dd21550>,\n",
       " 'Bilstein_shocks': <gensim.models.keyedvectors.Vocab at 0x1fd589160>,\n",
       " 'Provide_Comprehensive': <gensim.models.keyedvectors.Vocab at 0x1f2c1ca58>,\n",
       " 'midfielder_Radostin_Kishishev': <gensim.models.keyedvectors.Vocab at 0x22186bc18>,\n",
       " 'Ratu_Isoa_Gavidi': <gensim.models.keyedvectors.Vocab at 0x23641c5f8>,\n",
       " 'antlerless_deer_permits': <gensim.models.keyedvectors.Vocab at 0x1fde0abe0>,\n",
       " 'Fariz': <gensim.models.keyedvectors.Vocab at 0x1ea558470>,\n",
       " 'Let_Pollute': <gensim.models.keyedvectors.Vocab at 0x220a8e7f0>,\n",
       " 'Yves_Behar': <gensim.models.keyedvectors.Vocab at 0x1f50f08d0>,\n",
       " 'Mohammed_Ziane': <gensim.models.keyedvectors.Vocab at 0x24b6582b0>,\n",
       " 'spicy_pickled': <gensim.models.keyedvectors.Vocab at 0x204805828>,\n",
       " 'Charleston_Swamp_Foxes': <gensim.models.keyedvectors.Vocab at 0x225773ef0>,\n",
       " 'Wells_Notices': <gensim.models.keyedvectors.Vocab at 0x22f589cc0>,\n",
       " 'Liu_Wei': <gensim.models.keyedvectors.Vocab at 0x1e903e748>,\n",
       " 'Liszt_Sonata': <gensim.models.keyedvectors.Vocab at 0x221e08cf8>,\n",
       " 'supplement_ZMA': <gensim.models.keyedvectors.Vocab at 0x2263142e8>,\n",
       " 'Jon_Stinchcomb_T': <gensim.models.keyedvectors.Vocab at 0x203c09208>,\n",
       " 'optical_fiber_cable': <gensim.models.keyedvectors.Vocab at 0x1e84107b8>,\n",
       " 'Tiffin_Flea_Market': <gensim.models.keyedvectors.Vocab at 0x21e707ef0>,\n",
       " 'PRNewswire_FirstCall_Glimcher_Realty': <gensim.models.keyedvectors.Vocab at 0x204e6beb8>,\n",
       " 'TRANSFER_TO': <gensim.models.keyedvectors.Vocab at 0x221a71278>,\n",
       " 'Fort_Lauderdale_FLL': <gensim.models.keyedvectors.Vocab at 0x220a91cc0>,\n",
       " 'Ars_Electronica_Festival': <gensim.models.keyedvectors.Vocab at 0x249e0bf60>,\n",
       " 'gin_tonic': <gensim.models.keyedvectors.Vocab at 0x22e4d2c18>,\n",
       " 'Cakl': <gensim.models.keyedvectors.Vocab at 0x20dbea668>,\n",
       " 'Mennes': <gensim.models.keyedvectors.Vocab at 0x1eece0358>,\n",
       " 'Tero_Pitkämäki': <gensim.models.keyedvectors.Vocab at 0x21c099dd8>,\n",
       " 'Dotcomology': <gensim.models.keyedvectors.Vocab at 0x22c7b73c8>,\n",
       " 'distributing_mosquito_nets': <gensim.models.keyedvectors.Vocab at 0x21d98eac8>,\n",
       " 'SMIS': <gensim.models.keyedvectors.Vocab at 0x218a7e400>,\n",
       " 'Bankimchandra_Chatterjee': <gensim.models.keyedvectors.Vocab at 0x24c25c0b8>,\n",
       " 'PUBLIC_COMMENT': <gensim.models.keyedvectors.Vocab at 0x216ac65c0>,\n",
       " 'actualizing': <gensim.models.keyedvectors.Vocab at 0x1eb3a1438>,\n",
       " 'Serb_strongman_Slobodan': <gensim.models.keyedvectors.Vocab at 0x217892d30>,\n",
       " 'lawyer_Amer_Hamzah': <gensim.models.keyedvectors.Vocab at 0x2353ac860>,\n",
       " 'Romit': <gensim.models.keyedvectors.Vocab at 0x1e34897b8>,\n",
       " 'Kevin_Hazaert': <gensim.models.keyedvectors.Vocab at 0x22b3d78d0>,\n",
       " 'Audrey_Watters': <gensim.models.keyedvectors.Vocab at 0x21bf025f8>,\n",
       " 'wearing_throwback_jerseys': <gensim.models.keyedvectors.Vocab at 0x202872668>,\n",
       " 'BORDEAUX_France': <gensim.models.keyedvectors.Vocab at 0x1ee7ee588>,\n",
       " 'woolen_fabric': <gensim.models.keyedvectors.Vocab at 0x20d6b92e8>,\n",
       " 'By_DONNELLE_ELLER': <gensim.models.keyedvectors.Vocab at 0x1fae13828>,\n",
       " 'wife_Arsenia_burst': <gensim.models.keyedvectors.Vocab at 0x24b1bbc88>,\n",
       " 'Motu_Tony': <gensim.models.keyedvectors.Vocab at 0x1eb6a42b0>,\n",
       " 'co_trimoxazole': <gensim.models.keyedvectors.Vocab at 0x1ff4182b0>,\n",
       " 'Creelman': <gensim.models.keyedvectors.Vocab at 0x1ea9a8dd8>,\n",
       " 'Personality_Traits_Compatible_Zodiac': <gensim.models.keyedvectors.Vocab at 0x221aa1ac8>,\n",
       " 'SecurEnvoy': <gensim.models.keyedvectors.Vocab at 0x20770c4a8>,\n",
       " 'specifically_disclaims': <gensim.models.keyedvectors.Vocab at 0x1e2b44d30>,\n",
       " 'apples_dried_cranberries': <gensim.models.keyedvectors.Vocab at 0x249bc0518>,\n",
       " 'Craig_Bramscher': <gensim.models.keyedvectors.Vocab at 0x226ec2358>,\n",
       " 'President_Felipe_Calderon': <gensim.models.keyedvectors.Vocab at 0x1e1607860>,\n",
       " \"L'_Humanité\": <gensim.models.keyedvectors.Vocab at 0x2039e5320>,\n",
       " 'SUNDANCE_REVIEW': <gensim.models.keyedvectors.Vocab at 0x24bc525c0>,\n",
       " 'Jean_Michel_Jeantet': <gensim.models.keyedvectors.Vocab at 0x224236e48>,\n",
       " 'LINCOLNSHIRE_IL': <gensim.models.keyedvectors.Vocab at 0x233594128>,\n",
       " 'Hallidie_Plaza': <gensim.models.keyedvectors.Vocab at 0x21a9e7860>,\n",
       " 'Moe_Berg': <gensim.models.keyedvectors.Vocab at 0x1f5ffe828>,\n",
       " 'Jean_Betrand_Aristide': <gensim.models.keyedvectors.Vocab at 0x224ef6c18>,\n",
       " 'Filippo_Pozzato': <gensim.models.keyedvectors.Vocab at 0x1ea734630>,\n",
       " 'brightly_flashing_lights': <gensim.models.keyedvectors.Vocab at 0x22f91d080>,\n",
       " 'Stephen_Ondiek': <gensim.models.keyedvectors.Vocab at 0x23619d780>,\n",
       " 'Vegetable_Lasagna': <gensim.models.keyedvectors.Vocab at 0x22f7672b0>,\n",
       " 'Soula': <gensim.models.keyedvectors.Vocab at 0x1f5fd7390>,\n",
       " 'David_Uchiyama_HTA': <gensim.models.keyedvectors.Vocab at 0x233f96668>,\n",
       " 'BEIT': <gensim.models.keyedvectors.Vocab at 0x1ffab6dd8>,\n",
       " 'Cytta_Corp.': <gensim.models.keyedvectors.Vocab at 0x229901c18>,\n",
       " 'Autometrics_Motorsports_Porsche_GT3': <gensim.models.keyedvectors.Vocab at 0x24b1c4cc0>,\n",
       " 'unchartered': <gensim.models.keyedvectors.Vocab at 0x1eb193b38>,\n",
       " 'HANGING_AROUND': <gensim.models.keyedvectors.Vocab at 0x230d5f588>,\n",
       " 'Rudi_Brewster': <gensim.models.keyedvectors.Vocab at 0x1fc2d6278>,\n",
       " 'nyse_RAD': <gensim.models.keyedvectors.Vocab at 0x21c77e080>,\n",
       " 'Eisenburg': <gensim.models.keyedvectors.Vocab at 0x20a5a0550>,\n",
       " 'Oprah_Effect': <gensim.models.keyedvectors.Vocab at 0x2057594e0>,\n",
       " 'Mayweather_Promotions': <gensim.models.keyedvectors.Vocab at 0x1e1d16208>,\n",
       " 'OPPORTUNITIES_IN_THE': <gensim.models.keyedvectors.Vocab at 0x2054b3978>,\n",
       " 'Kaalai': <gensim.models.keyedvectors.Vocab at 0x21caaa9b0>,\n",
       " 'bidirectional_RS': <gensim.models.keyedvectors.Vocab at 0x236d42518>,\n",
       " 'Revotar': <gensim.models.keyedvectors.Vocab at 0x217c714a8>,\n",
       " 'headline_WORLD_CHAMPS': <gensim.models.keyedvectors.Vocab at 0x231b68278>,\n",
       " 'Gravelyn': <gensim.models.keyedvectors.Vocab at 0x21c030780>,\n",
       " 'CGX_ENERGY_INC.': <gensim.models.keyedvectors.Vocab at 0x234a7d7b8>,\n",
       " 'Hasim_Rahman': <gensim.models.keyedvectors.Vocab at 0x1e4517828>,\n",
       " 'Jupiter_Borucki': <gensim.models.keyedvectors.Vocab at 0x24ba690b8>,\n",
       " 'Roger_Hatchuel': <gensim.models.keyedvectors.Vocab at 0x20abc9e48>,\n",
       " 'Rep._Lynn_Woolsey': <gensim.models.keyedvectors.Vocab at 0x1e71a14e0>,\n",
       " 'Kalpana_Lajmi': <gensim.models.keyedvectors.Vocab at 0x1f3602e48>,\n",
       " 'Nara_Chandrababu_Naidu': <gensim.models.keyedvectors.Vocab at 0x21e538978>,\n",
       " 'Dixie_Chatter': <gensim.models.keyedvectors.Vocab at 0x1fc48ba20>,\n",
       " 'Park_SGNP': <gensim.models.keyedvectors.Vocab at 0x220248898>,\n",
       " 'dustrial': <gensim.models.keyedvectors.Vocab at 0x218ff8390>,\n",
       " 'Maggie_Viefhaus': <gensim.models.keyedvectors.Vocab at 0x21d700fd0>,\n",
       " 'Surgicentre': <gensim.models.keyedvectors.Vocab at 0x220711cf8>,\n",
       " 'wax_myrtle': <gensim.models.keyedvectors.Vocab at 0x1f61ffba8>,\n",
       " 'RETIRED': <gensim.models.keyedvectors.Vocab at 0x1e5c25780>,\n",
       " 'relapsed_Acute_Myeloid': <gensim.models.keyedvectors.Vocab at 0x2382af550>,\n",
       " 'FOR_SNOW_MEANS': <gensim.models.keyedvectors.Vocab at 0x2349372b0>,\n",
       " 'GBC_GBC_News': <gensim.models.keyedvectors.Vocab at 0x23650f0f0>,\n",
       " 'SITA_SC': <gensim.models.keyedvectors.Vocab at 0x20524aeb8>,\n",
       " 'Gerda_Stein': <gensim.models.keyedvectors.Vocab at 0x237c10ba8>,\n",
       " 'Terrence_Whitehead': <gensim.models.keyedvectors.Vocab at 0x1ee7aed30>,\n",
       " 'televisions_fridges': <gensim.models.keyedvectors.Vocab at 0x228d79ef0>,\n",
       " 'Lauren_Jiggetts': <gensim.models.keyedvectors.Vocab at 0x22c286b38>,\n",
       " 'Allan_Buchman': <gensim.models.keyedvectors.Vocab at 0x21d44de80>,\n",
       " 'ADRL': <gensim.models.keyedvectors.Vocab at 0x1e9248f98>,\n",
       " 'galleria': <gensim.models.keyedvectors.Vocab at 0x1edeaecc0>,\n",
       " 'Andy_Wayte': <gensim.models.keyedvectors.Vocab at 0x24e3adb00>,\n",
       " 'Grape_Crush': <gensim.models.keyedvectors.Vocab at 0x222160358>,\n",
       " 'Kitenge_gold': <gensim.models.keyedvectors.Vocab at 0x238069240>,\n",
       " 'MARTHA_IRVINE': <gensim.models.keyedvectors.Vocab at 0x221416c88>,\n",
       " 'Guizot': <gensim.models.keyedvectors.Vocab at 0x2221fed30>,\n",
       " 'Scott_Suchman': <gensim.models.keyedvectors.Vocab at 0x20bc9f390>,\n",
       " 'spokesperson_Sergeant_Sanku': <gensim.models.keyedvectors.Vocab at 0x23565fa90>,\n",
       " 'Arthritis_Pain_Caplet': <gensim.models.keyedvectors.Vocab at 0x20b7e1ac8>,\n",
       " 'including_weblogs_podcasts': <gensim.models.keyedvectors.Vocab at 0x203cdb9b0>,\n",
       " 'Labour_MPs': <gensim.models.keyedvectors.Vocab at 0x1e1c8d6d8>,\n",
       " 'myxedema': <gensim.models.keyedvectors.Vocab at 0x229fa1ef0>,\n",
       " 'peanut_butter_salmonella_outbreak': <gensim.models.keyedvectors.Vocab at 0x1e6e637b8>,\n",
       " 'kahawai': <gensim.models.keyedvectors.Vocab at 0x1f2cbd3c8>,\n",
       " 'Litonjua': <gensim.models.keyedvectors.Vocab at 0x20dd0c390>,\n",
       " 'er_bb_k': <gensim.models.keyedvectors.Vocab at 0x24f0529e8>,\n",
       " \"'S_DEPARTURE\": <gensim.models.keyedvectors.Vocab at 0x21d2f7128>,\n",
       " 'Delmonaco': <gensim.models.keyedvectors.Vocab at 0x2086a4f28>,\n",
       " 'Pathologist_Cyril_Wecht': <gensim.models.keyedvectors.Vocab at 0x22e53ea58>,\n",
       " 'lobbing_mortars': <gensim.models.keyedvectors.Vocab at 0x201af7a20>,\n",
       " 'pecks': <gensim.models.keyedvectors.Vocab at 0x1e7ef6b00>,\n",
       " 'CrimethInc': <gensim.models.keyedvectors.Vocab at 0x203d10390>,\n",
       " 'Andrew_Kameka': <gensim.models.keyedvectors.Vocab at 0x23c05ef28>,\n",
       " 'Jahre_Viking': <gensim.models.keyedvectors.Vocab at 0x24ba36ba8>,\n",
       " 'MOBI_Awards': <gensim.models.keyedvectors.Vocab at 0x24a51a978>,\n",
       " 'Leonard_Fennville': <gensim.models.keyedvectors.Vocab at 0x23bb779b0>,\n",
       " 'intially': <gensim.models.keyedvectors.Vocab at 0x1e8810f60>,\n",
       " 'Gilleran': <gensim.models.keyedvectors.Vocab at 0x1eb557940>,\n",
       " 'spokeswoman_Pam_Girardo': <gensim.models.keyedvectors.Vocab at 0x223e184a8>,\n",
       " 'Llyn_Foulkes': <gensim.models.keyedvectors.Vocab at 0x24a6d7b00>,\n",
       " 'Chethik': <gensim.models.keyedvectors.Vocab at 0x21df71048>,\n",
       " 'DID_YOU_FEEL_LIKE': <gensim.models.keyedvectors.Vocab at 0x23a0af780>,\n",
       " 'Pubic_lice': <gensim.models.keyedvectors.Vocab at 0x227ea81d0>,\n",
       " 'CodeBaby': <gensim.models.keyedvectors.Vocab at 0x1f5b40d30>,\n",
       " 'FAIRFIELD_COUNTY_SC_WIS': <gensim.models.keyedvectors.Vocab at 0x229d96b00>,\n",
       " 'SHERMAN_OAKS_Calif.': <gensim.models.keyedvectors.Vocab at 0x1f28dd1d0>,\n",
       " 'Meso_Foundation': <gensim.models.keyedvectors.Vocab at 0x20031b0b8>,\n",
       " 'Monifa_Bandele': <gensim.models.keyedvectors.Vocab at 0x24e735e80>,\n",
       " 'kindergartener': <gensim.models.keyedvectors.Vocab at 0x1e5de2198>,\n",
       " 'arthroscopic_surgical': <gensim.models.keyedvectors.Vocab at 0x214d22dd8>,\n",
       " 'Tomball_Parkway': <gensim.models.keyedvectors.Vocab at 0x20c2b0470>,\n",
       " 'Justices_Deepak_Verma': <gensim.models.keyedvectors.Vocab at 0x21a68c518>,\n",
       " 'Belinda_Cranston': <gensim.models.keyedvectors.Vocab at 0x2330d5160>,\n",
       " 'Photo_http://www.newscom.com/cgi-bin/prnh/########/LAM###': <gensim.models.keyedvectors.Vocab at 0x209332400>,\n",
       " 'Nasdaq_ESST': <gensim.models.keyedvectors.Vocab at 0x229436eb8>,\n",
       " 'Embosphere_Microspheres': <gensim.models.keyedvectors.Vocab at 0x21d624c88>,\n",
       " 'Bomb_Explodes_Outside': <gensim.models.keyedvectors.Vocab at 0x22dbd4128>,\n",
       " 'Kingwood_Tex.': <gensim.models.keyedvectors.Vocab at 0x230dd0898>,\n",
       " 'Leninists': <gensim.models.keyedvectors.Vocab at 0x1f70d6e48>,\n",
       " 'Dorantes': <gensim.models.keyedvectors.Vocab at 0x1ee4e9828>,\n",
       " 'Irina_Lazareanu': <gensim.models.keyedvectors.Vocab at 0x203613da0>,\n",
       " 'Husayin': <gensim.models.keyedvectors.Vocab at 0x1f1701cc0>,\n",
       " 'Smoothbeam': <gensim.models.keyedvectors.Vocab at 0x22579c780>,\n",
       " 'sadistically_tortured': <gensim.models.keyedvectors.Vocab at 0x205a5aeb8>,\n",
       " 'Voyageurs_du_Monde': <gensim.models.keyedvectors.Vocab at 0x22ebf7860>,\n",
       " 'consultant_forensic_psychiatrist': <gensim.models.keyedvectors.Vocab at 0x2177b8860>,\n",
       " 'antitoxin_anthrax_immune_globulin': <gensim.models.keyedvectors.Vocab at 0x23a5b6080>,\n",
       " 'Precept': <gensim.models.keyedvectors.Vocab at 0x1e9c8a320>,\n",
       " 'cocoa_powders': <gensim.models.keyedvectors.Vocab at 0x207dbf518>,\n",
       " 'Manufacturing_IfM': <gensim.models.keyedvectors.Vocab at 0x24e28d0f0>,\n",
       " 'Geauga_Cuyahoga': <gensim.models.keyedvectors.Vocab at 0x22eb7ee48>,\n",
       " 'dogbane': <gensim.models.keyedvectors.Vocab at 0x218236f28>,\n",
       " 'Muslim_sultanate': <gensim.models.keyedvectors.Vocab at 0x1f2e02198>,\n",
       " 'Salomon_Snowboards': <gensim.models.keyedvectors.Vocab at 0x22cbf79e8>,\n",
       " 'Pannon_GSM': <gensim.models.keyedvectors.Vocab at 0x1fd6121d0>,\n",
       " 'NBCAM': <gensim.models.keyedvectors.Vocab at 0x1ff1ee160>,\n",
       " 'CROMWELL_Conn._Justin': <gensim.models.keyedvectors.Vocab at 0x223e8de80>,\n",
       " 'album_Hot_Buttered': <gensim.models.keyedvectors.Vocab at 0x2018ae7b8>,\n",
       " 'Weaverville_NC': <gensim.models.keyedvectors.Vocab at 0x1fe2a5b00>,\n",
       " 'Sylvia_Zerbini': <gensim.models.keyedvectors.Vocab at 0x22a9572e8>,\n",
       " 'Krznaric': <gensim.models.keyedvectors.Vocab at 0x2236b5438>,\n",
       " 'importance_provenance': <gensim.models.keyedvectors.Vocab at 0x1eae34240>,\n",
       " 'COORDINATING': <gensim.models.keyedvectors.Vocab at 0x22667f278>,\n",
       " 'Cimoszewicz': <gensim.models.keyedvectors.Vocab at 0x1f25fa828>,\n",
       " 'Al_Rabeiee': <gensim.models.keyedvectors.Vocab at 0x2388e1748>,\n",
       " 'HIV_AIDS_Implementers_Meeting': <gensim.models.keyedvectors.Vocab at 0x20a77a470>,\n",
       " 'iconic_Djemma_el_Fna': <gensim.models.keyedvectors.Vocab at 0x1ffd92f28>,\n",
       " 'Isberto': <gensim.models.keyedvectors.Vocab at 0x1ff854048>,\n",
       " 'Cardpoint': <gensim.models.keyedvectors.Vocab at 0x1eecdc390>,\n",
       " 'scenic_Taconic': <gensim.models.keyedvectors.Vocab at 0x227ee1ba8>,\n",
       " 'Wizzit': <gensim.models.keyedvectors.Vocab at 0x20291db38>,\n",
       " 'Brinkleys': <gensim.models.keyedvectors.Vocab at 0x214f3e940>,\n",
       " 'Cheese_Slices': <gensim.models.keyedvectors.Vocab at 0x22e7c69b0>,\n",
       " 'Chris_Dodd_D-Conn.': <gensim.models.keyedvectors.Vocab at 0x1e8d30c50>,\n",
       " 'Gastonia': <gensim.models.keyedvectors.Vocab at 0x1e223b9b0>,\n",
       " 'TORRINGTON_Torrington': <gensim.models.keyedvectors.Vocab at 0x22959c198>,\n",
       " 'Discount_Drug': <gensim.models.keyedvectors.Vocab at 0x1eaf32710>,\n",
       " 'Mike_Saccone': <gensim.models.keyedvectors.Vocab at 0x1f345ca20>,\n",
       " 'Splunk_Powered': <gensim.models.keyedvectors.Vocab at 0x234629fd0>,\n",
       " 'Rhodes_Kropf': <gensim.models.keyedvectors.Vocab at 0x24b0b3048>,\n",
       " 'Regional_Coordinating_Councils': <gensim.models.keyedvectors.Vocab at 0x2276c0f98>,\n",
       " 'Minister_Babulal_Gaur': <gensim.models.keyedvectors.Vocab at 0x1eddf0240>,\n",
       " 'Kokotec': <gensim.models.keyedvectors.Vocab at 0x22082b400>,\n",
       " 'feedback_contact_editorial@rttnews.com': <gensim.models.keyedvectors.Vocab at 0x1f3091710>,\n",
       " 'Il_Giornale_della_Musica': <gensim.models.keyedvectors.Vocab at 0x249001da0>,\n",
       " 'Gorilla_Biscuits': <gensim.models.keyedvectors.Vocab at 0x1ff1d0da0>,\n",
       " 'http://www.ccr.gov': <gensim.models.keyedvectors.Vocab at 0x20509da90>,\n",
       " 'Greenville_Spartanburg_Anderson': <gensim.models.keyedvectors.Vocab at 0x203042978>,\n",
       " 'residential_lettings': <gensim.models.keyedvectors.Vocab at 0x1f5cb0630>,\n",
       " 'Lauren_Flanigan': <gensim.models.keyedvectors.Vocab at 0x1fb7a5a20>,\n",
       " 'Hebert': <gensim.models.keyedvectors.Vocab at 0x1e13587b8>,\n",
       " 'Chronic_myeloid_leukemia_CML': <gensim.models.keyedvectors.Vocab at 0x2289f8668>,\n",
       " 'Johann_Kraus': <gensim.models.keyedvectors.Vocab at 0x23935fc88>,\n",
       " 'Givat_Assaf': <gensim.models.keyedvectors.Vocab at 0x20bcfd320>,\n",
       " 'MuzikMafia': <gensim.models.keyedvectors.Vocab at 0x1fb7ce4e0>,\n",
       " 'Ampfield_Hampshire': <gensim.models.keyedvectors.Vocab at 0x2281642e8>,\n",
       " 'riding_trackwork': <gensim.models.keyedvectors.Vocab at 0x1f674f6d8>,\n",
       " 'AMSTERDAM_Netherlands_ABN_Amro': <gensim.models.keyedvectors.Vocab at 0x20a3426a0>,\n",
       " 'Plocki': <gensim.models.keyedvectors.Vocab at 0x1facc7550>,\n",
       " 'UGDP_MLA': <gensim.models.keyedvectors.Vocab at 0x2284d1748>,\n",
       " 'Charming_Hostess': <gensim.models.keyedvectors.Vocab at 0x22d1a8278>,\n",
       " 'Laurel_Touby': <gensim.models.keyedvectors.Vocab at 0x20d8d9908>,\n",
       " 'receiver_Jared_Karstetter': <gensim.models.keyedvectors.Vocab at 0x2287bd630>,\n",
       " 'NEWSWEEK_COVER': <gensim.models.keyedvectors.Vocab at 0x2067bfeb8>,\n",
       " 'Halil_Altintop': <gensim.models.keyedvectors.Vocab at 0x1eb50b6a0>,\n",
       " 'DODD': <gensim.models.keyedvectors.Vocab at 0x1eab6eb38>,\n",
       " 'BioSentry_TM': <gensim.models.keyedvectors.Vocab at 0x216ab22b0>,\n",
       " 'Fregate': <gensim.models.keyedvectors.Vocab at 0x2287ad898>,\n",
       " 'GBP5m': <gensim.models.keyedvectors.Vocab at 0x206d85550>,\n",
       " 'Sukiasyan': <gensim.models.keyedvectors.Vocab at 0x209618198>,\n",
       " 'HILA': <gensim.models.keyedvectors.Vocab at 0x226b54668>,\n",
       " 'apprehend_criminals': <gensim.models.keyedvectors.Vocab at 0x1e1d6bcc0>,\n",
       " 'transplanted_liver': <gensim.models.keyedvectors.Vocab at 0x208ebcba8>,\n",
       " 'withother': <gensim.models.keyedvectors.Vocab at 0x20d879ba8>,\n",
       " 'Bechac': <gensim.models.keyedvectors.Vocab at 0x219f0c048>,\n",
       " 'Inc._PINKSHEETS_LHPT': <gensim.models.keyedvectors.Vocab at 0x23213b048>,\n",
       " 'Discontinued_Businesses': <gensim.models.keyedvectors.Vocab at 0x23096ba90>,\n",
       " 'Al_Oleimi': <gensim.models.keyedvectors.Vocab at 0x21df0e438>,\n",
       " 'Stéphane_Lafleur': <gensim.models.keyedvectors.Vocab at 0x24b5e8fd0>,\n",
       " 'acres_unplanted': <gensim.models.keyedvectors.Vocab at 0x20546eb00>,\n",
       " 'Lowhorn': <gensim.models.keyedvectors.Vocab at 0x1e8eac048>,\n",
       " 'ESTIMATES_THAT_WHILE_CONSIDERED': <gensim.models.keyedvectors.Vocab at 0x21df9e550>,\n",
       " 'Hokuetsu': <gensim.models.keyedvectors.Vocab at 0x1ee241dd8>,\n",
       " 'Madieu': <gensim.models.keyedvectors.Vocab at 0x1fd7313c8>,\n",
       " 'microwavable_bowl': <gensim.models.keyedvectors.Vocab at 0x20aba9438>,\n",
       " 'aftershock_rattled': <gensim.models.keyedvectors.Vocab at 0x1f2ad7b70>,\n",
       " 'Toledo_Correctional_Institution': <gensim.models.keyedvectors.Vocab at 0x21ccc1668>,\n",
       " 'bagging_groceries': <gensim.models.keyedvectors.Vocab at 0x1e8addc18>,\n",
       " 'Barefoot_Cellars': <gensim.models.keyedvectors.Vocab at 0x2006430f0>,\n",
       " 'Shiny_Happy': <gensim.models.keyedvectors.Vocab at 0x23594f7b8>,\n",
       " 'nwa': <gensim.models.keyedvectors.Vocab at 0x20d14d710>,\n",
       " 'Limitation': <gensim.models.keyedvectors.Vocab at 0x1e5f30550>,\n",
       " 'biblical_allegory': <gensim.models.keyedvectors.Vocab at 0x21f327128>,\n",
       " 'Kupi': <gensim.models.keyedvectors.Vocab at 0x21610cba8>,\n",
       " 'UHS_#/##/##_PriceWatch': <gensim.models.keyedvectors.Vocab at 0x238755278>,\n",
       " 'Jetsun_Pema': <gensim.models.keyedvectors.Vocab at 0x204e2ac50>,\n",
       " 'Aqueduct_VLT': <gensim.models.keyedvectors.Vocab at 0x1e63cc9e8>,\n",
       " 'orthotopic_liver_transplantation': <gensim.models.keyedvectors.Vocab at 0x2308612b0>,\n",
       " 'Jordan_Szwarz': <gensim.models.keyedvectors.Vocab at 0x1faf7bb00>,\n",
       " 'REFINANCING': <gensim.models.keyedvectors.Vocab at 0x2056ecb00>,\n",
       " 'Conceptualization': <gensim.models.keyedvectors.Vocab at 0x20c2b4240>,\n",
       " 'ToolKit': <gensim.models.keyedvectors.Vocab at 0x1fd6f1048>,\n",
       " 'Del_Spooner': <gensim.models.keyedvectors.Vocab at 0x20aa7d390>,\n",
       " 'Dave_Becica_whose': <gensim.models.keyedvectors.Vocab at 0x2174ca898>,\n",
       " 'HYANNIS_PORT_Massachusetts': <gensim.models.keyedvectors.Vocab at 0x22809fc88>,\n",
       " 'Zalau': <gensim.models.keyedvectors.Vocab at 0x222176898>,\n",
       " 'seats_Kjaersgaard_populist': <gensim.models.keyedvectors.Vocab at 0x23682e710>,\n",
       " 'cornerback_Coye_Francies': <gensim.models.keyedvectors.Vocab at 0x20ddd6fd0>,\n",
       " 'Moraitis': <gensim.models.keyedvectors.Vocab at 0x1e1dd5160>,\n",
       " 'Taseko_Mine': <gensim.models.keyedvectors.Vocab at 0x223e3bc88>,\n",
       " 'soyaoil': <gensim.models.keyedvectors.Vocab at 0x1fc9356d8>,\n",
       " 'Tricia_Helfer_Blake_Lively': <gensim.models.keyedvectors.Vocab at 0x22f06f588>,\n",
       " 'Afande': <gensim.models.keyedvectors.Vocab at 0x20a3e2908>,\n",
       " 'BANKERS': <gensim.models.keyedvectors.Vocab at 0x1efb7b4a8>,\n",
       " 'NASDAQ_VLCCF': <gensim.models.keyedvectors.Vocab at 0x23bd706d8>,\n",
       " 'Counter_MANPADS': <gensim.models.keyedvectors.Vocab at 0x232887470>,\n",
       " 'Neumann_Leathers': <gensim.models.keyedvectors.Vocab at 0x2287a9c18>,\n",
       " 'Marín': <gensim.models.keyedvectors.Vocab at 0x1edd4b0f0>,\n",
       " 'Dimension_Data_DDT': <gensim.models.keyedvectors.Vocab at 0x21c85af28>,\n",
       " 'Grantsdale_chipset': <gensim.models.keyedvectors.Vocab at 0x209402160>,\n",
       " 'Wicklow_Gaol': <gensim.models.keyedvectors.Vocab at 0x24e2c8320>,\n",
       " 'Minister_Rao_Sikandar': <gensim.models.keyedvectors.Vocab at 0x22a681dd8>,\n",
       " 'facial_fillers': <gensim.models.keyedvectors.Vocab at 0x1f42b86d8>,\n",
       " 'Enser': <gensim.models.keyedvectors.Vocab at 0x1f13aea20>,\n",
       " 'Qotob': <gensim.models.keyedvectors.Vocab at 0x23bd09470>,\n",
       " 'India_Substantial_Acquisition': <gensim.models.keyedvectors.Vocab at 0x20a7eae48>,\n",
       " 'severance': <gensim.models.keyedvectors.Vocab at 0x1e0c8a320>,\n",
       " 'BLT_cadres': <gensim.models.keyedvectors.Vocab at 0x2330676a0>,\n",
       " 'Mirbat_Khan': <gensim.models.keyedvectors.Vocab at 0x24bca4940>,\n",
       " 'Vice_Presidentof': <gensim.models.keyedvectors.Vocab at 0x23aa557b8>,\n",
       " 'Ducalcon': <gensim.models.keyedvectors.Vocab at 0x22df5e6d8>,\n",
       " 'EcoVentures': <gensim.models.keyedvectors.Vocab at 0x219c8b160>,\n",
       " 'keeps': <gensim.models.keyedvectors.Vocab at 0x1e07bd630>,\n",
       " 'APVC': <gensim.models.keyedvectors.Vocab at 0x2060d5e48>,\n",
       " 'Tangeneare_Singh_reaching': <gensim.models.keyedvectors.Vocab at 0x23996e630>,\n",
       " 'Evangel_Chr': <gensim.models.keyedvectors.Vocab at 0x24a706470>,\n",
       " 'Professor_Martha_Minow': <gensim.models.keyedvectors.Vocab at 0x24a914550>,\n",
       " 'Ungerleider': <gensim.models.keyedvectors.Vocab at 0x1f2348ac8>,\n",
       " 'Reopening': <gensim.models.keyedvectors.Vocab at 0x1e47ed550>,\n",
       " 'Aware_interoperable_standard': <gensim.models.keyedvectors.Vocab at 0x2052b6e10>,\n",
       " 'Stephen_Ansolabehere': <gensim.models.keyedvectors.Vocab at 0x21d7ab518>,\n",
       " 'right_ofway': <gensim.models.keyedvectors.Vocab at 0x22663e080>,\n",
       " 'flumazenil_rescue_drug': <gensim.models.keyedvectors.Vocab at 0x21f461d68>,\n",
       " 'au_sommet': <gensim.models.keyedvectors.Vocab at 0x22f0eaf60>,\n",
       " 'subsidiaries_expressly_disclaim': <gensim.models.keyedvectors.Vocab at 0x21972b5c0>,\n",
       " 'Biong': <gensim.models.keyedvectors.Vocab at 0x1f2cb54e0>,\n",
       " 'Ibrahim_Babangida': <gensim.models.keyedvectors.Vocab at 0x1e8356240>,\n",
       " 'Joseph_B._Soloveitchik': <gensim.models.keyedvectors.Vocab at 0x21d254c50>,\n",
       " 'Åke_Svensson': <gensim.models.keyedvectors.Vocab at 0x222fbba20>,\n",
       " 'rovers': <gensim.models.keyedvectors.Vocab at 0x1e27cd940>,\n",
       " 'Pro_Bowler_Jevon_Kearse': <gensim.models.keyedvectors.Vocab at 0x24ed21358>,\n",
       " 'Roalson': <gensim.models.keyedvectors.Vocab at 0x201bcb400>,\n",
       " 'Frommer_Travel': <gensim.models.keyedvectors.Vocab at 0x2039b71d0>,\n",
       " 'van_Praagh': <gensim.models.keyedvectors.Vocab at 0x21ec415c0>,\n",
       " 'Vordel_Gateway': <gensim.models.keyedvectors.Vocab at 0x223012ac8>,\n",
       " 'Jerry_Mosingo': <gensim.models.keyedvectors.Vocab at 0x23a597b38>,\n",
       " 'Burnpur': <gensim.models.keyedvectors.Vocab at 0x1f3436400>,\n",
       " 'Shimano_XT': <gensim.models.keyedvectors.Vocab at 0x21884b198>,\n",
       " 'avionic_components': <gensim.models.keyedvectors.Vocab at 0x222c34a20>,\n",
       " 'cowpeas': <gensim.models.keyedvectors.Vocab at 0x1e1f35550>,\n",
       " 'Purnendu_Chatterjee': <gensim.models.keyedvectors.Vocab at 0x1fac7d160>,\n",
       " 'SteriPEN': <gensim.models.keyedvectors.Vocab at 0x20bb5fa20>,\n",
       " 'Kati_Isham': <gensim.models.keyedvectors.Vocab at 0x22cc32358>,\n",
       " 'DAILLY': <gensim.models.keyedvectors.Vocab at 0x2287d1128>,\n",
       " 'RB_Mewelde_Moore': <gensim.models.keyedvectors.Vocab at 0x1fcf06c88>,\n",
       " 'bourgeois_respectability': <gensim.models.keyedvectors.Vocab at 0x226b96c50>,\n",
       " 'Pierre_Wome': <gensim.models.keyedvectors.Vocab at 0x1f2a7f438>,\n",
       " 'ideological_rigidity': <gensim.models.keyedvectors.Vocab at 0x1f1c62a90>,\n",
       " 'potash_miner': <gensim.models.keyedvectors.Vocab at 0x231ec2080>,\n",
       " 'NYCHRL': <gensim.models.keyedvectors.Vocab at 0x21a40a9e8>,\n",
       " 'Kongpal': <gensim.models.keyedvectors.Vocab at 0x209e14518>,\n",
       " 'shaped': <gensim.models.keyedvectors.Vocab at 0x1e09ff748>,\n",
       " 'By_Sally_Pollak': <gensim.models.keyedvectors.Vocab at 0x1fceb2b70>,\n",
       " 'Harima': <gensim.models.keyedvectors.Vocab at 0x1facb2c50>,\n",
       " 'Archbishop_Rino_Fisichella': <gensim.models.keyedvectors.Vocab at 0x1fdbb8080>,\n",
       " 'Singlestad': <gensim.models.keyedvectors.Vocab at 0x2182de0b8>,\n",
       " 'Vlissengen_Road': <gensim.models.keyedvectors.Vocab at 0x2210ea898>,\n",
       " 'Shucking': <gensim.models.keyedvectors.Vocab at 0x206b03320>,\n",
       " 'comp_etition': <gensim.models.keyedvectors.Vocab at 0x227e8f780>,\n",
       " 'Satans': <gensim.models.keyedvectors.Vocab at 0x1f2cafb38>,\n",
       " 'spokesman_Ismail_Ridwan': <gensim.models.keyedvectors.Vocab at 0x21b4a7438>,\n",
       " 'uncalibrated': <gensim.models.keyedvectors.Vocab at 0x203dbe828>,\n",
       " 'rower_Adrian_Morley': <gensim.models.keyedvectors.Vocab at 0x23258b898>,\n",
       " 'rains': <gensim.models.keyedvectors.Vocab at 0x1e0a87c88>,\n",
       " 'Leni_Salkind': <gensim.models.keyedvectors.Vocab at 0x24b1bbe48>,\n",
       " 'metamaterials': <gensim.models.keyedvectors.Vocab at 0x1e5c4a898>,\n",
       " 'furlong_sprint': <gensim.models.keyedvectors.Vocab at 0x1eae1d1d0>,\n",
       " 'Wymyslo': <gensim.models.keyedvectors.Vocab at 0x2280be6d8>,\n",
       " 'Kleine_Brogel': <gensim.models.keyedvectors.Vocab at 0x1fbe544a8>,\n",
       " 'Barbara_Wasinger': <gensim.models.keyedvectors.Vocab at 0x22c56cba8>,\n",
       " 'boylesports.com_International': <gensim.models.keyedvectors.Vocab at 0x22f79df98>,\n",
       " 'Flex_Plexico_Pentagon': <gensim.models.keyedvectors.Vocab at 0x228d5c978>,\n",
       " 'Justice_Bagir_Manan': <gensim.models.keyedvectors.Vocab at 0x21de430f0>,\n",
       " 'Zoom_transponders': <gensim.models.keyedvectors.Vocab at 0x2332e1358>,\n",
       " 'ethnic_minority_Tamils': <gensim.models.keyedvectors.Vocab at 0x1e4b36f98>,\n",
       " 'Attic': <gensim.models.keyedvectors.Vocab at 0x1e2abb4a8>,\n",
       " 'brightside': <gensim.models.keyedvectors.Vocab at 0x218d0bf98>,\n",
       " 'Tilot': <gensim.models.keyedvectors.Vocab at 0x2083cb6d8>,\n",
       " 'Exit_Poll': <gensim.models.keyedvectors.Vocab at 0x1ea2ae0b8>,\n",
       " 'gewgaw': <gensim.models.keyedvectors.Vocab at 0x20818ff98>,\n",
       " 'Bastians': <gensim.models.keyedvectors.Vocab at 0x1fed28320>,\n",
       " 'Kolinio_Meo': <gensim.models.keyedvectors.Vocab at 0x23315ff98>,\n",
       " '@_MBAF': <gensim.models.keyedvectors.Vocab at 0x24d547a58>,\n",
       " 'Philippines_CBCP': <gensim.models.keyedvectors.Vocab at 0x1e122f400>,\n",
       " 'Phommivong_attorney': <gensim.models.keyedvectors.Vocab at 0x22fd4c2b0>,\n",
       " 'Low_Testosterone': <gensim.models.keyedvectors.Vocab at 0x20c2d36d8>,\n",
       " 'Siskiyou_Solano': <gensim.models.keyedvectors.Vocab at 0x235928be0>,\n",
       " 'FORTY': <gensim.models.keyedvectors.Vocab at 0x1e94ab588>,\n",
       " 'Fahid_Ben_Khalfallah': <gensim.models.keyedvectors.Vocab at 0x20a0dc2b0>,\n",
       " 'Fortisphere': <gensim.models.keyedvectors.Vocab at 0x1ed933b38>,\n",
       " 'Happy_Sindane': <gensim.models.keyedvectors.Vocab at 0x20780f0f0>,\n",
       " 'hilarity_ensued': <gensim.models.keyedvectors.Vocab at 0x2039ecdd8>,\n",
       " 'islet_Mount_Suribachi': <gensim.models.keyedvectors.Vocab at 0x231e669e8>,\n",
       " 'Balkan_peninsula': <gensim.models.keyedvectors.Vocab at 0x209c7a518>,\n",
       " 'staffrooms': <gensim.models.keyedvectors.Vocab at 0x214fb5550>,\n",
       " 'Narrowly_Mixed': <gensim.models.keyedvectors.Vocab at 0x2029b2a58>,\n",
       " 'melodic_fragments': <gensim.models.keyedvectors.Vocab at 0x20dba8518>,\n",
       " 'Forth_Worth': <gensim.models.keyedvectors.Vocab at 0x1e810a7f0>,\n",
       " 'Oli_Ahmed': <gensim.models.keyedvectors.Vocab at 0x20863a198>,\n",
       " 'armin@askmrdad.com': <gensim.models.keyedvectors.Vocab at 0x20abdbd68>,\n",
       " 'Biela_Pirro': <gensim.models.keyedvectors.Vocab at 0x22e7a5390>,\n",
       " 'occludin': <gensim.models.keyedvectors.Vocab at 0x21a7de828>,\n",
       " 'Marc_Zecchino': <gensim.models.keyedvectors.Vocab at 0x238a5e550>,\n",
       " 'Cayler': <gensim.models.keyedvectors.Vocab at 0x1f4274550>,\n",
       " 'RSS_functionaries': <gensim.models.keyedvectors.Vocab at 0x1ff9f7eb8>,\n",
       " 'Batlokwa': <gensim.models.keyedvectors.Vocab at 0x20036d4e0>,\n",
       " 'Moses_Malone_Kareem_Abdul': <gensim.models.keyedvectors.Vocab at 0x22ba0ec18>,\n",
       " 'Owing': <gensim.models.keyedvectors.Vocab at 0x1e2485c50>,\n",
       " 'Sesame_Street_fairy': <gensim.models.keyedvectors.Vocab at 0x21697d4a8>,\n",
       " 'Jarzen': <gensim.models.keyedvectors.Vocab at 0x1ff4d05c0>,\n",
       " 'Marketcetera': <gensim.models.keyedvectors.Vocab at 0x1f5931d68>,\n",
       " 'built_Cutlasses_Skylarks': <gensim.models.keyedvectors.Vocab at 0x24bf7b518>,\n",
       " 'spinner_Abdul_Rehman': <gensim.models.keyedvectors.Vocab at 0x20dacde48>,\n",
       " 'ladybird_beetles': <gensim.models.keyedvectors.Vocab at 0x20c5b22e8>,\n",
       " 'Debra_Eckrote': <gensim.models.keyedvectors.Vocab at 0x225fc7630>,\n",
       " 'IPSP': <gensim.models.keyedvectors.Vocab at 0x1fc464208>,\n",
       " 'TSX_VENTURE_PJT': <gensim.models.keyedvectors.Vocab at 0x2393b8f98>,\n",
       " 'Hopmeadow_St.': <gensim.models.keyedvectors.Vocab at 0x1ff119400>,\n",
       " 'ASTERISK_S': <gensim.models.keyedvectors.Vocab at 0x217d9f470>,\n",
       " 'Tasking': <gensim.models.keyedvectors.Vocab at 0x1f4521b38>,\n",
       " 'Rama_Naidu': <gensim.models.keyedvectors.Vocab at 0x20a392588>,\n",
       " 'source_PostgreSQL_database': <gensim.models.keyedvectors.Vocab at 0x218f64e10>,\n",
       " 'SoCon_Player': <gensim.models.keyedvectors.Vocab at 0x215396898>,\n",
       " 'FRANKFURT_ROC': <gensim.models.keyedvectors.Vocab at 0x223d21e10>,\n",
       " 'investi_gations': <gensim.models.keyedvectors.Vocab at 0x232dacdd8>,\n",
       " 'Kendrick_Sam_Querrey': <gensim.models.keyedvectors.Vocab at 0x249502630>,\n",
       " 'Elchinger': <gensim.models.keyedvectors.Vocab at 0x22cb67b00>,\n",
       " 'Joao_Vieira': <gensim.models.keyedvectors.Vocab at 0x20d05bef0>,\n",
       " 'Javed_Omar_Mohammad_Ashraful': <gensim.models.keyedvectors.Vocab at 0x24b54ff60>,\n",
       " 'Bullhorn_Marketplace': <gensim.models.keyedvectors.Vocab at 0x228b0d400>,\n",
       " 'CC_###J_Hercules': <gensim.models.keyedvectors.Vocab at 0x220368940>,\n",
       " 'Artson': <gensim.models.keyedvectors.Vocab at 0x20a31f2b0>,\n",
       " 'Maludrottu': <gensim.models.keyedvectors.Vocab at 0x204bd1d30>,\n",
       " 'Toudouze': <gensim.models.keyedvectors.Vocab at 0x1fe9d8ef0>,\n",
       " 'Goodtime': <gensim.models.keyedvectors.Vocab at 0x1f04510b8>,\n",
       " 'Angry_Inch': <gensim.models.keyedvectors.Vocab at 0x1e6f61d68>,\n",
       " 'Visinet': <gensim.models.keyedvectors.Vocab at 0x1fbe9a208>,\n",
       " 'Dillwyn': <gensim.models.keyedvectors.Vocab at 0x1fb551ba8>,\n",
       " 'Manipur_Rifles_personnel': <gensim.models.keyedvectors.Vocab at 0x24b546198>,\n",
       " 'Dr_Kwadwo_Afari': <gensim.models.keyedvectors.Vocab at 0x1fd79e1d0>,\n",
       " 'NCRF': <gensim.models.keyedvectors.Vocab at 0x2029df630>,\n",
       " 'Silva': <gensim.models.keyedvectors.Vocab at 0x1e0a5b518>,\n",
       " 'Word_Nerd': <gensim.models.keyedvectors.Vocab at 0x20acecc50>,\n",
       " 'Kinect_bundle': <gensim.models.keyedvectors.Vocab at 0x2023959b0>,\n",
       " 'fastcraft': <gensim.models.keyedvectors.Vocab at 0x2155b0240>,\n",
       " 'Luehrsen': <gensim.models.keyedvectors.Vocab at 0x228728f60>,\n",
       " 'ACE2_gene': <gensim.models.keyedvectors.Vocab at 0x24a5c9630>,\n",
       " 'Lifou': <gensim.models.keyedvectors.Vocab at 0x20e351748>,\n",
       " 'ye_merry': <gensim.models.keyedvectors.Vocab at 0x21c736550>,\n",
       " 'Sandalo': <gensim.models.keyedvectors.Vocab at 0x202ef6940>,\n",
       " 'MOTHERS_WORK_INC._AND': <gensim.models.keyedvectors.Vocab at 0x238891588>,\n",
       " 'Zangar': <gensim.models.keyedvectors.Vocab at 0x222c2bdd8>,\n",
       " 'Sir_Clive_Sinclair': <gensim.models.keyedvectors.Vocab at 0x20731fa90>,\n",
       " 'Fracturing_Responsibility': <gensim.models.keyedvectors.Vocab at 0x207c09278>,\n",
       " 'Investor_William_Ackman': <gensim.models.keyedvectors.Vocab at 0x22f7bb860>,\n",
       " 'UNC_routs': <gensim.models.keyedvectors.Vocab at 0x218ad11d0>,\n",
       " 'Led_Zeppelin_bandmates': <gensim.models.keyedvectors.Vocab at 0x23954e4a8>,\n",
       " 'Naweed': <gensim.models.keyedvectors.Vocab at 0x20693fc50>,\n",
       " 'buttered_popcorn': <gensim.models.keyedvectors.Vocab at 0x1ee906eb8>,\n",
       " 'CEO_Curt_Stoelting': <gensim.models.keyedvectors.Vocab at 0x23544e2e8>,\n",
       " 'Bohai_Pharmaceuticals': <gensim.models.keyedvectors.Vocab at 0x201557630>,\n",
       " 'movie_Barbarian_Queen': <gensim.models.keyedvectors.Vocab at 0x1faaea7f0>,\n",
       " 'immateriality': <gensim.models.keyedvectors.Vocab at 0x204e15f60>,\n",
       " 'SUPPORT_GROUP_Noon': <gensim.models.keyedvectors.Vocab at 0x24b542b38>,\n",
       " 'Kakamega': <gensim.models.keyedvectors.Vocab at 0x1e5f107b8>,\n",
       " 'Facilities_Maintenance': <gensim.models.keyedvectors.Vocab at 0x1f04e6828>,\n",
       " 'Fatah': <gensim.models.keyedvectors.Vocab at 0x1e0a77da0>,\n",
       " 'Opioid_induced': <gensim.models.keyedvectors.Vocab at 0x24e220ba8>,\n",
       " 'Cenacle_Retreat_House': <gensim.models.keyedvectors.Vocab at 0x228ff4470>,\n",
       " 'Grünberg': <gensim.models.keyedvectors.Vocab at 0x206680f98>,\n",
       " 'HORIBA': <gensim.models.keyedvectors.Vocab at 0x2046c07b8>,\n",
       " 'Kingstree_underscored': <gensim.models.keyedvectors.Vocab at 0x23b958ef0>,\n",
       " 'Gierl': <gensim.models.keyedvectors.Vocab at 0x1e6bd6470>,\n",
       " 'Timika_Williams': <gensim.models.keyedvectors.Vocab at 0x215e82dd8>,\n",
       " 'Engenhao_stadium': <gensim.models.keyedvectors.Vocab at 0x2030251d0>,\n",
       " 'Palma_Ceia_Baptist_Church': <gensim.models.keyedvectors.Vocab at 0x2325e5dd8>,\n",
       " 'Wouterspan': <gensim.models.keyedvectors.Vocab at 0x1f62310b8>,\n",
       " 'Minister_Ariel_Atias': <gensim.models.keyedvectors.Vocab at 0x202fda3c8>,\n",
       " 'Birchall': <gensim.models.keyedvectors.Vocab at 0x1e40d0a58>,\n",
       " 'Ex_Tyco_Execs': <gensim.models.keyedvectors.Vocab at 0x224eeee48>,\n",
       " 'BC_FBC_T##': <gensim.models.keyedvectors.Vocab at 0x1f2a6dd68>,\n",
       " 'visit_www.pace_nb.com': <gensim.models.keyedvectors.Vocab at 0x205613128>,\n",
       " 'Trungpa': <gensim.models.keyedvectors.Vocab at 0x21691da90>,\n",
       " 'http://www.enewscourier.com/': <gensim.models.keyedvectors.Vocab at 0x21654c470>,\n",
       " 'nutcases': <gensim.models.keyedvectors.Vocab at 0x1e9cf72e8>,\n",
       " 'THE_DAMNED': <gensim.models.keyedvectors.Vocab at 0x1fa71ebe0>,\n",
       " 'Dunlop_MSA_British': <gensim.models.keyedvectors.Vocab at 0x1e92b0e10>,\n",
       " 'Canplats_Resources': <gensim.models.keyedvectors.Vocab at 0x2094c8710>,\n",
       " 'Fiba': <gensim.models.keyedvectors.Vocab at 0x1e9eb0fd0>,\n",
       " 'eminences': <gensim.models.keyedvectors.Vocab at 0x1f0fb14e0>,\n",
       " 'Marilyn_Krom': <gensim.models.keyedvectors.Vocab at 0x22f1f02e8>,\n",
       " 'KWHY': <gensim.models.keyedvectors.Vocab at 0x20617f7f0>,\n",
       " 'Coach_Clint_Conque': <gensim.models.keyedvectors.Vocab at 0x20e536a90>,\n",
       " 'president_Ken_Schanzer': <gensim.models.keyedvectors.Vocab at 0x1ff4228d0>,\n",
       " 'Gary_Neville_Gabriel_Heinze': <gensim.models.keyedvectors.Vocab at 0x22bd2a278>,\n",
       " 'By_GREG_JOHNS': <gensim.models.keyedvectors.Vocab at 0x2023b3390>,\n",
       " 'Lesya_Tsurenko': <gensim.models.keyedvectors.Vocab at 0x22a592748>,\n",
       " 'Dakota_Galusha': <gensim.models.keyedvectors.Vocab at 0x2224d8940>,\n",
       " 'Lederach': <gensim.models.keyedvectors.Vocab at 0x1f743b4e0>,\n",
       " 'YJA': <gensim.models.keyedvectors.Vocab at 0x224b8e518>,\n",
       " 'Eun_soo': <gensim.models.keyedvectors.Vocab at 0x22a6d9b38>,\n",
       " 'allegedy': <gensim.models.keyedvectors.Vocab at 0x1f347f080>,\n",
       " 'Willensky': <gensim.models.keyedvectors.Vocab at 0x220e13198>,\n",
       " 'Fraser_MacInnes': <gensim.models.keyedvectors.Vocab at 0x201b33828>,\n",
       " 'Les_Nouvelles': <gensim.models.keyedvectors.Vocab at 0x203de0630>,\n",
       " 'Telework': <gensim.models.keyedvectors.Vocab at 0x1e77c1860>,\n",
       " 'ONGC_NTPC': <gensim.models.keyedvectors.Vocab at 0x2006aa588>,\n",
       " 'Accounting_Policies': <gensim.models.keyedvectors.Vocab at 0x1ef498668>,\n",
       " 'field_umpires_Aleem': <gensim.models.keyedvectors.Vocab at 0x22a5aac88>,\n",
       " 'Savura': <gensim.models.keyedvectors.Vocab at 0x21c030f28>,\n",
       " 'IdeaPad_Y###_laptop': <gensim.models.keyedvectors.Vocab at 0x231b82a58>,\n",
       " 'formative_stages': <gensim.models.keyedvectors.Vocab at 0x1e6f4e668>,\n",
       " 'STATE_VOLLEYBALL': <gensim.models.keyedvectors.Vocab at 0x24b52fd68>,\n",
       " 'Parallel_Engines': <gensim.models.keyedvectors.Vocab at 0x220832128>,\n",
       " 'keeper_parried': <gensim.models.keyedvectors.Vocab at 0x1fcbd06d8>,\n",
       " 'PEACE_CATHOLIC_CHURCH': <gensim.models.keyedvectors.Vocab at 0x22dc85668>,\n",
       " 'Sancton': <gensim.models.keyedvectors.Vocab at 0x1fb900e10>,\n",
       " 'glögg': <gensim.models.keyedvectors.Vocab at 0x216ac1978>,\n",
       " 'Nichole_Sly': <gensim.models.keyedvectors.Vocab at 0x24c28b710>,\n",
       " 'BikePortland.org': <gensim.models.keyedvectors.Vocab at 0x2169416a0>,\n",
       " 'Rob_Wiercinski': <gensim.models.keyedvectors.Vocab at 0x238fb8588>,\n",
       " 'poster_ized': <gensim.models.keyedvectors.Vocab at 0x2224c1d30>,\n",
       " 'Minoyan_Murcia': <gensim.models.keyedvectors.Vocab at 0x229466940>,\n",
       " 'Dimitar_Berbatov_Carlos_Tevez': <gensim.models.keyedvectors.Vocab at 0x21d61cda0>,\n",
       " 'Amir_Zulfikar': <gensim.models.keyedvectors.Vocab at 0x22df91400>,\n",
       " 'Vicky_Hartzler': <gensim.models.keyedvectors.Vocab at 0x1f40dd9e8>,\n",
       " 'Manually': <gensim.models.keyedvectors.Vocab at 0x1ea39b2e8>,\n",
       " 'Wikstrom': <gensim.models.keyedvectors.Vocab at 0x1e9e05828>,\n",
       " 'Kamita': <gensim.models.keyedvectors.Vocab at 0x214fd3860>,\n",
       " 'Nova_Scotian': <gensim.models.keyedvectors.Vocab at 0x1e6faef28>,\n",
       " 'Jiansheng': <gensim.models.keyedvectors.Vocab at 0x2056d4630>,\n",
       " 'Kiwis': <gensim.models.keyedvectors.Vocab at 0x1e0ef0ba8>,\n",
       " 'Zebra_Technologies_Nasdaq_ZBRA': <gensim.models.keyedvectors.Vocab at 0x21ca5dba8>,\n",
       " 'Bunny': <gensim.models.keyedvectors.Vocab at 0x1e1b82400>,\n",
       " 'Bug_Jar': <gensim.models.keyedvectors.Vocab at 0x201a44780>,\n",
       " 'CarMax_Auto': <gensim.models.keyedvectors.Vocab at 0x1f1f68128>,\n",
       " 'Ullbricht': <gensim.models.keyedvectors.Vocab at 0x22db48940>,\n",
       " 'DERRICK_Z._JACKSON': <gensim.models.keyedvectors.Vocab at 0x24d15be48>,\n",
       " 'Coadjutor_Archbishop': <gensim.models.keyedvectors.Vocab at 0x2069f8048>,\n",
       " 'Willaim': <gensim.models.keyedvectors.Vocab at 0x1fd3490f0>,\n",
       " 'responsAbility': <gensim.models.keyedvectors.Vocab at 0x1e65c64a8>,\n",
       " 'Spoleto_Festival': <gensim.models.keyedvectors.Vocab at 0x1edd49da0>,\n",
       " 'RapidKL': <gensim.models.keyedvectors.Vocab at 0x1e1d5e128>,\n",
       " 'Carbacho_Burgos': <gensim.models.keyedvectors.Vocab at 0x21cee1be0>,\n",
       " 'PARIS_AFX_Vivendi': <gensim.models.keyedvectors.Vocab at 0x231f96ef0>,\n",
       " 'Sharon_Laperle': <gensim.models.keyedvectors.Vocab at 0x22df88518>,\n",
       " 'Rotavirus_causes': <gensim.models.keyedvectors.Vocab at 0x20b8a69e8>,\n",
       " 'PBR.A': <gensim.models.keyedvectors.Vocab at 0x208c06748>,\n",
       " 'Mash_Bash': <gensim.models.keyedvectors.Vocab at 0x223b03240>,\n",
       " 'Kranjcar_Kanu': <gensim.models.keyedvectors.Vocab at 0x232a1a588>,\n",
       " 'Paschal': <gensim.models.keyedvectors.Vocab at 0x1e2edada0>,\n",
       " 'defensemen_Brent_Sopel': <gensim.models.keyedvectors.Vocab at 0x208620c50>,\n",
       " 'IN_THIS_ARTICLE': <gensim.models.keyedvectors.Vocab at 0x208eaedd8>,\n",
       " 'Emily_Holsapple': <gensim.models.keyedvectors.Vocab at 0x233b715c0>,\n",
       " 'ancestral_domains': <gensim.models.keyedvectors.Vocab at 0x1fdeeaeb8>,\n",
       " '7ticks': <gensim.models.keyedvectors.Vocab at 0x1f25e2550>,\n",
       " 'Fundacion': <gensim.models.keyedvectors.Vocab at 0x1e8e60860>,\n",
       " 'poignant_ode': <gensim.models.keyedvectors.Vocab at 0x226e97f28>,\n",
       " 'Doron_Spielman': <gensim.models.keyedvectors.Vocab at 0x22d1e7400>,\n",
       " 'China_Mobile_CHL.N': <gensim.models.keyedvectors.Vocab at 0x22cb8e588>,\n",
       " 'Meerbusch_Germany': <gensim.models.keyedvectors.Vocab at 0x235311a58>,\n",
       " 'Oympic': <gensim.models.keyedvectors.Vocab at 0x20b896a58>,\n",
       " 'Karachaevo_Cherkessia': <gensim.models.keyedvectors.Vocab at 0x203947b38>,\n",
       " 'phonetic_pronunciation': <gensim.models.keyedvectors.Vocab at 0x207507ac8>,\n",
       " 'Bergdorf': <gensim.models.keyedvectors.Vocab at 0x1e99147f0>,\n",
       " 'Dibe': <gensim.models.keyedvectors.Vocab at 0x217738a90>,\n",
       " 'Hrishitaa_Bhatt': <gensim.models.keyedvectors.Vocab at 0x20848f240>,\n",
       " 'Myoblast_Program': <gensim.models.keyedvectors.Vocab at 0x2281466d8>,\n",
       " 'Paul_Chryst': <gensim.models.keyedvectors.Vocab at 0x1e9e669e8>,\n",
       " 'CGHS_dispensaries': <gensim.models.keyedvectors.Vocab at 0x2380cce80>,\n",
       " 'Neoware_Image': <gensim.models.keyedvectors.Vocab at 0x24a5c65f8>,\n",
       " 'Simran_Singh': <gensim.models.keyedvectors.Vocab at 0x1fb1f3860>,\n",
       " 't##_c##': <gensim.models.keyedvectors.Vocab at 0x24ed536d8>,\n",
       " 'Balmforth': <gensim.models.keyedvectors.Vocab at 0x1ee292128>,\n",
       " 'Russian_composer_Rodion': <gensim.models.keyedvectors.Vocab at 0x24a7cfcc0>,\n",
       " 'www.ybca.org': <gensim.models.keyedvectors.Vocab at 0x207db0f60>,\n",
       " 'spokeswoman_Melissa_Koskovich': <gensim.models.keyedvectors.Vocab at 0x22d44f6a0>,\n",
       " 'Dubai_Deira': <gensim.models.keyedvectors.Vocab at 0x1ff966b00>,\n",
       " 'Mediaroom_IPTV': <gensim.models.keyedvectors.Vocab at 0x21d229470>,\n",
       " 'Maniyar': <gensim.models.keyedvectors.Vocab at 0x1fdecccc0>,\n",
       " 'Jabri': <gensim.models.keyedvectors.Vocab at 0x1ef7bc470>,\n",
       " 'Saint_Hyacinthe_Quebec': <gensim.models.keyedvectors.Vocab at 0x21c86db00>,\n",
       " 'facebook_page': <gensim.models.keyedvectors.Vocab at 0x1e4b1df98>,\n",
       " 'Asikuma_Odoben_Brakwa': <gensim.models.keyedvectors.Vocab at 0x1f4c202e8>,\n",
       " 'Maese': <gensim.models.keyedvectors.Vocab at 0x1e84769b0>,\n",
       " 'DOWNSIDE': <gensim.models.keyedvectors.Vocab at 0x1ff144080>,\n",
       " 'Dziennik': <gensim.models.keyedvectors.Vocab at 0x1ed6419b0>,\n",
       " 'Maddox_Fieldhouse': <gensim.models.keyedvectors.Vocab at 0x2197fcb70>,\n",
       " 'Italy_Alessandro_Ballan': <gensim.models.keyedvectors.Vocab at 0x20e3f17f0>,\n",
       " 'Jason_Maloni': <gensim.models.keyedvectors.Vocab at 0x216576940>,\n",
       " 'Van_Huynh': <gensim.models.keyedvectors.Vocab at 0x23161a630>,\n",
       " 'pianist_Mulgrew': <gensim.models.keyedvectors.Vocab at 0x225d446a0>,\n",
       " 'Danger_Mouse_aka': <gensim.models.keyedvectors.Vocab at 0x22c86a828>,\n",
       " 'Ahle_Hadees': <gensim.models.keyedvectors.Vocab at 0x2163ea588>,\n",
       " 'partridge': <gensim.models.keyedvectors.Vocab at 0x1e5048a58>,\n",
       " 'Vipin_Gupta': <gensim.models.keyedvectors.Vocab at 0x22c259470>,\n",
       " 'walker': <gensim.models.keyedvectors.Vocab at 0x1e16304a8>,\n",
       " 'Bittaker': <gensim.models.keyedvectors.Vocab at 0x21f483160>,\n",
       " 'Amiantit': <gensim.models.keyedvectors.Vocab at 0x1f372fe80>,\n",
       " 'Nicolas_de_Stael': <gensim.models.keyedvectors.Vocab at 0x235f86be0>,\n",
       " 'INVESTMENTS_PTY_LIMITED': <gensim.models.keyedvectors.Vocab at 0x234ac07f0>,\n",
       " 'HJHS': <gensim.models.keyedvectors.Vocab at 0x2042cb358>,\n",
       " 'Hyvee': <gensim.models.keyedvectors.Vocab at 0x2089aee48>,\n",
       " 'Gitennes_Exploration_Inc.': <gensim.models.keyedvectors.Vocab at 0x22943ea90>,\n",
       " 'METC': <gensim.models.keyedvectors.Vocab at 0x1eba4deb8>,\n",
       " 'rusted_corrugated_iron': <gensim.models.keyedvectors.Vocab at 0x23b46db70>,\n",
       " 'antivirus_intrusion_prevention': <gensim.models.keyedvectors.Vocab at 0x21499fb00>,\n",
       " 'Nicholas_Zamiska': <gensim.models.keyedvectors.Vocab at 0x24ead8b70>,\n",
       " 'Tuttleman': <gensim.models.keyedvectors.Vocab at 0x20af14710>,\n",
       " 'deflate': <gensim.models.keyedvectors.Vocab at 0x1e2205080>,\n",
       " 'wettability': <gensim.models.keyedvectors.Vocab at 0x1ff8b9630>,\n",
       " 'Sergio_Rezende': <gensim.models.keyedvectors.Vocab at 0x22db36208>,\n",
       " 'Strutter': <gensim.models.keyedvectors.Vocab at 0x1f7505d68>,\n",
       " 'Goldcrest_Views': <gensim.models.keyedvectors.Vocab at 0x2332f0470>,\n",
       " 'Kelham_Island_Tavern': <gensim.models.keyedvectors.Vocab at 0x23bd01860>,\n",
       " 'Malmstrom': <gensim.models.keyedvectors.Vocab at 0x1e553ccf8>,\n",
       " 'reales': <gensim.models.keyedvectors.Vocab at 0x1fb9b6400>,\n",
       " 'endow': <gensim.models.keyedvectors.Vocab at 0x1e32a22e8>,\n",
       " 'De_Passe': <gensim.models.keyedvectors.Vocab at 0x23161a470>,\n",
       " 'Kuwait_Dinar': <gensim.models.keyedvectors.Vocab at 0x221e105c0>,\n",
       " 'Jacksonville_Josh_Scobee': <gensim.models.keyedvectors.Vocab at 0x20a585780>,\n",
       " 'FightOnState.com': <gensim.models.keyedvectors.Vocab at 0x1f53a4908>,\n",
       " 'Bharati_Jagdish_BJ': <gensim.models.keyedvectors.Vocab at 0x2162e0ef0>,\n",
       " 'Particle_Accelerator': <gensim.models.keyedvectors.Vocab at 0x208125358>,\n",
       " 'coaching_staffs': <gensim.models.keyedvectors.Vocab at 0x1e3001668>,\n",
       " 'Cicely': <gensim.models.keyedvectors.Vocab at 0x1e99a2518>,\n",
       " ...}"
      ]
     },
     "execution_count": 4,
     "metadata": {},
     "output_type": "execute_result"
    }
   ],
   "source": [
    "#get the vocabulary and corrsponding vectors\n",
    "model_pretrained.vocab"
   ]
  },
  {
   "cell_type": "code",
   "execution_count": 6,
   "metadata": {
    "collapsed": false
   },
   "outputs": [
    {
     "data": {
      "text/plain": [
       "array([[ 1.1291504e-03, -8.9645386e-04,  3.1852722e-04, ...,\n",
       "        -1.5640259e-03, -1.2302399e-04, -8.6307526e-05],\n",
       "       [ 7.0312500e-02,  8.6914062e-02,  8.7890625e-02, ...,\n",
       "        -4.7607422e-02,  1.4465332e-02, -6.2500000e-02],\n",
       "       [-1.1779785e-02, -4.7363281e-02,  4.4677734e-02, ...,\n",
       "         7.1289062e-02, -3.4912109e-02,  2.4169922e-02],\n",
       "       ...,\n",
       "       [-1.9653320e-02, -9.0820312e-02, -1.9409180e-02, ...,\n",
       "        -1.6357422e-02, -1.3427734e-02,  4.6630859e-02],\n",
       "       [ 3.2714844e-02, -3.2226562e-02,  3.6132812e-02, ...,\n",
       "        -8.8500977e-03,  2.6977539e-02,  1.9042969e-02],\n",
       "       [ 4.5166016e-02, -4.5166016e-02, -3.9367676e-03, ...,\n",
       "         7.9589844e-02,  7.2265625e-02,  1.3000488e-02]], dtype=float32)"
      ]
     },
     "execution_count": 6,
     "metadata": {},
     "output_type": "execute_result"
    }
   ],
   "source": [
    "#get all the vectors\n",
    "model_pretrained.vectors"
   ]
  },
  {
   "cell_type": "markdown",
   "metadata": {},
   "source": [
    "You can access vectors on a word-by-word basis:"
   ]
  },
  {
   "cell_type": "code",
   "execution_count": 9,
   "metadata": {
    "collapsed": false
   },
   "outputs": [
    {
     "data": {
      "text/plain": [
       "array([ 1.07421875e-01, -2.01171875e-01,  1.23046875e-01,  2.11914062e-01,\n",
       "       -9.13085938e-02,  2.16796875e-01, -1.31835938e-01,  8.30078125e-02,\n",
       "        2.02148438e-01,  4.78515625e-02,  3.66210938e-02, -2.45361328e-02,\n",
       "        2.39257812e-02, -1.60156250e-01, -2.61230469e-02,  9.71679688e-02,\n",
       "       -6.34765625e-02,  1.84570312e-01,  1.70898438e-01, -1.63085938e-01,\n",
       "       -1.09375000e-01,  1.49414062e-01, -4.65393066e-04,  9.61914062e-02,\n",
       "        1.68945312e-01,  2.60925293e-03,  8.93554688e-02,  6.49414062e-02,\n",
       "        3.56445312e-02, -6.93359375e-02, -1.46484375e-01, -1.21093750e-01,\n",
       "       -2.27539062e-01,  2.45361328e-02, -1.24511719e-01, -3.18359375e-01,\n",
       "       -2.20703125e-01,  1.30859375e-01,  3.66210938e-02, -3.63769531e-02,\n",
       "       -1.13281250e-01,  1.95312500e-01,  9.76562500e-02,  1.26953125e-01,\n",
       "        6.59179688e-02,  6.93359375e-02,  1.02539062e-02,  1.75781250e-01,\n",
       "       -1.68945312e-01,  1.21307373e-03, -2.98828125e-01, -1.15234375e-01,\n",
       "        5.66406250e-02, -1.77734375e-01, -2.08984375e-01,  1.76757812e-01,\n",
       "        2.38037109e-02, -2.57812500e-01, -4.46777344e-02,  1.88476562e-01,\n",
       "        5.51757812e-02,  5.02929688e-02, -1.06933594e-01,  1.89453125e-01,\n",
       "       -1.16210938e-01,  8.49609375e-02, -1.71875000e-01,  2.45117188e-01,\n",
       "       -1.73828125e-01, -8.30078125e-03,  4.56542969e-02, -1.61132812e-02,\n",
       "        1.86523438e-01, -6.05468750e-02, -4.17480469e-02,  1.82617188e-01,\n",
       "        2.20703125e-01, -1.22558594e-01, -2.55126953e-02, -3.08593750e-01,\n",
       "        9.13085938e-02,  1.60156250e-01,  1.70898438e-01,  1.19628906e-01,\n",
       "        7.08007812e-02, -2.64892578e-02, -3.08837891e-02,  4.06250000e-01,\n",
       "       -1.01562500e-01,  5.71289062e-02, -7.26318359e-03, -9.17968750e-02,\n",
       "       -1.50390625e-01, -2.55859375e-01,  2.16796875e-01, -3.63769531e-02,\n",
       "        2.24609375e-01,  8.00781250e-02,  1.56250000e-01,  5.27343750e-02,\n",
       "        1.50390625e-01, -1.14746094e-01, -8.64257812e-02,  1.19140625e-01,\n",
       "       -7.17773438e-02,  2.73437500e-01, -1.64062500e-01,  7.29370117e-03,\n",
       "        4.21875000e-01, -1.12792969e-01, -1.35742188e-01, -1.31835938e-01,\n",
       "       -1.37695312e-01, -7.66601562e-02,  6.25000000e-02,  4.98046875e-02,\n",
       "       -1.91406250e-01, -6.03027344e-02,  2.27539062e-01,  5.88378906e-02,\n",
       "       -3.24218750e-01,  5.41992188e-02, -1.35742188e-01,  8.17871094e-03,\n",
       "       -5.24902344e-02, -1.74713135e-03, -9.81445312e-02, -2.86865234e-02,\n",
       "        3.61328125e-02,  2.15820312e-01,  5.98144531e-02, -3.08593750e-01,\n",
       "       -2.27539062e-01,  2.61718750e-01,  9.86328125e-02, -5.07812500e-02,\n",
       "        1.78222656e-02,  1.31835938e-01, -5.35156250e-01, -1.81640625e-01,\n",
       "        1.38671875e-01, -3.10546875e-01, -9.71679688e-02,  1.31835938e-01,\n",
       "       -1.16210938e-01,  7.03125000e-02,  2.85156250e-01,  3.51562500e-02,\n",
       "       -1.01562500e-01, -3.75976562e-02,  1.41601562e-01,  1.42578125e-01,\n",
       "       -5.68847656e-02,  2.65625000e-01, -2.09960938e-01,  9.64355469e-03,\n",
       "       -6.68945312e-02, -4.83398438e-02, -6.10351562e-02,  2.45117188e-01,\n",
       "       -9.66796875e-02,  1.78222656e-02, -1.27929688e-01, -4.78515625e-02,\n",
       "       -7.26318359e-03,  1.79687500e-01,  2.78320312e-02, -2.10937500e-01,\n",
       "       -1.43554688e-01, -1.27929688e-01,  1.73339844e-02, -3.60107422e-03,\n",
       "       -2.04101562e-01,  3.63159180e-03, -1.19628906e-01, -6.15234375e-02,\n",
       "        5.93261719e-02, -3.23486328e-03, -1.70898438e-01, -3.14941406e-02,\n",
       "       -8.88671875e-02, -2.89062500e-01,  3.44238281e-02, -1.87500000e-01,\n",
       "        2.94921875e-01,  1.58203125e-01, -1.19628906e-01,  7.61718750e-02,\n",
       "        6.39648438e-02, -4.68750000e-02, -6.83593750e-02,  1.21459961e-02,\n",
       "       -1.44531250e-01,  4.54101562e-02,  3.68652344e-02,  3.88671875e-01,\n",
       "        1.45507812e-01, -2.55859375e-01, -4.46777344e-02, -1.33789062e-01,\n",
       "       -1.38671875e-01,  6.59179688e-02,  1.37695312e-01,  1.14746094e-01,\n",
       "        2.03125000e-01, -4.78515625e-02,  1.80664062e-02, -8.54492188e-02,\n",
       "       -2.48046875e-01, -3.39843750e-01, -2.83203125e-02,  1.05468750e-01,\n",
       "       -2.14843750e-01, -8.74023438e-02,  7.12890625e-02,  1.87500000e-01,\n",
       "       -1.12304688e-01,  2.73437500e-01, -3.26171875e-01, -1.77734375e-01,\n",
       "       -4.24804688e-02, -2.69531250e-01,  6.64062500e-02, -6.88476562e-02,\n",
       "       -1.99218750e-01, -7.03125000e-02, -2.43164062e-01, -3.66210938e-02,\n",
       "       -7.37304688e-02, -1.77734375e-01,  9.17968750e-02, -1.25000000e-01,\n",
       "       -1.65039062e-01, -3.57421875e-01, -2.85156250e-01, -1.66992188e-01,\n",
       "        1.97265625e-01, -1.53320312e-01,  2.31933594e-02,  2.06054688e-01,\n",
       "        1.80664062e-01, -2.74658203e-02, -1.92382812e-01, -9.61914062e-02,\n",
       "       -1.06811523e-02, -4.73632812e-02,  6.54296875e-02, -1.25732422e-02,\n",
       "        1.78222656e-02, -8.00781250e-02, -2.59765625e-01,  9.37500000e-02,\n",
       "       -7.81250000e-02,  4.68750000e-02, -2.22167969e-02,  1.86767578e-02,\n",
       "        3.11279297e-02,  1.04980469e-02, -1.69921875e-01,  2.58789062e-02,\n",
       "       -3.41796875e-02, -1.44042969e-02, -5.46875000e-02, -8.78906250e-02,\n",
       "        1.96838379e-03,  2.23632812e-01, -1.36718750e-01,  1.75781250e-01,\n",
       "       -1.63085938e-01,  1.87500000e-01,  3.44238281e-02, -5.63964844e-02,\n",
       "       -2.27689743e-05,  4.27246094e-02,  5.81054688e-02, -1.07910156e-01,\n",
       "       -3.88183594e-02, -2.69531250e-01,  3.34472656e-02,  9.81445312e-02,\n",
       "        5.63964844e-02,  2.23632812e-01, -5.49316406e-02,  1.46484375e-01,\n",
       "        5.93261719e-02, -2.19726562e-01,  6.39648438e-02,  1.66015625e-02,\n",
       "        4.56542969e-02,  3.26171875e-01, -3.80859375e-01,  1.70898438e-01,\n",
       "        5.66406250e-02, -1.04492188e-01,  1.38671875e-01, -1.57226562e-01,\n",
       "        3.23486328e-03, -4.80957031e-02, -2.48046875e-01, -6.20117188e-02],\n",
       "      dtype=float32)"
      ]
     },
     "execution_count": 9,
     "metadata": {},
     "output_type": "execute_result"
    }
   ],
   "source": [
    "model_pretrained['computer'] #Accept a single word as input. #Returns the word's representations in vector space, as a 1D numpy array.\n",
    "#model_pretrained.get_vector('computer') #this does the same thing"
   ]
  },
  {
   "cell_type": "markdown",
   "metadata": {},
   "source": [
    "Compute cosine distance between two words"
   ]
  },
  {
   "cell_type": "code",
   "execution_count": 3,
   "metadata": {
    "collapsed": false
   },
   "outputs": [
    {
     "data": {
      "text/plain": [
       "0.2335987769004647"
      ]
     },
     "execution_count": 3,
     "metadata": {},
     "output_type": "execute_result"
    }
   ],
   "source": [
    "model_pretrained.distance('woman', 'man')"
   ]
  },
  {
   "cell_type": "markdown",
   "metadata": {
    "collapsed": true
   },
   "source": [
    "Compute cosine distances from a given word or vector to each word in a list of words"
   ]
  },
  {
   "cell_type": "code",
   "execution_count": 4,
   "metadata": {
    "collapsed": false
   },
   "outputs": [
    {
     "data": {
      "text/plain": [
       "array([0.23359877, 0.4024092 , 0.25053585, 0.        , 0.4696222 ],\n",
       "      dtype=float32)"
      ]
     },
     "execution_count": 4,
     "metadata": {},
     "output_type": "execute_result"
    }
   ],
   "source": [
    "model_pretrained.distances('woman', ['man', 'boy', 'girl', 'woman', 'women'])"
   ]
  },
  {
   "cell_type": "markdown",
   "metadata": {},
   "source": [
    "Compute cosine similarity between two words."
   ]
  },
  {
   "cell_type": "code",
   "execution_count": 5,
   "metadata": {
    "collapsed": false
   },
   "outputs": [
    {
     "data": {
      "text/plain": [
       "0.7664012230995353"
      ]
     },
     "execution_count": 5,
     "metadata": {},
     "output_type": "execute_result"
    }
   ],
   "source": [
    "model_pretrained.similarity('woman', 'man')"
   ]
  },
  {
   "cell_type": "markdown",
   "metadata": {},
   "source": [
    "Compute cosine similarity between two sets of words"
   ]
  },
  {
   "cell_type": "code",
   "execution_count": 6,
   "metadata": {
    "collapsed": false
   },
   "outputs": [
    {
     "data": {
      "text/plain": [
       "0.5983722657356549"
      ]
     },
     "execution_count": 6,
     "metadata": {},
     "output_type": "execute_result"
    }
   ],
   "source": [
    "model_pretrained.n_similarity(['sushi', 'shop'], ['japanese', 'restaurant'])"
   ]
  },
  {
   "cell_type": "markdown",
   "metadata": {},
   "source": [
    "Find the top-N most similar words to a given word."
   ]
  },
  {
   "cell_type": "code",
   "execution_count": 7,
   "metadata": {
    "collapsed": false
   },
   "outputs": [
    {
     "data": {
      "text/plain": [
       "[('graphs', 0.6810587644577026),\n",
       " ('diagram', 0.595000684261322),\n",
       " ('y_axis', 0.5707489252090454),\n",
       " ('graph_illustrating', 0.5563781261444092),\n",
       " ('chart', 0.5365185737609863)]"
      ]
     },
     "execution_count": 7,
     "metadata": {},
     "output_type": "execute_result"
    }
   ],
   "source": [
    "model_pretrained.similar_by_word('graph', topn=5)"
   ]
  },
  {
   "cell_type": "markdown",
   "metadata": {},
   "source": [
    "Word Analogy\n",
    "\n",
    "i.e. Find the top-N most similar words, using the multiplicative combination objective proposed by Omer Levy and Yoav Goldberg. Positive words still contribute positively towards the similarity, negative words negatively, but with less susceptibility to one large distance dominating the calculation.\n"
   ]
  },
  {
   "cell_type": "code",
   "execution_count": 13,
   "metadata": {
    "collapsed": false
   },
   "outputs": [
    {
     "data": {
      "text/plain": [
       "[('queen', 0.7118192315101624),\n",
       " ('monarch', 0.6189674139022827),\n",
       " ('princess', 0.5902431011199951),\n",
       " ('crown_prince', 0.5499460697174072),\n",
       " ('prince', 0.5377321839332581)]"
      ]
     },
     "execution_count": 13,
     "metadata": {},
     "output_type": "execute_result"
    }
   ],
   "source": [
    "model_pretrained.most_similar(positive=['woman', 'king'], negative=['man'], topn=5)"
   ]
  },
  {
   "cell_type": "markdown",
   "metadata": {},
   "source": [
    "Which word from the given list doesn't go with the others?"
   ]
  },
  {
   "cell_type": "code",
   "execution_count": 14,
   "metadata": {
    "collapsed": false
   },
   "outputs": [
    {
     "data": {
      "text/plain": [
       "'cereal'"
      ]
     },
     "execution_count": 14,
     "metadata": {},
     "output_type": "execute_result"
    }
   ],
   "source": [
    "model_pretrained.doesnt_match(\"breakfast cereal dinner lunch\".split())"
   ]
  },
  {
   "cell_type": "markdown",
   "metadata": {},
   "source": [
    "## Train our own models"
   ]
  },
  {
   "cell_type": "code",
   "execution_count": 47,
   "metadata": {
    "collapsed": true
   },
   "outputs": [],
   "source": [
    "import gensim"
   ]
  },
  {
   "cell_type": "code",
   "execution_count": 48,
   "metadata": {
    "collapsed": false
   },
   "outputs": [],
   "source": [
    "training_data = [line.lower().strip().split() for line in open('data/data.txt')]"
   ]
  },
  {
   "cell_type": "code",
   "execution_count": 49,
   "metadata": {
    "collapsed": true
   },
   "outputs": [],
   "source": [
    "#All gensim.models.Word2Vec requires is that the input yields one sentence (as a list of utf8 words) after another\n",
    "model = gensim.models.Word2Vec(training_data)"
   ]
  },
  {
   "cell_type": "code",
   "execution_count": 50,
   "metadata": {
    "collapsed": false
   },
   "outputs": [],
   "source": [
    "model = gensim.models.Word2Vec(training_data, min_count = 1, size=10, window=5, workers=4)\n",
    "#min_count: ignore words that appear less than min_count, default value is 5.\n",
    "#size: the size of the NN layers, default value is 100\n",
    "#workers parameter is for training parallelization, to speed up training. It has only effect if you have Cython installed. Default = 1 worker, i.e. no parallelization\n",
    "#window: how many words before and after the target word is taken as the context"
   ]
  },
  {
   "cell_type": "code",
   "execution_count": 51,
   "metadata": {
    "collapsed": true
   },
   "outputs": [],
   "source": [
    "#store the trained model\n",
    "model.save('mymodel')\n",
    "\n",
    "#The word vectors are stored in a KeyedVectors instance in model.wv.\n",
    "#This separates the read-only word vector lookup operation in KeyedVectors from the training code in Word2Vec."
   ]
  },
  {
   "cell_type": "code",
   "execution_count": 52,
   "metadata": {
    "collapsed": true
   },
   "outputs": [],
   "source": [
    "# load the trained model\n",
    "mymodel = gensim.models.Word2Vec.load('mymodel')"
   ]
  },
  {
   "cell_type": "code",
   "execution_count": 61,
   "metadata": {
    "collapsed": false
   },
   "outputs": [
    {
     "data": {
      "text/plain": [
       "-0.09071871406943281"
      ]
     },
     "execution_count": 61,
     "metadata": {},
     "output_type": "execute_result"
    }
   ],
   "source": [
    "mymodel.wv.similarity('graph', 'human')"
   ]
  },
  {
   "cell_type": "code",
   "execution_count": 62,
   "metadata": {
    "collapsed": false
   },
   "outputs": [
    {
     "data": {
      "text/plain": [
       "1.0907187140694328"
      ]
     },
     "execution_count": 62,
     "metadata": {},
     "output_type": "execute_result"
    }
   ],
   "source": [
    "mymodel.wv.distance('graph', 'human')"
   ]
  },
  {
   "cell_type": "code",
   "execution_count": 63,
   "metadata": {
    "collapsed": false
   },
   "outputs": [
    {
     "data": {
      "text/plain": [
       "[('relation', 0.7568781971931458),\n",
       " ('ordering', 0.7336501479148865),\n",
       " ('interface', 0.4849057197570801),\n",
       " ('and', 0.4371868968009949),\n",
       " ('in', 0.3982817232608795)]"
      ]
     },
     "execution_count": 63,
     "metadata": {},
     "output_type": "execute_result"
    }
   ],
   "source": [
    "mymodel.wv.similar_by_word('graph', topn=5)"
   ]
  },
  {
   "cell_type": "code",
   "execution_count": 64,
   "metadata": {
    "collapsed": false
   },
   "outputs": [
    {
     "data": {
      "text/plain": [
       "{'a': <gensim.models.keyedvectors.Vocab at 0x109698cf8>,\n",
       " 'abc': <gensim.models.keyedvectors.Vocab at 0x109698c88>,\n",
       " 'and': <gensim.models.keyedvectors.Vocab at 0x109698f28>,\n",
       " 'applications': <gensim.models.keyedvectors.Vocab at 0x109698b00>,\n",
       " 'binary': <gensim.models.keyedvectors.Vocab at 0x10969c160>,\n",
       " 'computer': <gensim.models.keyedvectors.Vocab at 0x10969c048>,\n",
       " 'engineering': <gensim.models.keyedvectors.Vocab at 0x109698f60>,\n",
       " 'eps': <gensim.models.keyedvectors.Vocab at 0x109698cc0>,\n",
       " 'error': <gensim.models.keyedvectors.Vocab at 0x10969c208>,\n",
       " 'for': <gensim.models.keyedvectors.Vocab at 0x10969c278>,\n",
       " 'generation': <gensim.models.keyedvectors.Vocab at 0x109698fd0>,\n",
       " 'graph': <gensim.models.keyedvectors.Vocab at 0x10969c080>,\n",
       " 'human': <gensim.models.keyedvectors.Vocab at 0x10969c0b8>,\n",
       " 'in': <gensim.models.keyedvectors.Vocab at 0x109698eb8>,\n",
       " 'interface': <gensim.models.keyedvectors.Vocab at 0x109698a20>,\n",
       " 'intersection': <gensim.models.keyedvectors.Vocab at 0x109698e48>,\n",
       " 'iv': <gensim.models.keyedvectors.Vocab at 0x109698ba8>,\n",
       " 'lab': <gensim.models.keyedvectors.Vocab at 0x109698a90>,\n",
       " 'machine': <gensim.models.keyedvectors.Vocab at 0x10969c2e8>,\n",
       " 'management': <gensim.models.keyedvectors.Vocab at 0x10969c128>,\n",
       " 'measurement': <gensim.models.keyedvectors.Vocab at 0x109698b70>,\n",
       " 'minors': <gensim.models.keyedvectors.Vocab at 0x109698ef0>,\n",
       " 'of': <gensim.models.keyedvectors.Vocab at 0x109698d68>,\n",
       " 'opinion': <gensim.models.keyedvectors.Vocab at 0x109698a58>,\n",
       " 'ordering': <gensim.models.keyedvectors.Vocab at 0x109698b38>,\n",
       " 'paths': <gensim.models.keyedvectors.Vocab at 0x10969c198>,\n",
       " 'perceived': <gensim.models.keyedvectors.Vocab at 0x109698f98>,\n",
       " 'quasi': <gensim.models.keyedvectors.Vocab at 0x10969c1d0>,\n",
       " 'random': <gensim.models.keyedvectors.Vocab at 0x10969c320>,\n",
       " 'relation': <gensim.models.keyedvectors.Vocab at 0x109698be0>,\n",
       " 'response': <gensim.models.keyedvectors.Vocab at 0x109698da0>,\n",
       " 'survey': <gensim.models.keyedvectors.Vocab at 0x109698e80>,\n",
       " 'system': <gensim.models.keyedvectors.Vocab at 0x109698e10>,\n",
       " 'testing': <gensim.models.keyedvectors.Vocab at 0x109698ac8>,\n",
       " 'the': <gensim.models.keyedvectors.Vocab at 0x109600dd8>,\n",
       " 'time': <gensim.models.keyedvectors.Vocab at 0x10969c0f0>,\n",
       " 'to': <gensim.models.keyedvectors.Vocab at 0x109698d30>,\n",
       " 'trees': <gensim.models.keyedvectors.Vocab at 0x109698c18>,\n",
       " 'unordered': <gensim.models.keyedvectors.Vocab at 0x10969c2b0>,\n",
       " 'user': <gensim.models.keyedvectors.Vocab at 0x109698dd8>,\n",
       " 'well': <gensim.models.keyedvectors.Vocab at 0x109698c50>,\n",
       " 'widths': <gensim.models.keyedvectors.Vocab at 0x10969c240>}"
      ]
     },
     "execution_count": 64,
     "metadata": {},
     "output_type": "execute_result"
    }
   ],
   "source": [
    "mymodel.wv.vocab"
   ]
  },
  {
   "cell_type": "code",
   "execution_count": 65,
   "metadata": {
    "collapsed": false
   },
   "outputs": [
    {
     "data": {
      "text/plain": [
       "array([-0.00351064, -0.01765375, -0.02035482, -0.03154445, -0.04427642,\n",
       "        0.01508797,  0.01351037,  0.03022235, -0.03726849,  0.04310504],\n",
       "      dtype=float32)"
      ]
     },
     "execution_count": 65,
     "metadata": {},
     "output_type": "execute_result"
    }
   ],
   "source": [
    "mymodel.wv['graph']"
   ]
  },
  {
   "cell_type": "markdown",
   "metadata": {},
   "source": [
    "## Continue training with the loaded model\n",
    "\n",
    "You can continue training with the loaded model!\n",
    "Note: It is impossible to continue training the vectors loaded from the C format because hidden weights, vocabulary frequency and the binary tree is missing."
   ]
  },
  {
   "cell_type": "code",
   "execution_count": 67,
   "metadata": {
    "collapsed": true
   },
   "outputs": [],
   "source": [
    "# load the trained model\n",
    "mymodel = gensim.models.Word2Vec.load('mymodel')"
   ]
  },
  {
   "cell_type": "code",
   "execution_count": 68,
   "metadata": {
    "collapsed": true
   },
   "outputs": [],
   "source": [
    "more_training_data = ['gensim provides us a convenient module to learn word embeddings'.split(), \n",
    "                      'gensim has some built-in method'.split(), \n",
    "                      'gensim graph helps human understand ideas'.split()]"
   ]
  },
  {
   "cell_type": "code",
   "execution_count": 69,
   "metadata": {
    "collapsed": false
   },
   "outputs": [
    {
     "data": {
      "text/plain": [
       "(6, 105)"
      ]
     },
     "execution_count": 69,
     "metadata": {},
     "output_type": "execute_result"
    }
   ],
   "source": [
    "mymodel.train(more_training_data, total_examples=mymodel.corpus_count, epochs=mymodel.epochs)"
   ]
  },
  {
   "cell_type": "markdown",
   "metadata": {
    "collapsed": true
   },
   "source": [
    "## Exercise:"
   ]
  },
  {
   "cell_type": "markdown",
   "metadata": {
    "collapsed": true
   },
   "source": [
    "- Please train a word embedding model on the data provided in the folder 'pos/' (This is part of the training data of http://ai.stanford.edu/~amaas/data/sentiment/aclImdb_v1.tar.gz). You need to clean up the data, like lower-casing every character, removing punctuations, removing stop-words etc.\n",
    "- Calculate the distance between \"man\" and \"woman\" in this dataset.\n",
    "- Print out the first 10 most similar words to \"woman\"."
   ]
  }
 ],
 "metadata": {
  "kernelspec": {
   "display_name": "Python 3",
   "language": "python",
   "name": "python3"
  },
  "language_info": {
   "codemirror_mode": {
    "name": "ipython",
    "version": 3
   },
   "file_extension": ".py",
   "mimetype": "text/x-python",
   "name": "python",
   "nbconvert_exporter": "python",
   "pygments_lexer": "ipython3",
   "version": "3.5.1"
  }
 },
 "nbformat": 4,
 "nbformat_minor": 1
}
