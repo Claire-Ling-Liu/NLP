{
 "cells": [
  {
   "cell_type": "markdown",
   "metadata": {},
   "source": [
    "# Iterables: strings, lists, tuples, sets, dictionaries"
   ]
  },
  {
   "cell_type": "code",
   "execution_count": 1,
   "metadata": {
    "collapsed": true
   },
   "outputs": [],
   "source": [
    "#create an empty string\n",
    "s = \"\"\n",
    "#create an unempty string\n",
    "s = \"cat\""
   ]
  },
  {
   "cell_type": "code",
   "execution_count": 2,
   "metadata": {
    "collapsed": true
   },
   "outputs": [],
   "source": [
    "#create an empty list\n",
    "ls = []\n",
    "#create an unempty list\n",
    "ls = [\"cat\", \"dog\"]"
   ]
  },
  {
   "cell_type": "code",
   "execution_count": 3,
   "metadata": {
    "collapsed": true
   },
   "outputs": [],
   "source": [
    "#create an empty tuple\n",
    "tp = ()\n",
    "#create an unempty tuple\n",
    "tp = (\"cat\", \"dog\")"
   ]
  },
  {
   "cell_type": "code",
   "execution_count": 4,
   "metadata": {
    "collapsed": true
   },
   "outputs": [],
   "source": [
    "#create an empty set\n",
    "st = set()\n",
    "#create an unempty set\n",
    "st = {\"cat\", \"dog\"}"
   ]
  },
  {
   "cell_type": "code",
   "execution_count": 5,
   "metadata": {
    "collapsed": true
   },
   "outputs": [],
   "source": [
    "#create an empty dictionary\n",
    "dt = {}\n",
    "#create an unempty dictionary\n",
    "dt = {\"cat\": 4, \"dog\": 3}"
   ]
  },
  {
   "cell_type": "code",
   "execution_count": 6,
   "metadata": {
    "collapsed": false
   },
   "outputs": [
    {
     "name": "stdout",
     "output_type": "stream",
     "text": [
      "{'cat', 'dog'}\n",
      "['cat', 'dog']\n"
     ]
    }
   ],
   "source": [
    "#convert a list to a set or vice versa\n",
    "list2set = set(['cat', 'dog'])\n",
    "print (list2set)\n",
    "\n",
    "set2list = list({'cat', 'dog'})\n",
    "print (set2list)"
   ]
  },
  {
   "cell_type": "code",
   "execution_count": 7,
   "metadata": {
    "collapsed": false
   },
   "outputs": [
    {
     "name": "stdout",
     "output_type": "stream",
     "text": [
      "{'cat': 4, 'dog': 3}\n"
     ]
    }
   ],
   "source": [
    "#convert a list of tuples of two elements each to a dictionary\n",
    "list2dt = dict([('cat', 4), ('dog', 3)])\n",
    "print (list2dt)"
   ]
  },
  {
   "cell_type": "raw",
   "metadata": {},
   "source": [
    "#zip function"
   ]
  },
  {
   "cell_type": "code",
   "execution_count": 8,
   "metadata": {
    "collapsed": false
   },
   "outputs": [
    {
     "name": "stdout",
     "output_type": "stream",
     "text": [
      "[('cat', 4), ('dog', 3)]\n",
      "(('cat', 4), ('dog', 3))\n",
      "{('dog', 3), ('cat', 4)}\n"
     ]
    },
    {
     "data": {
      "text/plain": [
       "{'cat': 4, 'dog': 3}"
      ]
     },
     "execution_count": 8,
     "metadata": {},
     "output_type": "execute_result"
    }
   ],
   "source": [
    "#The zip funtion takes two or more lists (or tuples, or any iterable) and combine them into one list, pairing up items from the two original lists:\n",
    "l1 = ['cat', 'dog']\n",
    "l2 = [4, 3]\n",
    "print (list(zip(l1, l2)))\n",
    "print (tuple(zip(l1, l2)))\n",
    "print (set(zip(l1, l2)))\n",
    "dict(zip(l1, l2)) #if we zip two iterables"
   ]
  },
  {
   "cell_type": "code",
   "execution_count": 9,
   "metadata": {
    "collapsed": false
   },
   "outputs": [
    {
     "name": "stdout",
     "output_type": "stream",
     "text": [
      "[('t', 'h'), ('h', 'i'), ('i', 's'), ('s', ' '), (' ', 'i'), ('i', 's'), ('s', ' '), (' ', 't'), ('t', 'h'), ('h', 'e'), ('e', ' '), (' ', 's'), ('s', 'e'), ('e', 'n'), ('n', 't'), ('t', 'e'), ('e', 'n'), ('n', 'c'), ('c', 'e')]\n"
     ]
    }
   ],
   "source": [
    "#Example:\n",
    "\n",
    "#to produce a list of 2-grams from a text\n",
    "t = \"this is the sentence\"\n",
    "#2gramlist = list(zip(t, t[1:])) # there is error because variable names cannot start with numbers\n",
    "gram2list = list(zip(t, t[1:]))\n",
    "print (gram2list)"
   ]
  },
  {
   "cell_type": "code",
   "execution_count": 10,
   "metadata": {
    "collapsed": false
   },
   "outputs": [
    {
     "name": "stdout",
     "output_type": "stream",
     "text": [
      "[('t', 'h', 'i'), ('h', 'i', 's'), ('i', 's', ' '), ('s', ' ', 'i'), (' ', 'i', 's'), ('i', 's', ' '), ('s', ' ', 't'), (' ', 't', 'h'), ('t', 'h', 'e'), ('h', 'e', ' '), ('e', ' ', 's'), (' ', 's', 'e'), ('s', 'e', 'n'), ('e', 'n', 't'), ('n', 't', 'e'), ('t', 'e', 'n'), ('e', 'n', 'c'), ('n', 'c', 'e')]\n"
     ]
    }
   ],
   "source": [
    "#Question: How about producing a list of 3-grams?\n",
    "\n",
    "#Example Anser:\n",
    "t = \"this is the sentence\"\n",
    "gram3list = list(zip(t, t[1:], t[2:]))\n",
    "print (gram3list)"
   ]
  },
  {
   "cell_type": "raw",
   "metadata": {
    "collapsed": true
   },
   "source": [
    "#List/set/dictionary comprehensions\n",
    "#List comphrehension is a highly valuable technique and can eliminate many lines of code, provide clarity, and avoid bugs"
   ]
  },
  {
   "cell_type": "code",
   "execution_count": 11,
   "metadata": {
    "collapsed": false
   },
   "outputs": [
    {
     "name": "stdout",
     "output_type": "stream",
     "text": [
      "[3, 3, 5]\n",
      "[3, 3, 5]\n"
     ]
    }
   ],
   "source": [
    "#Example:\n",
    "\n",
    "#We have a list of words and want to create a new list that contains the length of each word\n",
    "\n",
    "#-without comprehension\n",
    "wordlist = ['cat', 'dog', 'horse']\n",
    "lengthlist = []\n",
    "for w in wordlist:\n",
    "    lengthlist.append(len(w))\n",
    "print (lengthlist)\n",
    "\n",
    "#-with comprehension\n",
    "lengthlist = [len(w) for w in wordlist]\n",
    "print (lengthlist)"
   ]
  },
  {
   "cell_type": "code",
   "execution_count": 12,
   "metadata": {
    "collapsed": false
   },
   "outputs": [
    {
     "name": "stdout",
     "output_type": "stream",
     "text": [
      "['cat', 'dog']\n"
     ]
    }
   ],
   "source": [
    "#List comphrehension can also be used to filter lists by adding a condition at the end\n",
    "\n",
    "#EXAMPLE\n",
    "#We have a list of words and want to create a new list of only words that are shorter than 5 characters.\n",
    "wordlist = ['cat', 'dog', 'horse']\n",
    "filteredlist = [w for w in wordlist if len(w) < 5]\n",
    "print (filteredlist)"
   ]
  },
  {
   "cell_type": "code",
   "execution_count": 13,
   "metadata": {
    "collapsed": false
   },
   "outputs": [
    {
     "name": "stdout",
     "output_type": "stream",
     "text": [
      "{'cat': 3, 'horse': 5, 'dog': 3}\n"
     ]
    }
   ],
   "source": [
    "#EXAMPLE of dictionary comprehension 1\n",
    "\n",
    "#We have a list of words and want to create a dictionary of key:value as word:word-length from the wordlist\n",
    "wordlist = ['cat', 'dog', 'horse']\n",
    "word_length_dict = {w:len(w) for w in wordlist}\n",
    "print (word_length_dict)"
   ]
  },
  {
   "cell_type": "code",
   "execution_count": 14,
   "metadata": {
    "collapsed": false
   },
   "outputs": [
    {
     "name": "stdout",
     "output_type": "stream",
     "text": [
      "{'cat': 3, 'dog': 3}\n"
     ]
    }
   ],
   "source": [
    "#EXAMPLE of dictionary comprehension 2\n",
    "\n",
    "#We have a list of words and want to create a dictionary of key:value as word:word-length from the wordlist for words that have less than 5 characters\n",
    "wordlist = ['cat', 'dog', 'horse']\n",
    "short_word_length_dict = {w:len(w) for w in wordlist if len(w) < 5}\n",
    "print (short_word_length_dict)"
   ]
  },
  {
   "cell_type": "raw",
   "metadata": {},
   "source": [
    "Exercise 1:\n",
    "\n",
    "#Create a list of bigrams for the string \"this is the sentence\"\n",
    "#i.e. the input is \"this is the sentence\", and the output is [’th’, ’hi’, ’is’, ’s ’, ’ i’, ’is’, ’s ’, ’ t’, ’th’, 'he', 'e ', ’ s’, ’se’, ’en’, ’nt’, ’te’, ’en’, ’nc’, ’ce’]\n",
    "#please use comphrehension"
   ]
  },
  {
   "cell_type": "code",
   "execution_count": 15,
   "metadata": {
    "collapsed": false
   },
   "outputs": [
    {
     "name": "stdout",
     "output_type": "stream",
     "text": [
      "['th', 'hi', 'is', 's ', ' i', 'is', 's ', ' t', 'th', 'he', 'e ', ' s', 'se', 'en', 'nt', 'te', 'en', 'nc', 'ce']\n"
     ]
    }
   ],
   "source": [
    "#Example anser:\n",
    "\n",
    "t = \"this is the sentence\"\n",
    "#gram2list = list(zip(t, t[1:]))\n",
    "#gram2str_list = [x[0]+x[1] for x in gram2list]\n",
    "\n",
    "#a more compact version\n",
    "gram2str_list = [x[0]+x[1] for x in list(zip(t, t[1:]))]\n",
    "print (gram2str_list)"
   ]
  },
  {
   "cell_type": "raw",
   "metadata": {
    "collapsed": false
   },
   "source": [
    "Exercise 2:\n",
    "\n",
    "#Create a list of trigrams for the gettysburg.txt file on the course website (http://verbs.colorado.edu/~mahu0110/teaching/ling5832-2018/data/gettysburg.txt)\n",
    "#i.e. the input is the file gettysburg.txt and the output is ['four score and', 'score and seven', 'and seven years', 'seven years ago', 'years ago our', 'ago our fathers', 'our fathers brought', 'fathers brought forth', 'brought forth on', 'forth on this', 'on this continent', 'this continent a', 'continent a new', 'a new nation', 'new nation conceived', 'nation conceived in'...]\n",
    "#Please use comphrehension"
   ]
  },
  {
   "cell_type": "code",
   "execution_count": 16,
   "metadata": {
    "collapsed": false
   },
   "outputs": [
    {
     "name": "stdout",
     "output_type": "stream",
     "text": [
      "['four score and', 'score and seven', 'and seven years', 'seven years ago', 'years ago our', 'ago our fathers', 'our fathers brought', 'fathers brought forth', 'brought forth on', 'forth on this', 'on this continent', 'this continent a', 'continent a new', 'a new nation', 'new nation conceived', 'nation conceived in', 'conceived in liberty', 'in liberty and', 'liberty and dedicated', 'and dedicated to', 'dedicated to the', 'to the proposition', 'the proposition that', 'proposition that all', 'that all men', 'all men are', 'men are created', 'are created equal', 'created equal now', 'equal now we', 'now we are', 'we are engaged', 'are engaged in', 'engaged in a', 'in a great', 'a great civil', 'great civil war', 'civil war testing', 'war testing whether', 'testing whether that', 'whether that nation', 'that nation or', 'nation or any', 'or any nation', 'any nation so', 'nation so conceived', 'so conceived and', 'conceived and so', 'and so dedicated', 'so dedicated can', 'dedicated can long', 'can long endure', 'long endure we', 'endure we are', 'we are met', 'are met on', 'met on a', 'on a great', 'a great battle-field', 'great battle-field of', 'battle-field of that', 'of that war', 'that war we', 'war we have', 'we have come', 'have come to', 'come to dedicate', 'to dedicate a', 'dedicate a portion', 'a portion of', 'portion of that', 'of that field', 'that field as', 'field as a', 'as a final', 'a final resting', 'final resting place', 'resting place for', 'place for those', 'for those who', 'those who here', 'who here gave', 'here gave their', 'gave their lives', 'their lives that', 'lives that that', 'that that nation', 'that nation might', 'nation might live', 'might live it', 'live it is', 'it is altogether', 'is altogether fitting', 'altogether fitting and', 'fitting and proper', 'and proper that', 'proper that we', 'that we should', 'we should do', 'should do this', 'do this but', 'this but in', 'but in a', 'in a larger', 'a larger sense', 'larger sense we', 'sense we can', 'we can not', 'can not dedicate', 'not dedicate we', 'dedicate we can', 'we can not', 'can not consecrate', 'not consecrate we', 'consecrate we can', 'we can not', 'can not hallow', 'not hallow this', 'hallow this ground', 'this ground the', 'ground the brave', 'the brave men', 'brave men living', 'men living and', 'living and dead', 'and dead who', 'dead who struggled', 'who struggled here', 'struggled here have', 'here have consecrated', 'have consecrated it', 'consecrated it far', 'it far above', 'far above our', 'above our poor', 'our poor power', 'poor power to', 'power to add', 'to add or', 'add or detract', 'or detract the', 'detract the world', 'the world will', 'world will little', 'will little note', 'little note nor', 'note nor long', 'nor long remember', 'long remember what', 'remember what we', 'what we say', 'we say here', 'say here but', 'here but it', 'but it can', 'it can never', 'can never forget', 'never forget what', 'forget what they', 'what they did', 'they did here', 'did here it', 'here it is', 'it is for', 'is for us', 'for us the', 'us the living', 'the living rather', 'living rather to', 'rather to be', 'to be dedicated', 'be dedicated here', 'dedicated here to', 'here to the', 'to the unfinished', 'the unfinished work', 'unfinished work which', 'work which they', 'which they who', 'they who fought', 'who fought here', 'fought here have', 'here have thus', 'have thus far', 'thus far so', 'far so nobly', 'so nobly advanced', 'nobly advanced it', 'advanced it is', 'it is rather', 'is rather for', 'rather for us', 'for us to', 'us to be', 'to be here', 'be here dedicated', 'here dedicated to', 'dedicated to the', 'to the great', 'the great task', 'great task remaining', 'task remaining before', 'remaining before us', 'before us that', 'us that from', 'that from these', 'from these honored', 'these honored dead', 'honored dead we', 'dead we take', 'we take increased', 'take increased devotion', 'increased devotion to', 'devotion to that', 'to that cause', 'that cause for', 'cause for which', 'for which they', 'which they gave', 'they gave the', 'gave the last', 'the last full', 'last full measure', 'full measure of', 'measure of devotion', 'of devotion that', 'devotion that we', 'that we here', 'we here highly', 'here highly resolve', 'highly resolve that', 'resolve that these', 'that these dead', 'these dead shall', 'dead shall not', 'shall not have', 'not have died', 'have died in', 'died in vain', 'in vain that', 'vain that this', 'that this nation', 'this nation under', 'nation under god', 'under god shall', 'god shall have', 'shall have a', 'have a new', 'a new birth', 'new birth of', 'birth of freedom', 'of freedom and', 'freedom and that', 'and that government', 'that government of', 'government of the', 'of the people', 'the people by', 'people by the', 'by the people', 'the people for', 'people for the', 'for the people', 'the people shall', 'people shall not', 'shall not perish', 'not perish from', 'perish from the', 'from the earth']\n"
     ]
    }
   ],
   "source": [
    "#Example anser:\n",
    "\n",
    "\"\"\"lines = [line.strip() for line in open(\"gettysburg.txt\")]\n",
    "wordlist = []\n",
    "for line in lines:\n",
    "    line = line.split()\n",
    "    wordlist.extend(line)\n",
    "\"\"\"\n",
    "\n",
    "wordlist = []\n",
    "for line in open(\"gettysburg.txt\"):\n",
    "    line = line.strip().split()\n",
    "    wordlist.extend(line)\n",
    "\n",
    "\n",
    "#gram3list = list(zip(wordlist, wordlist[1:], wordlist[2:]))\n",
    "#gram3str_list = [' '.join(w for w in x) for x in gram3list]\n",
    "\n",
    "#a more compact version\n",
    "gram3str_list = [x[0]+' '+ x[1]+' '+x[2] for x in list(zip(wordlist, wordlist[1:], wordlist[2:]))]\n",
    "print (gram3str_list)\n",
    "\n"
   ]
  },
  {
   "cell_type": "markdown",
   "metadata": {
    "collapsed": true
   },
   "source": [
    "# Convert finite automata into regex\n",
    "\n",
    "According to Kleene's Theorem, any finite automaton can be expressed by an regular expression, and vice versa.\n"
   ]
  },
  {
   "cell_type": "raw",
   "metadata": {},
   "source": [
    "Exercises:\n",
    "Please convert the following finite automata into regular expressions, and describe in plain words what string sets they represent."
   ]
  },
  {
   "cell_type": "markdown",
   "metadata": {},
   "source": [
    "![title](img/FA1.png)"
   ]
  },
  {
   "cell_type": "raw",
   "metadata": {
    "collapsed": true
   },
   "source": [
    "\\bab.*\n",
    "#a string that has an \"a\" at the beginning followed by at least one \"b\""
   ]
  },
  {
   "cell_type": "markdown",
   "metadata": {
    "collapsed": false
   },
   "source": [
    "![title](img/FA2.png)"
   ]
  },
  {
   "cell_type": "raw",
   "metadata": {},
   "source": [
    "\\b.*ab.*\\b\n",
    "#a string that has contains \"a\" followed by at least one \"b\" OR in other words, a string that contains \"ab\""
   ]
  },
  {
   "cell_type": "markdown",
   "metadata": {},
   "source": [
    "![title](img/FA3.png)"
   ]
  },
  {
   "cell_type": "raw",
   "metadata": {},
   "source": [
    "\\b.*ab*.*\\b\n",
    "#a string that contains an \"a\" followed by zero or more b's"
   ]
  },
  {
   "cell_type": "markdown",
   "metadata": {},
   "source": [
    "![title](img/FA4.png)"
   ]
  },
  {
   "cell_type": "raw",
   "metadata": {},
   "source": [
    "\\b([^a]*ab[^a]*)*\\b\n",
    "#a string that does not contain an \"a\" unless \"a\" is followed by \"b\""
   ]
  },
  {
   "cell_type": "markdown",
   "metadata": {},
   "source": [
    "![title](img/FA5.png)"
   ]
  },
  {
   "cell_type": "raw",
   "metadata": {},
   "source": [
    "\\ba.*b\\b\n",
    "#a string that begins with and ends with b"
   ]
  },
  {
   "cell_type": "markdown",
   "metadata": {},
   "source": [
    "# Regular expressions in Python and the re module"
   ]
  },
  {
   "cell_type": "code",
   "execution_count": 1,
   "metadata": {
    "collapsed": true
   },
   "outputs": [],
   "source": [
    "#raw Python string: r\"\"\n",
    "#grouping\n",
    "#re.findall()\n",
    "#re.search() --focus\n",
    "#re.findall()\n",
    "#re.match()\n",
    "#re.sub()"
   ]
  },
  {
   "cell_type": "raw",
   "metadata": {},
   "source": [
    "#Raw Python string\n",
    "\n",
    "#When writing regular expression in Python, it is recommended that you use raw strings instead of regular Python strings. \n",
    "#Raw strings begin with a special prefix (r) and signal Python not to interpret backslashes and special metacharacters in the string, allowing you to pass them through directly to the regular expression engine.\n",
    "#This means that a pattern like \"\\n\\w\" will not be interpreted and can be written as r\"\\n\\w\" instead of \"\\\\n\\\\w\"as in other languages, which is much easier to read."
   ]
  },
  {
   "cell_type": "raw",
   "metadata": {},
   "source": [
    "#Grouping ()"
   ]
  },
  {
   "cell_type": "raw",
   "metadata": {},
   "source": [
    "# re.findall(pattern, string[, flags])\n",
    "\n",
    "#It returns all non-overlapping matches of pattern in string, as a list of strings. The string is scanned left-to-right, and matches are returned in the order in which they are found"
   ]
  },
  {
   "cell_type": "code",
   "execution_count": 35,
   "metadata": {
    "collapsed": false
   },
   "outputs": [
    {
     "name": "stdout",
     "output_type": "stream",
     "text": [
      "['fat', 'cat', 'eat', 'oat', 'rat', 'eat']\n"
     ]
    }
   ],
   "source": [
    "import re\n",
    "\n",
    "t = \"A fat cat doesn't eat oat but a rat eats bats.\"\n",
    "print (re.findall(\"[force]at\", t))"
   ]
  },
  {
   "cell_type": "raw",
   "metadata": {},
   "source": [
    "#If one or more groups are present in the pattern, re.findall returns a list of groups. This will be a list of tuples if the pattern has more than one group."
   ]
  },
  {
   "cell_type": "code",
   "execution_count": 37,
   "metadata": {
    "collapsed": false
   },
   "outputs": [
    {
     "name": "stdout",
     "output_type": "stream",
     "text": [
      "['Python Training Course for Beginners: 15/Aug/2011 - 19/Aug/2011;', 'Python Training Course Intermediate: 12/Dec/2011 - 16/Dec/2011;', 'Python Text Processing Course: 31/Oct/2011 - 4/Nov/2011']\n",
      "[('Python Training Course for Beginners', '15/Aug/2011 - 19/Aug/2011;'), ('Python Training Course Intermediate', '12/Dec/2011 - 16/Dec/2011;'), ('Python Text Processing Course', '31/Oct/2011 - 4/Nov/2011')]\n"
     ]
    }
   ],
   "source": [
    "#EXAMPLE:\n",
    "\n",
    "#We have a long string with various Python training courses and their dates. \n",
    "courses = \"Python Training Course for Beginners: 15/Aug/2011 - 19/Aug/2011;Python Training Course Intermediate: 12/Dec/2011 - 16/Dec/2011;Python Text Processing Course: 31/Oct/2011 - 4/Nov/2011\"\n",
    "\n",
    "#With the following use of re.findall, we don't use any grouping and receive the complete string as a result. \n",
    "items = re.findall(\"[^:]*: [^;]*;?\", courses)\n",
    "print (items)\n",
    "\n",
    "#In the next call to re.findall, we use grouping and findall returns a list of 2-tuples, each having the course name as the first component and the dates as the second component\n",
    "items = re.findall(\"([^:]*): ([^;]*;?)\", courses)\n",
    "print (items)"
   ]
  },
  {
   "cell_type": "raw",
   "metadata": {},
   "source": [
    "# re.search(expr, s)\n",
    "\n",
    "#It checks a string s for an occurrence of a substring which matches the regular expression expr. The first substring (from left), which satisfies this condition will be returned. If a match has been possible, we get a so-called match object as a result, otherwise the value will be None."
   ]
  },
  {
   "cell_type": "code",
   "execution_count": 20,
   "metadata": {
    "collapsed": false
   },
   "outputs": [
    {
     "name": "stdout",
     "output_type": "stream",
     "text": [
      "<_sre.SRE_Match object; span=(2, 5), match='cat'>\n"
     ]
    }
   ],
   "source": [
    "import re\n",
    "\n",
    "x = re.search(r\"cat\", \"A cat and a rat can't be friends.\")\n",
    "print (x)"
   ]
  },
  {
   "cell_type": "code",
   "execution_count": 21,
   "metadata": {
    "collapsed": false
   },
   "outputs": [
    {
     "name": "stdout",
     "output_type": "stream",
     "text": [
      "None\n"
     ]
    }
   ],
   "source": [
    "y = re.search(r\"cow\", \"A cat and a rat can't be friends.\")\n",
    "print (y)"
   ]
  },
  {
   "cell_type": "raw",
   "metadata": {},
   "source": [
    "# re.search(expr, s) can be used in conditional statements: If a regular expression matches, we get an SRE object returned, whihc is taken as a True value, and if it doesn't match, we get None, whihc is taken as False."
   ]
  },
  {
   "cell_type": "code",
   "execution_count": 22,
   "metadata": {
    "collapsed": false
   },
   "outputs": [
    {
     "name": "stdout",
     "output_type": "stream",
     "text": [
      "Some kind of cat has been found.\n"
     ]
    }
   ],
   "source": [
    "if re.search(\"cat\", \"A cat and a rat can't be friends.\"):\n",
    "    print (\"Some kind of cat has been found.\")\n",
    "else:\n",
    "    print (\"No cat has been found.\")"
   ]
  },
  {
   "cell_type": "code",
   "execution_count": 23,
   "metadata": {
    "collapsed": false
   },
   "outputs": [
    {
     "name": "stdout",
     "output_type": "stream",
     "text": [
      "No cow has been found.\n"
     ]
    }
   ],
   "source": [
    "if re.search(\"cow\", \"A cat and a rat can't be friends.\"):\n",
    "    print (\"Some kind of cow has been found.\")\n",
    "else:\n",
    "    print (\"No cow has been found.\")"
   ]
  },
  {
   "cell_type": "raw",
   "metadata": {},
   "source": [
    "Exercise 1:\n",
    "\n",
    "#read in the file \"simpsons_phone_book.txt\" at https://www.python-course.eu/simpsons_phone_book.txt\n",
    "#find and print out as a list lines for people whose last name is Neu and first name starts with a J in tje file \"simpsons_phone_book.txt\",\n",
    "#i.e your output should be \n",
    "#['Jack Neu 555-7666', 'Jeb Neu 555-5543', 'Jennifer Neu 555-3652']"
   ]
  },
  {
   "cell_type": "code",
   "execution_count": 24,
   "metadata": {
    "collapsed": false
   },
   "outputs": [
    {
     "name": "stdout",
     "output_type": "stream",
     "text": [
      "['Jack Neu 555-7666', 'Jeb Neu 555-5543', 'Jennifer Neu 555-3652']\n"
     ]
    }
   ],
   "source": [
    "#Exampe Answer:\n",
    "\n",
    "import re\n",
    "print ([line.strip() for line in open('simpsons_phone_book.txt') if re.search(r\"J.*Neu\", line)])"
   ]
  },
  {
   "cell_type": "code",
   "execution_count": 25,
   "metadata": {
    "collapsed": false
   },
   "outputs": [
    {
     "name": "stdout",
     "output_type": "stream",
     "text": [
      "Jack Neu 555-7666\n",
      "Jeb Neu 555-5543\n",
      "Jennifer Neu 555-3652\n"
     ]
    }
   ],
   "source": [
    "#Extension\n",
    "#Instead of downloading simpsons_phone_book.txt, we can use the file directly from the website by using urlopen from the module urllib.request\n",
    "\n",
    "import re\n",
    "from urllib.request import urlopen\n",
    "\n",
    "#print ([line.strip() for line in urlopen('https://www.python-course.eu/simpsons_phone_book.txt') if re.search(r\"J.*Neu\", line)])\n",
    "#this does not work because what urlopen returns is a bytes-like object\n",
    "\n",
    "with urlopen('https://www.python-course.eu/simpsons_phone_book.txt') as f:\n",
    "    for line in f:\n",
    "        # line is a byte string so we transform it to utf-8:\n",
    "        line = line.decode('utf-8').strip() \n",
    "        if re.search(r\"J.*Neu\",line):\n",
    "            print(line)"
   ]
  },
  {
   "cell_type": "raw",
   "metadata": {},
   "source": [
    "#A match object re.search(expr, s) contains the methods group(), span(), start(), and end()"
   ]
  },
  {
   "cell_type": "code",
   "execution_count": 26,
   "metadata": {
    "collapsed": false
   },
   "outputs": [
    {
     "name": "stdout",
     "output_type": "stream",
     "text": [
      "<_sre.SRE_Match object; span=(17, 48), match='232454, Date: February 12, 2011'>\n"
     ]
    }
   ],
   "source": [
    "s = \"Customer number: 232454, Date: February 12, 2011\"\n",
    "mo = re.search(\"([0-9]+).*: (.*)\", s)\n",
    "print (mo)"
   ]
  },
  {
   "cell_type": "code",
   "execution_count": 27,
   "metadata": {
    "collapsed": false
   },
   "outputs": [
    {
     "data": {
      "text/plain": [
       "'232454, Date: February 12, 2011'"
      ]
     },
     "execution_count": 27,
     "metadata": {},
     "output_type": "execute_result"
    }
   ],
   "source": [
    "mo.group()"
   ]
  },
  {
   "cell_type": "code",
   "execution_count": 28,
   "metadata": {
    "collapsed": false
   },
   "outputs": [
    {
     "data": {
      "text/plain": [
       "'232454'"
      ]
     },
     "execution_count": 28,
     "metadata": {},
     "output_type": "execute_result"
    }
   ],
   "source": [
    "mo.group(1)  #numbering for group() starts with 1, not 0\n",
    "#to the the substring matched by the first grouping parenthesis\n",
    "#i.e. ([0-9]+)"
   ]
  },
  {
   "cell_type": "code",
   "execution_count": 29,
   "metadata": {
    "collapsed": false
   },
   "outputs": [
    {
     "data": {
      "text/plain": [
       "'February 12, 2011'"
      ]
     },
     "execution_count": 29,
     "metadata": {},
     "output_type": "execute_result"
    }
   ],
   "source": [
    "mo.group(2)\n",
    "#to the the substring matched by the first grouping parenthesis\n",
    "#i.e. (.*)"
   ]
  },
  {
   "cell_type": "code",
   "execution_count": 30,
   "metadata": {
    "collapsed": false
   },
   "outputs": [
    {
     "data": {
      "text/plain": [
       "('232454', 'February 12, 2011')"
      ]
     },
     "execution_count": 30,
     "metadata": {},
     "output_type": "execute_result"
    }
   ],
   "source": [
    "mo.group(1, 2)"
   ]
  },
  {
   "cell_type": "code",
   "execution_count": 31,
   "metadata": {
    "collapsed": false
   },
   "outputs": [],
   "source": [
    "#Example:\n",
    "\n",
    "#An XML or HTML tag is usually like this <A>B</A>. For example \"<composer>Wolfgang Amadeus Mozart</composer>\".\n",
    "#Let's supposed A's and B's are strings consisting of only letters or space. \n",
    "\n",
    "#Please print out the A and B parts in the string \"<composer>Wolfgang Amadeus Mozart</composer>\""
   ]
  },
  {
   "cell_type": "code",
   "execution_count": 32,
   "metadata": {
    "collapsed": false
   },
   "outputs": [
    {
     "name": "stdout",
     "output_type": "stream",
     "text": [
      "composer\n",
      "Wolfgang Amadeus Mozart\n"
     ]
    }
   ],
   "source": [
    "#r\"<([a-zA-Z ]+)>[a-zA-Z ]+</\\1>\"\n",
    "\n",
    "g = re.search(r\"<([a-zA-Z ]+)>([a-zA-Z ]+)</\\1>\", \"<composer>Wolfgang Amadeus Mozart</composer>\")\n",
    "print (g.group(1))\n",
    "print (g.group(2))"
   ]
  },
  {
   "cell_type": "raw",
   "metadata": {},
   "source": [
    "Exercise 2:\n",
    "\n",
    "We have a list of elements like XML or HTML tags:\n",
    "\n",
    "[\"<composer>Wolfgang Amadeus Mozart</composer>\", \"<author>Samuel Beckett</author>\", \"<city>London</city>\"]\n",
    "\n",
    "We want to reformat these tags automatically to \n",
    "\n",
    "composer: Wolfgang Amadeus Mozart\n",
    "author: Samuel Beckett\n",
    "city: London\n",
    "\n",
    "and save the output into \"tags_formated.txt\".\n",
    "\n",
    "Please solve the problem in at least two different ways.\n",
    "For example, one way is to use the re.search() method, another way is to use the re.findall() method. Please also think about alternative solutions and discuss with each other."
   ]
  },
  {
   "cell_type": "code",
   "execution_count": 34,
   "metadata": {
    "collapsed": false
   },
   "outputs": [
    {
     "name": "stdout",
     "output_type": "stream",
     "text": [
      "composer: Wolfgang Amadeus Mozart\n",
      "author: Samuel Beckett\n",
      "city: London\n"
     ]
    }
   ],
   "source": [
    "#Example Answer:\n",
    "\n",
    "import re\n",
    "tags = [\"<composer>Wolfgang Amadeus Mozart</composer>\", \"<author>Samuel Beckett</author>\", \"<city>London</city>\"]\n",
    "fw = open(\"tags_formated.txt\", \"w\")\n",
    "for i in tags:\n",
    "    res = re.search(r\"<([a-z]+)>(.*)</\\1>\", i) #it works\n",
    "    #res = re.search(\"<([a-z]+)>(.*)</\\\\1>\", i) #it works\n",
    "    #res = re.search(\"<([a-z]+)>(.*)</\\1>\", i) #this one does not work, because of slash \\\n",
    "                                               #\"raw Python strings\" vs \"regular Python strings\"\n",
    "                                               #r\"\" changes string into raw Python strings\n",
    "    #newform = res.group(1) + \": \" + res.group(2)\n",
    "    #fw.write(newform + \"\\n\")\n",
    "    fw.write(res.group(1) + \": \" + res.group(2) + \"\\n\") #??? why does this not write to the output file?\n",
    "    print (res.group(1) + \": \" + res.group(2))\n",
    "\n",
    "#fw.close()\n",
    "\n",
    "fw.flush() # later more things can be written into the output file."
   ]
  },
  {
   "cell_type": "code",
   "execution_count": 40,
   "metadata": {
    "collapsed": false
   },
   "outputs": [
    {
     "name": "stdout",
     "output_type": "stream",
     "text": [
      "composer: Wolfgang Amadeus Mozart\n",
      "author: Samuel Beckett\n",
      "city: London\n"
     ]
    }
   ],
   "source": [
    "#Example Answer 2:\n",
    "import re\n",
    "tags = [\"<composer>Wolfgang Amadeus Mozart</composer>\", \"<author>Samuel Beckett</author>\", \"<city>London</city>\"]\n",
    "for i in tags:\n",
    "    res = re.findall(r\"<([a-z]+)>(.*)</\\1>\", i) #it works\n",
    "    for item in res:\n",
    "        print (item[0] + \": \" + item[1])\n"
   ]
  },
  {
   "cell_type": "code",
   "execution_count": null,
   "metadata": {
    "collapsed": true
   },
   "outputs": [],
   "source": []
  }
 ],
 "metadata": {
  "kernelspec": {
   "display_name": "Python 3",
   "language": "python",
   "name": "python3"
  },
  "language_info": {
   "codemirror_mode": {
    "name": "ipython",
    "version": 3
   },
   "file_extension": ".py",
   "mimetype": "text/x-python",
   "name": "python",
   "nbconvert_exporter": "python",
   "pygments_lexer": "ipython3",
   "version": "3.5.1"
  }
 },
 "nbformat": 4,
 "nbformat_minor": 1
}
