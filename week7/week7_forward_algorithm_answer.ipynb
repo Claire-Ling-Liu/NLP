{
 "cells": [
  {
   "cell_type": "markdown",
   "metadata": {},
   "source": [
    "# Forward algorithm"
   ]
  },
  {
   "cell_type": "markdown",
   "metadata": {},
   "source": [
    "### Three classical problems related to HMMs"
   ]
  },
  {
   "cell_type": "markdown",
   "metadata": {},
   "source": [
    "<img src=\"img/img1.png\" alt=\"Drawing\" style=\"width: 800px;\"/>"
   ]
  },
  {
   "cell_type": "markdown",
   "metadata": {},
   "source": [
    "### Forward vs Viterbi"
   ]
  },
  {
   "cell_type": "markdown",
   "metadata": {},
   "source": [
    "<img src=\"img/img2.png\" alt=\"Drawing\" style=\"width: 800px;\"/>"
   ]
  },
  {
   "cell_type": "markdown",
   "metadata": {},
   "source": [
    " "
   ]
  },
  {
   "cell_type": "markdown",
   "metadata": {},
   "source": [
    "## Exercise:"
   ]
  },
  {
   "cell_type": "markdown",
   "metadata": {},
   "source": [
    "### 1. "
   ]
  },
  {
   "cell_type": "markdown",
   "metadata": {},
   "source": [
    "Given the HMM in figure 1, what's the probability of generating the string \"abb\"?\n",
    "The complete trellis for generating \"abb\" is expect to be figure 6. The empty cell can be thought of having a probability of 0.\n",
    "\n",
    "\n",
    "<img src=\"img/img3.png\" alt=\"Drawing\" style=\"width: 400px;\"/>\n",
    "\n",
    "\n",
    "<img src=\"img/img4.png\" alt=\"Drawing\" style=\"width: 500px;\"/>"
   ]
  },
  {
   "cell_type": "markdown",
   "metadata": {},
   "source": [
    "### 2. "
   ]
  },
  {
   "cell_type": "markdown",
   "metadata": {},
   "source": [
    "Given the data in the same file as for Assignment#3, i.e. wsj00-18.tag, what's the probability of the following sentence? \n",
    "\n",
    "\"This might produce a result if the system works well .\"\n",
    "\n",
    "Please use HMM to solve this problem. \n",
    "\n",
    "To make it simple, you don't need to do any smoothing of the emissions or transitions, and you don't need to use log probability either.\n",
    "\n",
    "\n",
    "#### The probablity for the sentence is expected to be 2.2060186902221032e-29\n"
   ]
  },
  {
   "cell_type": "markdown",
   "metadata": {},
   "source": [
    "### Example solutions:"
   ]
  },
  {
   "cell_type": "markdown",
   "metadata": {},
   "source": [
    "### 1. "
   ]
  },
  {
   "cell_type": "code",
   "execution_count": 96,
   "metadata": {
    "collapsed": true
   },
   "outputs": [],
   "source": [
    "taglist = [0, 1, 2, 3]\n",
    "wlist = 'a b b'.split()\n",
    "transprobs = {(0, 1):0.4, (0, 2):0.6, (1, 1):0.3, (1, 2):0.5, (1,3):0.2, (2, 1):0.3, (2, 2):0.1, (2, 3):0.6}\n",
    "emsprobs = {(0, ''):1, (3, ''):1, (1, 'a'):0.75, (1, 'b'):0.25, (2, 'a'):0.65, (2, 'b'):0.35}"
   ]
  },
  {
   "cell_type": "code",
   "execution_count": 97,
   "metadata": {
    "collapsed": true
   },
   "outputs": [],
   "source": [
    "def forward(taglist, wlist, transprobs, emsprobs):\n",
    "    wlist = [''] + wlist + ['']\n",
    "    probdict = {}\n",
    "    bpointerdict = {}\n",
    "    probdict[0] = [1.0] + [0]*(len(taglist)-1)\n",
    "    bpointerdict[0] = [0]*len(taglist)\n",
    "    for y in range(1, len(wlist)):\n",
    "        probdict[y] = []\n",
    "        word = wlist[y]\n",
    "        for x in range(0, len(taglist)):\n",
    "            tag_now = taglist[x]\n",
    "            sumprob = 0\n",
    "            for z in range(0, len(taglist)):\n",
    "                tag_pre = taglist[z]\n",
    "                prob = probdict[y-1][z]*transprobs.get((tag_pre, tag_now), 0.0)*emsprobs.get((tag_now, word), 0.0)\n",
    "                sumprob += prob\n",
    "            probdict[y].append(sumprob)\n",
    "    #print (probdict)\n",
    "    return round(probdict[len(wlist)-1][len(taglist)-1], 5)"
   ]
  },
  {
   "cell_type": "code",
   "execution_count": 98,
   "metadata": {
    "collapsed": false
   },
   "outputs": [
    {
     "name": "stdout",
     "output_type": "stream",
     "text": [
      "0.00859\n"
     ]
    }
   ],
   "source": [
    "print (forward(taglist, wlist, transprobs, emsprobs))"
   ]
  },
  {
   "cell_type": "markdown",
   "metadata": {},
   "source": [
    "### 2. abbreviated"
   ]
  }
 ],
 "metadata": {
  "celltoolbar": "Raw Cell Format",
  "kernelspec": {
   "display_name": "Python 3",
   "language": "python",
   "name": "python3"
  },
  "language_info": {
   "codemirror_mode": {
    "name": "ipython",
    "version": 3
   },
   "file_extension": ".py",
   "mimetype": "text/x-python",
   "name": "python",
   "nbconvert_exporter": "python",
   "pygments_lexer": "ipython3",
   "version": "3.5.1"
  }
 },
 "nbformat": 4,
 "nbformat_minor": 1
}
